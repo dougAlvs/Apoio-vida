{
  "cells": [
    {
      "cell_type": "markdown",
      "metadata": {
        "id": "2dmrRcJKyFWC"
      },
      "source": [
        "# Notebook para Pré-Processamento de Dados"
      ]
    },
    {
      "cell_type": "markdown",
      "metadata": {
        "id": "owFB4zLoyFWD"
      },
      "source": [
        "## Importação das Bibliotecas"
      ]
    },
    {
      "cell_type": "code",
      "execution_count": 3,
      "metadata": {
        "id": "YvA7I71lyFWE"
      },
      "outputs": [],
      "source": [
        "import pandas as pd\n",
        "import matplotlib.pylab as plt\n",
        "import numpy as np\n",
        "from sklearn.impute import SimpleImputer\n",
        "from sklearn.preprocessing import StandardScaler\n",
        "import pickle"
      ]
    },
    {
      "cell_type": "markdown",
      "metadata": {
        "id": "72cfwSnyyFWE"
      },
      "source": [
        "## Load dos dados intermediários"
      ]
    },
    {
      "cell_type": "code",
      "execution_count": 4,
      "metadata": {
        "colab": {
          "base_uri": "https://localhost:8080/",
          "height": 687
        },
        "id": "2IhiuuzWyFWE",
        "outputId": "228f621d-00d6-43af-dffa-ea0f9faa118a"
      },
      "outputs": [
        {
          "name": "stderr",
          "output_type": "stream",
          "text": [
            "/tmp/ipykernel_7586/1099342527.py:1: DtypeWarning: Columns (9) have mixed types. Specify dtype option on import or set low_memory=False.\n",
            "  df = pd.read_csv(\"../data/interim/suicidios_2010_a_2019.csv\")\n"
          ]
        },
        {
          "data": {
            "text/html": [
              "<div>\n",
              "<style scoped>\n",
              "    .dataframe tbody tr th:only-of-type {\n",
              "        vertical-align: middle;\n",
              "    }\n",
              "\n",
              "    .dataframe tbody tr th {\n",
              "        vertical-align: top;\n",
              "    }\n",
              "\n",
              "    .dataframe thead th {\n",
              "        text-align: right;\n",
              "    }\n",
              "</style>\n",
              "<table border=\"1\" class=\"dataframe\">\n",
              "  <thead>\n",
              "    <tr style=\"text-align: right;\">\n",
              "      <th></th>\n",
              "      <th>Unnamed: 0</th>\n",
              "      <th>estado</th>\n",
              "      <th>ano</th>\n",
              "      <th>mes</th>\n",
              "      <th>DTOBITO</th>\n",
              "      <th>DTNASC</th>\n",
              "      <th>SEXO</th>\n",
              "      <th>RACACOR</th>\n",
              "      <th>ASSISTMED</th>\n",
              "      <th>ESCMAE</th>\n",
              "      <th>ESTCIV</th>\n",
              "      <th>ESC</th>\n",
              "      <th>OCUP</th>\n",
              "      <th>CODMUNRES</th>\n",
              "      <th>CAUSABAS</th>\n",
              "      <th>CAUSABAS_O</th>\n",
              "      <th>LOCOCOR</th>\n",
              "      <th>CIRURGIA</th>\n",
              "    </tr>\n",
              "  </thead>\n",
              "  <tbody>\n",
              "    <tr>\n",
              "      <th>0</th>\n",
              "      <td>1</td>\n",
              "      <td>AC</td>\n",
              "      <td>2010</td>\n",
              "      <td>1</td>\n",
              "      <td>2010-01-31</td>\n",
              "      <td>1999-11-09</td>\n",
              "      <td>Masculino</td>\n",
              "      <td>Parda</td>\n",
              "      <td>NaN</td>\n",
              "      <td>NaN</td>\n",
              "      <td>Solteiro/a</td>\n",
              "      <td>1 a 3 anos</td>\n",
              "      <td>ESTUDANTE</td>\n",
              "      <td>Tarauacá</td>\n",
              "      <td>X780</td>\n",
              "      <td>X780</td>\n",
              "      <td>Via pública</td>\n",
              "      <td>Não</td>\n",
              "    </tr>\n",
              "    <tr>\n",
              "      <th>1</th>\n",
              "      <td>2</td>\n",
              "      <td>AC</td>\n",
              "      <td>2010</td>\n",
              "      <td>2</td>\n",
              "      <td>2010-02-07</td>\n",
              "      <td>1985-09-23</td>\n",
              "      <td>Masculino</td>\n",
              "      <td>Parda</td>\n",
              "      <td>NaN</td>\n",
              "      <td>NaN</td>\n",
              "      <td>Solteiro/a</td>\n",
              "      <td>1 a 3 anos</td>\n",
              "      <td>ESTUDANTE</td>\n",
              "      <td>Tarauacá</td>\n",
              "      <td>X780</td>\n",
              "      <td>X780</td>\n",
              "      <td>Hospital</td>\n",
              "      <td>Não</td>\n",
              "    </tr>\n",
              "    <tr>\n",
              "      <th>2</th>\n",
              "      <td>3</td>\n",
              "      <td>AC</td>\n",
              "      <td>2010</td>\n",
              "      <td>2</td>\n",
              "      <td>2010-02-19</td>\n",
              "      <td>1995-08-06</td>\n",
              "      <td>Masculino</td>\n",
              "      <td>Parda</td>\n",
              "      <td>NaN</td>\n",
              "      <td>NaN</td>\n",
              "      <td>Solteiro/a</td>\n",
              "      <td>1 a 3 anos</td>\n",
              "      <td>ESTUDANTE</td>\n",
              "      <td>Tarauacá</td>\n",
              "      <td>X780</td>\n",
              "      <td>X780</td>\n",
              "      <td>Hospital</td>\n",
              "      <td>Não</td>\n",
              "    </tr>\n",
              "    <tr>\n",
              "      <th>3</th>\n",
              "      <td>4</td>\n",
              "      <td>AC</td>\n",
              "      <td>2010</td>\n",
              "      <td>4</td>\n",
              "      <td>2010-04-20</td>\n",
              "      <td>1983-12-25</td>\n",
              "      <td>Feminino</td>\n",
              "      <td>Parda</td>\n",
              "      <td>NaN</td>\n",
              "      <td>NaN</td>\n",
              "      <td>Casado/a</td>\n",
              "      <td>1 a 3 anos</td>\n",
              "      <td>DONA DE CASA</td>\n",
              "      <td>Tarauacá</td>\n",
              "      <td>X780</td>\n",
              "      <td>X780</td>\n",
              "      <td>Domicílio</td>\n",
              "      <td>Não</td>\n",
              "    </tr>\n",
              "    <tr>\n",
              "      <th>4</th>\n",
              "      <td>5</td>\n",
              "      <td>AC</td>\n",
              "      <td>2010</td>\n",
              "      <td>7</td>\n",
              "      <td>2010-07-24</td>\n",
              "      <td>1982-05-13</td>\n",
              "      <td>Masculino</td>\n",
              "      <td>Parda</td>\n",
              "      <td>NaN</td>\n",
              "      <td>NaN</td>\n",
              "      <td>Casado/a</td>\n",
              "      <td>NaN</td>\n",
              "      <td>DONA DE CASA</td>\n",
              "      <td>Tarauacá</td>\n",
              "      <td>X720</td>\n",
              "      <td>X720</td>\n",
              "      <td>Domicílio</td>\n",
              "      <td>Não</td>\n",
              "    </tr>\n",
              "    <tr>\n",
              "      <th>...</th>\n",
              "      <td>...</td>\n",
              "      <td>...</td>\n",
              "      <td>...</td>\n",
              "      <td>...</td>\n",
              "      <td>...</td>\n",
              "      <td>...</td>\n",
              "      <td>...</td>\n",
              "      <td>...</td>\n",
              "      <td>...</td>\n",
              "      <td>...</td>\n",
              "      <td>...</td>\n",
              "      <td>...</td>\n",
              "      <td>...</td>\n",
              "      <td>...</td>\n",
              "      <td>...</td>\n",
              "      <td>...</td>\n",
              "      <td>...</td>\n",
              "      <td>...</td>\n",
              "    </tr>\n",
              "    <tr>\n",
              "      <th>112486</th>\n",
              "      <td>112487</td>\n",
              "      <td>TO</td>\n",
              "      <td>2019</td>\n",
              "      <td>9</td>\n",
              "      <td>2019-09-14</td>\n",
              "      <td>1991-08-10</td>\n",
              "      <td>Feminino</td>\n",
              "      <td>Parda</td>\n",
              "      <td>Sim</td>\n",
              "      <td>NaN</td>\n",
              "      <td>Solteiro/a</td>\n",
              "      <td>4 a 7 anos</td>\n",
              "      <td>COZINHEIRO GERAL</td>\n",
              "      <td>Colinas do Tocantins</td>\n",
              "      <td>X700</td>\n",
              "      <td>X700</td>\n",
              "      <td>Outros</td>\n",
              "      <td>NaN</td>\n",
              "    </tr>\n",
              "    <tr>\n",
              "      <th>112487</th>\n",
              "      <td>112488</td>\n",
              "      <td>TO</td>\n",
              "      <td>2019</td>\n",
              "      <td>9</td>\n",
              "      <td>2019-09-26</td>\n",
              "      <td>1967-02-17</td>\n",
              "      <td>Feminino</td>\n",
              "      <td>Parda</td>\n",
              "      <td>NaN</td>\n",
              "      <td>NaN</td>\n",
              "      <td>Solteiro/a</td>\n",
              "      <td>4 a 7 anos</td>\n",
              "      <td>DONA DE CASA</td>\n",
              "      <td>Santa fé do Araguaia</td>\n",
              "      <td>X700</td>\n",
              "      <td>X700</td>\n",
              "      <td>Domicílio</td>\n",
              "      <td>NaN</td>\n",
              "    </tr>\n",
              "    <tr>\n",
              "      <th>112488</th>\n",
              "      <td>112489</td>\n",
              "      <td>TO</td>\n",
              "      <td>2019</td>\n",
              "      <td>8</td>\n",
              "      <td>2019-08-07</td>\n",
              "      <td>1977-07-20</td>\n",
              "      <td>Masculino</td>\n",
              "      <td>Branca</td>\n",
              "      <td>Não</td>\n",
              "      <td>NaN</td>\n",
              "      <td>Casado/a</td>\n",
              "      <td>8 a 11 anos</td>\n",
              "      <td>COPEIRO</td>\n",
              "      <td>Araguaína</td>\n",
              "      <td>X700</td>\n",
              "      <td>X700</td>\n",
              "      <td>Domicílio</td>\n",
              "      <td>NaN</td>\n",
              "    </tr>\n",
              "    <tr>\n",
              "      <th>112489</th>\n",
              "      <td>112490</td>\n",
              "      <td>TO</td>\n",
              "      <td>2019</td>\n",
              "      <td>10</td>\n",
              "      <td>2019-10-04</td>\n",
              "      <td>1978-05-03</td>\n",
              "      <td>Masculino</td>\n",
              "      <td>Parda</td>\n",
              "      <td>Sim</td>\n",
              "      <td>NaN</td>\n",
              "      <td>Casado/a</td>\n",
              "      <td>NaN</td>\n",
              "      <td>NaN</td>\n",
              "      <td>Divinópolis do Tocantins</td>\n",
              "      <td>X729</td>\n",
              "      <td>X729</td>\n",
              "      <td>Hospital</td>\n",
              "      <td>NaN</td>\n",
              "    </tr>\n",
              "    <tr>\n",
              "      <th>112490</th>\n",
              "      <td>112491</td>\n",
              "      <td>TO</td>\n",
              "      <td>2019</td>\n",
              "      <td>9</td>\n",
              "      <td>2019-09-27</td>\n",
              "      <td>1975-06-12</td>\n",
              "      <td>Masculino</td>\n",
              "      <td>Parda</td>\n",
              "      <td>Sim</td>\n",
              "      <td>NaN</td>\n",
              "      <td>Solteiro/a</td>\n",
              "      <td>1 a 3 anos</td>\n",
              "      <td>IGNORADA</td>\n",
              "      <td>Augustinópolis</td>\n",
              "      <td>X700</td>\n",
              "      <td>X700</td>\n",
              "      <td>Domicílio</td>\n",
              "      <td>NaN</td>\n",
              "    </tr>\n",
              "  </tbody>\n",
              "</table>\n",
              "<p>112491 rows × 18 columns</p>\n",
              "</div>"
            ],
            "text/plain": [
              "        Unnamed: 0 estado   ano  mes     DTOBITO      DTNASC       SEXO  \\\n",
              "0                1     AC  2010    1  2010-01-31  1999-11-09  Masculino   \n",
              "1                2     AC  2010    2  2010-02-07  1985-09-23  Masculino   \n",
              "2                3     AC  2010    2  2010-02-19  1995-08-06  Masculino   \n",
              "3                4     AC  2010    4  2010-04-20  1983-12-25   Feminino   \n",
              "4                5     AC  2010    7  2010-07-24  1982-05-13  Masculino   \n",
              "...            ...    ...   ...  ...         ...         ...        ...   \n",
              "112486      112487     TO  2019    9  2019-09-14  1991-08-10   Feminino   \n",
              "112487      112488     TO  2019    9  2019-09-26  1967-02-17   Feminino   \n",
              "112488      112489     TO  2019    8  2019-08-07  1977-07-20  Masculino   \n",
              "112489      112490     TO  2019   10  2019-10-04  1978-05-03  Masculino   \n",
              "112490      112491     TO  2019    9  2019-09-27  1975-06-12  Masculino   \n",
              "\n",
              "       RACACOR ASSISTMED ESCMAE      ESTCIV          ESC              OCUP  \\\n",
              "0        Parda       NaN    NaN  Solteiro/a   1 a 3 anos         ESTUDANTE   \n",
              "1        Parda       NaN    NaN  Solteiro/a   1 a 3 anos         ESTUDANTE   \n",
              "2        Parda       NaN    NaN  Solteiro/a   1 a 3 anos         ESTUDANTE   \n",
              "3        Parda       NaN    NaN    Casado/a   1 a 3 anos      DONA DE CASA   \n",
              "4        Parda       NaN    NaN    Casado/a          NaN      DONA DE CASA   \n",
              "...        ...       ...    ...         ...          ...               ...   \n",
              "112486   Parda       Sim    NaN  Solteiro/a   4 a 7 anos  COZINHEIRO GERAL   \n",
              "112487   Parda       NaN    NaN  Solteiro/a   4 a 7 anos      DONA DE CASA   \n",
              "112488  Branca       Não    NaN    Casado/a  8 a 11 anos           COPEIRO   \n",
              "112489   Parda       Sim    NaN    Casado/a          NaN               NaN   \n",
              "112490   Parda       Sim    NaN  Solteiro/a   1 a 3 anos          IGNORADA   \n",
              "\n",
              "                       CODMUNRES CAUSABAS CAUSABAS_O      LOCOCOR CIRURGIA  \n",
              "0                       Tarauacá     X780       X780  Via pública      Não  \n",
              "1                       Tarauacá     X780       X780     Hospital      Não  \n",
              "2                       Tarauacá     X780       X780     Hospital      Não  \n",
              "3                       Tarauacá     X780       X780    Domicílio      Não  \n",
              "4                       Tarauacá     X720       X720    Domicílio      Não  \n",
              "...                          ...      ...        ...          ...      ...  \n",
              "112486      Colinas do Tocantins     X700       X700       Outros      NaN  \n",
              "112487      Santa fé do Araguaia     X700       X700    Domicílio      NaN  \n",
              "112488                 Araguaína     X700       X700    Domicílio      NaN  \n",
              "112489  Divinópolis do Tocantins     X729       X729     Hospital      NaN  \n",
              "112490            Augustinópolis     X700       X700    Domicílio      NaN  \n",
              "\n",
              "[112491 rows x 18 columns]"
            ]
          },
          "execution_count": 4,
          "metadata": {},
          "output_type": "execute_result"
        }
      ],
      "source": [
        "df = pd.read_csv(\"../data/interim/suicidios_2010_a_2019.csv\")\n",
        "df"
      ]
    },
    {
      "cell_type": "markdown",
      "metadata": {
        "id": "eekyVSGq_t_7"
      },
      "source": [
        "## Feature Selection"
      ]
    },
    {
      "cell_type": "markdown",
      "metadata": {
        "id": "UPN3IdIO_0_t"
      },
      "source": [
        "* Durante o pré-processamente, identificou-se que algumas colunas que ainda estavam nos dados intermediários não eram tão pertinentes a solução da problemática. São elas as colunas: DTOBITO, HORAOBITO, LOCOCOR, ASSISTMED.\n",
        "\n",
        "* As features DTOBITO e HORAOBITO representam informações temporais dos óbitos, enquanto LOCOCOR E ASSISTMED são características de localidade e circustância. Contudo, já que o objetivo do projeto e identificar pessoas vulneráveis ao suícidio para conscientizar e evitar fatalidades, essas informações acabam não contribuindo. Por isso optou-se por removê-las da base."
      ]
    },
    {
      "cell_type": "code",
      "execution_count": 5,
      "metadata": {
        "colab": {
          "base_uri": "https://localhost:8080/"
        },
        "id": "kfBdgZ8kGem9",
        "outputId": "e9fec176-d045-40e7-c24b-71c71c7240d2"
      },
      "outputs": [
        {
          "data": {
            "text/plain": [
              "Index(['Unnamed: 0', 'estado', 'ano', 'mes', 'DTOBITO', 'DTNASC', 'SEXO',\n",
              "       'RACACOR', 'ASSISTMED', 'ESCMAE', 'ESTCIV', 'ESC', 'OCUP', 'CODMUNRES',\n",
              "       'CAUSABAS', 'CAUSABAS_O', 'LOCOCOR', 'CIRURGIA'],\n",
              "      dtype='object')"
            ]
          },
          "execution_count": 5,
          "metadata": {},
          "output_type": "execute_result"
        }
      ],
      "source": [
        "df.columns"
      ]
    },
    {
      "cell_type": "code",
      "execution_count": 6,
      "metadata": {
        "id": "I5vUBEjfCkeP"
      },
      "outputs": [],
      "source": [
        "df = df.drop(columns=['Unnamed: 0', 'ano', 'mes', 'ASSISTMED', 'ESCMAE', 'CODMUNRES', 'CAUSABAS_O', 'LOCOCOR', 'CIRURGIA'])"
      ]
    },
    {
      "cell_type": "markdown",
      "metadata": {
        "id": "7ql8Qf6MyFWF"
      },
      "source": [
        "## Tratamento de valores nulos e remoção de outliers"
      ]
    },
    {
      "cell_type": "markdown",
      "metadata": {
        "id": "TbudWJfuys99"
      },
      "source": [
        "* Diversas colunas apresentam valores nulos,simplesmente remover as linhas com essas valores causaria uma grande perda de sinal.\n",
        "Algumas estratégias devem ser adotadas para preservar a maior qtd. de sinal possível mantendo a maior fidelidade possível com os dados originais."
      ]
    },
    {
      "cell_type": "code",
      "execution_count": 7,
      "metadata": {
        "colab": {
          "base_uri": "https://localhost:8080/"
        },
        "id": "x7WVIuJ9yFWF",
        "outputId": "ea1261a7-994f-4310-c298-4774e47a697f"
      },
      "outputs": [
        {
          "data": {
            "text/plain": [
              "estado          0\n",
              "DTOBITO         0\n",
              "DTNASC      10858\n",
              "SEXO           22\n",
              "RACACOR      3171\n",
              "ESTCIV       8700\n",
              "ESC         28164\n",
              "OCUP        52217\n",
              "CAUSABAS        0\n",
              "dtype: int64"
            ]
          },
          "execution_count": 7,
          "metadata": {},
          "output_type": "execute_result"
        }
      ],
      "source": [
        "df.isnull().sum()"
      ]
    },
    {
      "cell_type": "code",
      "execution_count": 8,
      "metadata": {
        "colab": {
          "base_uri": "https://localhost:8080/"
        },
        "id": "I2jLyfb425Y3",
        "outputId": "83f8837d-ea24-4803-9147-5d459070639a"
      },
      "outputs": [
        {
          "name": "stdout",
          "output_type": "stream",
          "text": [
            "<class 'pandas.core.frame.DataFrame'>\n",
            "RangeIndex: 112491 entries, 0 to 112490\n",
            "Data columns (total 9 columns):\n",
            " #   Column    Non-Null Count   Dtype \n",
            "---  ------    --------------   ----- \n",
            " 0   estado    112491 non-null  object\n",
            " 1   DTOBITO   112491 non-null  object\n",
            " 2   DTNASC    101633 non-null  object\n",
            " 3   SEXO      112469 non-null  object\n",
            " 4   RACACOR   109320 non-null  object\n",
            " 5   ESTCIV    103791 non-null  object\n",
            " 6   ESC       84327 non-null   object\n",
            " 7   OCUP      60274 non-null   object\n",
            " 8   CAUSABAS  112491 non-null  object\n",
            "dtypes: object(9)\n",
            "memory usage: 7.7+ MB\n"
          ]
        }
      ],
      "source": [
        "df.info()"
      ]
    },
    {
      "cell_type": "markdown",
      "metadata": {
        "id": "2DXKZ32y0dNf"
      },
      "source": [
        "### Escolaridade"
      ]
    },
    {
      "cell_type": "markdown",
      "metadata": {
        "id": "DqzJuyGF0gjM"
      },
      "source": [
        "* No processo de EDA da base, identificou-se que essa feature é representada pela seguinte legenda:\n",
        "  * 1: Nenhuma\n",
        "  * 2: 1 a 3 anos\n",
        "  * 3: 4 a 7 anos\n",
        "  * 4: 8 a 11 anos\n",
        "  * 5: 12 e mais\n",
        "  * 9: Ignorado\n",
        "\n",
        "* Para essa feature, pareceu razoável substituir as linhas com valores nulos pela médias dos outros valores da coluna. Contudo, pelo fato dos casos ignorados serem representados por um valor maior que todos os outros (valor igual a 9), o grupo optou por substituí-lo por um valor mais baixo (0) e depois aplicar a média para os nulos."
      ]
    },
    {
      "cell_type": "code",
      "execution_count": 9,
      "metadata": {
        "colab": {
          "base_uri": "https://localhost:8080/"
        },
        "id": "rRrdTEfN6UO9",
        "outputId": "3eac4368-deb0-457c-d93f-07136fc521f0"
      },
      "outputs": [
        {
          "data": {
            "text/plain": [
              "(28164,\n",
              " ESC\n",
              " 4 a 7 anos     27278\n",
              " 8 a 11 anos    25947\n",
              " 1 a 3 anos     15992\n",
              " 12 e mais       9915\n",
              " Nenhuma         5195\n",
              " Name: count, dtype: int64)"
            ]
          },
          "execution_count": 9,
          "metadata": {},
          "output_type": "execute_result"
        }
      ],
      "source": [
        "# Distribuição dos valores nulos e não-nulos na coluna\n",
        "# Cabe-se observar a presença de valores iguais a 0, o que não faz parte dos limites encontrados na EDA\n",
        "# Logo esses valores iguais a 0 são 'outliers' e devem ser descartados\n",
        "df['ESC'].isnull().sum(), df['ESC'].value_counts()"
      ]
    },
    {
      "cell_type": "code",
      "execution_count": 10,
      "metadata": {
        "id": "5fNAcidaSNu3"
      },
      "outputs": [],
      "source": [
        " df['ESC'] = df['ESC'].map({'Nenhuma': 1, '1 a 3 anos': 2, '4 a 7 anos': 3, '8 a 11 anos': 4, '12 e mais': 5})"
      ]
    },
    {
      "cell_type": "code",
      "execution_count": 11,
      "metadata": {
        "id": "zGnzZkfPyFWI"
      },
      "outputs": [],
      "source": [
        "# Instanciação da classe para substituir os valores nulos\n",
        "imputer = SimpleImputer(missing_values=np.nan, strategy='mean')"
      ]
    },
    {
      "cell_type": "code",
      "execution_count": 12,
      "metadata": {
        "id": "rGl4KSeNyFWI"
      },
      "outputs": [],
      "source": [
        "# Usa o imputer para substituir os valores nulos pela média\n",
        "imputer = imputer.fit(df[['ESC']])\n",
        "df['ESC'] = imputer.transform(df[['ESC']])"
      ]
    },
    {
      "cell_type": "code",
      "execution_count": 13,
      "metadata": {
        "colab": {
          "base_uri": "https://localhost:8080/"
        },
        "id": "WupNMsCq4nqb",
        "outputId": "25725b1b-4592-4851-e460-889c1699fc3f"
      },
      "outputs": [
        {
          "data": {
            "text/plain": [
              "(0,\n",
              " ESC\n",
              " 3.229998    28164\n",
              " 3.000000    27278\n",
              " 4.000000    25947\n",
              " 2.000000    15992\n",
              " 5.000000     9915\n",
              " 1.000000     5195\n",
              " Name: count, dtype: int64)"
            ]
          },
          "execution_count": 13,
          "metadata": {},
          "output_type": "execute_result"
        }
      ],
      "source": [
        "# Distribuição dos valores nulos e não-nulos na coluna\n",
        "df['ESC'].isnull().sum(), df['ESC'].value_counts()"
      ]
    },
    {
      "cell_type": "markdown",
      "metadata": {
        "id": "3CTL0A4z4z14"
      },
      "source": [
        "### Estado Civil"
      ]
    },
    {
      "cell_type": "markdown",
      "metadata": {
        "id": "3uaXxUpO43Ao"
      },
      "source": [
        "* No processo de EDA da base, identificou-se que essa feature é representada pela seguinte legenda:\n",
        "  * 1: Solteiro\n",
        "  * 2: Casado\n",
        "  * 3: Viúvo\n",
        "  * 4: Separado judicialmente\n",
        "  * 9: Ignorado\n",
        "\n",
        "* Para essa feature, adotou-se a estratégia de considerar todos os casos nulos como ignorados (valor igual a 9)."
      ]
    },
    {
      "cell_type": "code",
      "execution_count": 14,
      "metadata": {
        "colab": {
          "base_uri": "https://localhost:8080/"
        },
        "id": "z3azC66S5r2a",
        "outputId": "93381a36-4ad5-401d-ae79-690051be4a7c"
      },
      "outputs": [
        {
          "data": {
            "text/plain": [
              "(8700,\n",
              " ESTCIV\n",
              " Solteiro/a                  56523\n",
              " Casado/a                    30001\n",
              " Separado/a judicialmente     7771\n",
              " União consensual             5280\n",
              " Viúvo/a                      4216\n",
              " Name: count, dtype: int64)"
            ]
          },
          "execution_count": 14,
          "metadata": {},
          "output_type": "execute_result"
        }
      ],
      "source": [
        "# Distribuição dos valores nulos e não-nulos na coluna\n",
        "# Cabe-se observar a presença de valores iguais a 5, o que não faz parte dos limites encontrados na EDA\n",
        "# Logo esses valores iguais a 5 são 'outliers' e devem ser descartados\n",
        "df['ESTCIV'].isnull().sum(), df['ESTCIV'].value_counts()"
      ]
    },
    {
      "cell_type": "code",
      "execution_count": 15,
      "metadata": {
        "id": "Iu-StaX-aW6X"
      },
      "outputs": [],
      "source": [
        " df['ESTCIV'] = df['ESTCIV'].map({'Solteiro/a': 1, 'Casado/a': 2, 'Viúvo/a': 3, 'Separado/a judicialmente': 4, 'União consensual': 9})"
      ]
    },
    {
      "cell_type": "code",
      "execution_count": 16,
      "metadata": {
        "colab": {
          "base_uri": "https://localhost:8080/"
        },
        "id": "jlV2an02bcSO",
        "outputId": "c16779de-8767-4c08-f37c-d7d5117ef6a0"
      },
      "outputs": [
        {
          "data": {
            "text/plain": [
              "(8700,\n",
              " ESTCIV\n",
              " 1.0    56523\n",
              " 2.0    30001\n",
              " 4.0     7771\n",
              " 9.0     5280\n",
              " 3.0     4216\n",
              " Name: count, dtype: int64)"
            ]
          },
          "execution_count": 16,
          "metadata": {},
          "output_type": "execute_result"
        }
      ],
      "source": [
        "df['ESTCIV'].isnull().sum(), df['ESTCIV'].value_counts()"
      ]
    },
    {
      "cell_type": "code",
      "execution_count": 17,
      "metadata": {
        "id": "uQJcq0sG5hfM"
      },
      "outputs": [],
      "source": [
        "# Considera todos os casos nulos como ignorados\n",
        "df['ESTCIV'] = df['ESTCIV'].fillna(9)"
      ]
    },
    {
      "cell_type": "markdown",
      "metadata": {
        "id": "JyovBFoc8DWp"
      },
      "source": [
        "### Ocupação"
      ]
    },
    {
      "cell_type": "markdown",
      "metadata": {
        "id": "jyzEU9zl8E0M"
      },
      "source": [
        "* No processo de EDA da base, identificou-se que essa feature representa a ocupação do falecido conforme a Classificação Brasileira de Ocupações (CBO-2002).\n",
        "\n",
        "* Dito isso, a estratégia adotada foi a de substituir os valores nulos por um valor que já não estivesse presente na coluna e que pudesse caracterizar uma ocupação desconhecida, -1 foi o valor escolhido."
      ]
    },
    {
      "cell_type": "code",
      "execution_count": 18,
      "metadata": {
        "id": "2jmIlzZWAzmD"
      },
      "outputs": [],
      "source": [
        "ocup_map = {\n",
        "    'desconhecido': -1,\n",
        "    'estudante': -1,\n",
        "    'dona de casa': -1,\n",
        "    'aposentado/pensionista': -1,\n",
        "    'representante comercial autonomo': 3541,\n",
        "    'trabalhador agropecuario em geral': 6220,\n",
        "    'pescador artesanal de agua doce': 5193,\n",
        "    'professor da educacao do ensino fundamental': 2341,\n",
        "    'borracheiro': 8485,\n",
        "    'gari': 5193,\n",
        "    'produtor agricola polivalente': 6220,\n",
        "    'caseiro (agricultura)': 6220,\n",
        "    'garimpeiro': 5193,\n",
        "    'empregado domestico nos servicos gerais': 5121,\n",
        "    'carpinteiro': 7711,\n",
        "    'conferente de carga e descarga': 4141,\n",
        "    'soldador': 7243,\n",
        "    'montador de equipamentos eletronicos (maquinas industriais)': 7253,\n",
        "    'supervisor de almoxarifado': 3541,\n",
        "    'vendedor ambulante': 5191,\n",
        "    'eletricista de instalacoes': 9511,\n",
        "    'desempregado cronico ': -1,\n",
        "    'operador de colhedor florestal': 6320,\n",
        "    'cozinheiro geral': 5134,\n",
        "    'operador de telemarketing ativo': 4223,\n",
        "    'mecanico de manutencao de automoveis e motocicletas ': 9131,\n",
        "    'vendedor em domicilio': 5211,\n",
        "    'motorista de carro de passeio': 7823,\n",
        "    'garcom': 5134,\n",
        "    'auxiliar de escritorio, em geral': 4110,\n",
        "    'biologo': 2121,\n",
        "    'gesseiro': 7212,\n",
        "    'gerente comercial': 1421,\n",
        "    'produtor agropecuario, em geral': 6220,\n",
        "    'ajudante de motorista': 5191,\n",
        "    'dirigente do servico publico municipal': 1112,\n",
        "    'motorista de taxi': 7823,\n",
        "    'cafeicultor': 6220,\n",
        "    'comerciante atacadista': 1422,\n",
        "    'guarda-civil municipal': 5174,\n",
        "    'professor de nivel medio no ensino fundamental': 2342,\n",
        "    'ignorada': -1,\n",
        "    'lustrador de pecas de madeira': 7542,\n",
        "    'localizador (cobrador)': 3541,\n",
        "    'marceneiro': 7711,\n",
        "    'feirante': 5191,\n",
        "    'carteiro': 5193,\n",
        "    'trabalhador da cultura de milho e sorgo': 6220,\n",
        "    'trabalhador na olericultura (frutos e sementes)': 6220,\n",
        "    'barbeiro': 5161,\n",
        "    'agente de viagem': 3543,\n",
        "    'mecanico de manutencao de aeronaves, em geral': 9144,\n",
        "    'artesao modelador (vidros)': -1,\n",
        "    'auxiliar de producao farmaceutica': 7842,\n",
        "    'porteiro (hotel)': 5174,\n",
        "    'desenhista tecnico': 3185,\n",
        "    'dirigente do servico publico federal': 1112,\n",
        "    'encarregado de acabamento de chapas e metais (tempera)': 7212,\n",
        "    'pescador industrial': 6322,\n",
        "    'catador de material reciclavel': 5191,\n",
        "    'passador de roupas em geral': 5163,\n",
        "    'auxiliar de lavanderia': 5163,\n",
        "    'ferramenteiro': 7233,\n",
        "    'cobrador de transportes coletivos (exceto trem)': 7825,\n",
        "    'alimentador de linha de producao': 7842,\n",
        "    'operador de monta-cargas (construcao civil)': 7824,\n",
        "    'atendente de lanchonete': 5134,\n",
        "    'artista (artes visuais)': 2627,\n",
        "    'empresario de espetaculo': 1223,\n",
        "    'medico clinico': 2252,\n",
        "    'tecnico de manutencao eletronica': 3132,\n",
        "    'advogado': 2410,\n",
        "    'professor de disciplinas pedagogicas no ensino medio': 2342,\n",
        "    'padeiro': 8483,\n",
        "    'trabalhador da manutencao de edificacoes': 5143,\n",
        "    'administrador': 2521,\n",
        "    'arquiteto de edificacoes': 2141,\n",
        "    'jornalista': 2613,\n",
        "    'analista de sistemas de automacao': 2122,\n",
        "    'continuo': 4211,\n",
        "    'secretaria executiva': 2523,\n",
        "    'economista': 2515,\n",
        "    'armador de estrutura de concreto': 7153,\n",
        "    'auxiliar geral de conservacao de vias permanentes ': 5143,\n",
        "    'repositor de mercadorias': 5211,\n",
        "    'trabalhador da pecuaria (bovinos leite)': 6210,\n",
        "    'auxiliar de servicos de importacao e exportacao': 4110,\n",
        "    'assistente social': 2516,\n",
        "    'pedagogo': 2394,\n",
        "    'professor de ciencias exatas e naturais do ensino fundamental': 2342,\n",
        "    'tecnico de enfermagem': 3222,\n",
        "    'assistente de laboratorio industrial': 3116,\n",
        "    'trabalhador de tratamento do leite ': 8483,\n",
        "    'frentista': 5191,\n",
        "    'bobinador eletricista, a mao': 9511,\n",
        "    'operador de maquinas de construcao civil e mineracao': 7152,\n",
        "    'ourives': 7243,\n",
        "    'operador polivalente da industria textil': 7823,\n",
        "    'abatedor': 7842,\n",
        "    'operador de caixa': 4211,\n",
        "    'cabo da policia militar': 5174,\n",
        "    'mecanico de manutencao de maquinas, em geral': 9144,\n",
        "    'trabalhador da cultura de arroz': 6210,\n",
        "    'lavador de veiculos': 5191,\n",
        "    'tecnico de operacoes e servicos bancarios - renda fixa e variavel': 3135,\n",
        "    'vaqueador de couros e peles': 5191,\n",
        "    'fiscal de aviacao civil (fac)': 5112,\n",
        "    'tecnico agricola': 3112,\n",
        "    'boiadeiro': 6320,\n",
        "    'tratorista agricola': 6320,\n",
        "    'diretor comercial': 1421,\n",
        "    'seringueiro': 6322,\n",
        "    'vendedor permissionario': 5211,\n",
        "    'desossador': 5134,\n",
        "    'medico cardiologista': 2252,\n",
        "    'telefonista': 4221,\n",
        "    'eletrotecnico': 3131,\n",
        "    'cobrador externo': 4223,\n",
        "    'agente comunitario de saude': 5151,\n",
        "    'tecnico em seguranca no trabalho': 3516,\n",
        "    'operador de escavadeira': 7151,\n",
        "    'trabalhador de pecuaria polivalente': 6220,\n",
        "    'funileiro de veiculos (reparacao)': 9144,\n",
        "    'copiador de chapa': 4122,\n",
        "    'mestre (construcao civil)': 7151,\n",
        "    'tecnico em radiologia e imagenologia': 3241,\n",
        "    'engenheiro civil': 2143,\n",
        "    'marcador de produtos (siderurgico e metalurgico)': 7243,\n",
        "    'costureira de reparacao de roupas': 7632,\n",
        "    'trabalhador de servicos de manutencao de edificios': 5143,\n",
        "    'cirurgiao dentista - clinico geral': 2234,\n",
        "    'calceteiro': 5141,\n",
        "    'professor de lingua inglesa': 2332,\n",
        "    'atleta profissional (outras modalidades)': 2239,\n",
        "    'defensor publico': 2410,\n",
        "    'galvanizador': 7511,\n",
        "    'montador de moveis e artefatos de madeira': 7711,\n",
        "    'delegado de policia': 2410,\n",
        "    'supervisor de carga e descarga': 4102,\n",
        "    'eletricista de instalacoes (aeronaves)': 3151,\n",
        "    'empregado domestico faxineiro': 5121,\n",
        "    'instrutor de auto-escola': 3422,\n",
        "    'tecelao (tear manual)': 7642,\n",
        "    'vidraceiro': 7234,\n",
        "    'agente de seguranca penitenciaria': 5171,\n",
        "    'refinador de oleo e gordura': 8122,\n",
        "    'supervisor administrativo': 1210,\n",
        "    'operador de colheitadeira': 6323,\n",
        "    'corretor de imoveis': 3541,\n",
        "    'mecanico de manutencao de aparelhos de climatizacao ': 9532,\n",
        "    'gerente de logistica (armazenagem e distribuicao)': 1416,\n",
        "    'almoxarife': 4141,\n",
        "    'analista financeiro (instituicoes financeiras)': 2514,\n",
        "    'tecelao (rendas e bordados)': 7633,\n",
        "    'ajudante de despachante aduaneiro': 5198,\n",
        "    'tecelao (redes)': 7633,\n",
        "    'trabalhador da cultura de especiarias': 6110,\n",
        "    'supervisor da manutencao e reparacao de veiculos leves': 9102,\n",
        "    'soldador eletrico': 7243,\n",
        "    'enfermeiro': 2235,\n",
        "    'tecnico de telecomunicacoes (telefonia)': 3131,\n",
        "    'moldador, a mao': 7221,\n",
        "    'vendedor em comercio atacadista': 5211,\n",
        "    'programador visual grafico': 2614,\n",
        "    'eletricista de bordo': 3185,\n",
        "    'costureiro de roupas de couro e pele': 7643,\n",
        "    'professor de nivel medio na educacao infantil': 2342,\n",
        "    'pintor de veiculos (reparacao)': 9112,\n",
        "    'eletricista de manutencao eletroeletronica': 3132,\n",
        "    'passadeira de pecas confeccionadas': 5162,\n",
        "    'atendente comercial (agencia postal)': 4110,\n",
        "    'funileiro industrial': 7233,\n",
        "    'mecanico de veiculos automotores a diesel (exceto tratores)': 9113,\n",
        "    'recepcionista, em geral': 4221,\n",
        "    'pintor de letreiros': 7233,\n",
        "    'professores de cursos livres': 2394,\n",
        "    'engraxate': 5199,\n",
        "    'polidor de metais': 7232,\n",
        "    'auditor-fiscal da previdencia social': 2411,\n",
        "    'caminhoneiro autonomo (rotas regionais e internacionais)': 7825,\n",
        "    'operador de maquina bordatriz': 8112,\n",
        "    'farmaceutico': 2232,\n",
        "    'medico veterinario': 2252,\n",
        "    'embalador, a mao': 7841,\n",
        "    'baba': 5162,\n",
        "    'medico anestesiologista': 2251,\n",
        "    'perito criminal': 2410,\n",
        "    'operador de maquina de cordoalha': 7242,\n",
        "    'copeiro': 5134,\n",
        "    'trabalhador de fabricacao de sorvete': 7841,\n",
        "    'tecnico de contabilidade': 3541,\n",
        "    'operador de laminador': 8111,\n",
        "    'fundidor de metais': 7232,\n",
        "    'agente funerario': 5199,\n",
        "    'impressor (serigrafia)': 7731,\n",
        "    'professor de outras linguas e literaturas': 2394,\n",
        "    'vendedor pracista': 5211,\n",
        "    'gerente de producao e operacoes': 1425,\n",
        "    'auxiliar de corte (preparacao da confeccao de roupas)': 5162,\n",
        "    'agente publicitario': 3541,\n",
        "    'atendente de consultorio dentario': 3221,\n",
        "    'gerente administrativo': 1222,\n",
        "    'agente de defesa ambiental': 5141,\n",
        "    'promotor de vendas': 3541,\n",
        "    'marmorista (construcao)': 7151,\n",
        "    'fiscal de transportes coletivos (exceto trem)': 4110,\n",
        "    'coletor de lixo': 5199,\n",
        "    'musico interprete cantor': 2627,\n",
        "    'gerente de servicos culturais': 1425,\n",
        "    'mergulhador profissional (raso e profundo)': 7155,\n",
        "    'mecanico de manutencao de maquinas cortadoras de grama': 9112,\n",
        "    'corretor de seguros': 3541,\n",
        "    'agente de policia federal': 5171,\n",
        "    'subtenente da policia militar': 5171,\n",
        "    'engenheiro mecanico': 2142,\n",
        "    'assentador de canalizacao (edificacoes)': 7151,\n",
        "    'tecnico em manutencao de equipamentos e instrumentos medico': 3141,\n",
        "    'trabalhador polivalente da confeccao de calcados': 5162,\n",
        "    'contramestre de acabamento (industria textil)': 7632,\n",
        "    'operador de open-end': 7612,\n",
        "    'professor de ensino superior na area de didatica': 2342,\n",
        "    'auxiliar de faturamento': 4110,\n",
        "    'medico gastroenterologista': 2252,\n",
        "    'geologo': 2141,\n",
        "    'assistente de vendas': 5211,\n",
        "    'escriturario de banco': 4110,\n",
        "    'tecelao (tear automatico)': 7632,\n",
        "    'auxiliar de enfermagem do trabalho': 3222,\n",
        "    'trabalhador do acabamento de artefatos de tecidos e couros': 5162,\n",
        "    'chapeador': 7233,\n",
        "    'massagista': 3222,\n",
        "    'montador de andaimes (edificacoes)': 7151,\n",
        "    'forneiro e operador (alto-forno)': 8111,\n",
        "    'motorista de onibus rodoviario': 7823,\n",
        "    'gerente de marketing': 1425,\n",
        "    'operador de acabamento (industria grafica)': 8213,\n",
        "    'operador de urdideira': 7633,\n",
        "    'esteticista': 3222,\n",
        "    'cabo bombeiro militar': 5171,\n",
        "    'operador de fresadora (usinagem de madeira)': 7232,\n",
        "    'designer de interiores': 2624,\n",
        "    'chefe de servicos bancarios': 1210,\n",
        "    'cortador de pedras': 7222,\n",
        "    'operador de trator florestal': 6323,\n",
        "    'montador de maquinas': 7242,\n",
        "    'escolhedor de papel': 7842,\n",
        "    'costureiro, a maquina na confeccao em serie': 7632,\n",
        "    'promotor de justica': 2622,\n",
        "    'oleiro (fabricacao de telhas)': 7522,\n",
        "    'quimico': 2111,\n",
        "    'mecanico de manutencao de motocicletas': 9144,\n",
        "    'tecnico em administracao': 4110,\n",
        "    'fotografo': 2623,\n",
        "    'inspetor de qualidade': 2149,\n",
        "    'tecnico eletronico': 3132,\n",
        "    'operador de producao (quimica, petroquimica e afins)': 8621,\n",
        "    'administrador de sistemas operacionais': 2121,\n",
        "    'camareiro de hotel': 5134,\n",
        "    'operador de maquinas-ferramenta convencionais': 7244,\n",
        "    'dirigente e administrador de organizacao da sociedade civil': 1210,\n",
        "    'projetista de moveis': 2134,\n",
        "    'programador de maquinas com comando numerico': 3171,\n",
        "    'diretor de planejamento estrategico': 1425,\n",
        "    'tecnico em turismo': 3541,\n",
        "    'escriturario em estatistica': 4110,\n",
        "    'operador de trator de lamina': 6323,\n",
        "    'ajudante de carvoaria': 6323,\n",
        "    'impressor de ofsete (plano e rotativo)': 7731,\n",
        "    'bioengenheiro': 2132,\n",
        "    'alfaiate': 5162,\n",
        "    'condutor de veiculos de tracao animal (ruas e estradas)': 7823,\n",
        "    'tecnico de laboratorio industrial': 3144,\n",
        "    'lavador de roupas': 5162,\n",
        "    'pesquisador em ciencias da computacao e informatica': 2122,\n",
        "    'encarregado de corte na confeccao do vestuario': 5162,\n",
        "    'desenhista projetista de arquitetura': 2146,\n",
        "    'operador de maquina cortadora (minas e pedreiras)': 7121,\n",
        "    'gerente financeiro': 1222,\n",
        "    'analista de desenvolvimento de sistemas': 2124,\n",
        "    'supervisor de recepcionistas': 4211,\n",
        "    'chaveiro': 5199,\n",
        "    'engenheiros de sistemas operacionais em computacao': 2122,\n",
        "    'diretor de servicos de informatica': 1221,\n",
        "    'torneiro (lavra de pedra)': 7121,\n",
        "    'pesquisador de engenharia metalurgica, de minas e de materiais': 2141,\n",
        "    'gerente de loja e supermercado': 1423,\n",
        "    'operador de trator (minas e pedreiras)': 6323,\n",
        "    'instalador-reparador de equipamentos de transmissao ': 5223,\n",
        "    'tecnico mecanico (calefacao, ventilacao e refrigeracao)': 3111,\n",
        "    'decorador de interiores de nivel superior': 2624,\n",
        "    'maquiador': 5151,\n",
        "    'produtor de especiarias': 6221,\n",
        "    'encarregado de manutencao de instrumentos de medicao': 3132,\n",
        "    'trabalhador da pecuaria (asininos e muares)': 6221,\n",
        "    'carregador (veiculos de transportes terrestres)': 7841,\n",
        "    'engenheiro civil (edificacoes)': 2142,\n",
        "    'auxiliar tecnico em laboratorio de farmacia': 3222,\n",
        "    'professor da area de meio ambiente': 2342,\n",
        "    'acabador de calcados': 5162,\n",
        "    'professor de lingua portuguesa': 2344,\n",
        "    'porteiro de locais de diversao': 5171,\n",
        "    'forneiro de fundicao (forno de reducao)': 7122,\n",
        "    'atendente de judiciario': 4211,\n",
        "    'cirurgiao dentista - odontologista legal': 2231,\n",
        "    'fisico': 2111,\n",
        "    'auditor-fiscal do trabalho': 2515,\n",
        "    'gerente de producao e operacoes agropecuarias': 1425,\n",
        "    'auxiliar de laboratorio de analises clinicas': 3241,\n",
        "    'professor de nivel superior na educacao infantil': 2344,\n",
        "    'despachante documentalista': 3542,\n",
        "    'fisioterapeuta': 2235,\n",
        "    'leiloeiro': 3541,\n",
        "    'montador de equipamentos eletricos': 9511,\n",
        "    'operador de central hidreletrica': 8622,\n",
        "    'supervisor de tesouraria': 1210,\n",
        "    'auditor-fiscal da receita federal': 2410,\n",
        "    'guardador de veiculos': 5199,\n",
        "    'avicultor': 6123,\n",
        "    'musico regente': 2623,\n",
        "    'balanceiro': 5199,\n",
        "    'lavadeiro, em geral': 5199,\n",
        "    'apontador de mao-de-obra': 5199,\n",
        "    'oficial de justica': 3333,\n",
        "    'operador de telemarketing receptivo': 4223,\n",
        "    'tecnico em patologia clinica': 3241,\n",
        "    'tecnico de producao em refino de petroleo': 3141,\n",
        "    'mecanico montador de motores de explosao e diesel': 9113,\n",
        "    'operador de caminhao (minas e pedreiras)': 7825,\n",
        "    'tecnico em eletromecanica': 3132,\n",
        "    'acabador de superficies de concreto': 7153,\n",
        "    'comprador': 3543,\n",
        "    'mecanico de refrigeracao': 9511,\n",
        "    'mecanico de manutencao de compressores de ar': 9511,\n",
        "    'eletricista de instalacoes (veiculos automotores )': 9121,\n",
        "    'ciclista mensageiro': 5199,\n",
        "    'operador de maquina de usinagem madeira, em geral': 7231,\n",
        "    'tecnico em mecanica de precisao': 3141,\n",
        "    'supervisor de credito e cobranca': 1222,\n",
        "    'instalador de material isolante, a mao (edificacoes)': 5141,\n",
        "    'eletrotenico na fabricacao de maquinas e equipamentos': 3132,\n",
        "    'fiscal de patio de usina de concreto': 7121,\n",
        "    'professor de educacao fisica do ensino fundamental': 2331,\n",
        "    'ceramista': 7681,\n",
        "    'professor de antropologia do ensino superior': 2344,\n",
        "    'cozinhador de carnes': 5132,\n",
        "    'desenhista tecnico naval': 2144,\n",
        "    'estofador de moveis': 7632,\n",
        "    'carpinteiro de obras': 7112,\n",
        "    'cozinhador (conservacao de alimentos)': 5132,\n",
        "    'ajustador naval (reparo e construcao)': 9113,\n",
        "    'moco de conves (maritimo e fluviario)': 6410,\n",
        "    'mestre de producao farmaceutica': 2232,\n",
        "    'diretor de manutencao': 1425,\n",
        "    'mecanico de manutencao de maquinas agricolas': 9113,\n",
        "    'escrivao extra - judicial': 3331,\n",
        "    'trabalhador da avicultura de corte': 6223,\n",
        "    'encarregado de manutencao mecanica de sistemas operacionais': 3141,\n",
        "    'locutor de radio e televisao': 2642,\n",
        "    'desenhista tecnico (eletricidade e eletronica)': 2144,\n",
        "    'tecnico em secretariado': 4110,\n",
        "    'engenheiro quimico': 2143,\n",
        "    'carvoeiro': 6323,\n",
        "    'professor de alunos com deficiencia auditiva e surdos': 2331,\n",
        "    'produtor de arvores frutiferas': 6221,\n",
        "    'trabalhador da exploracao de madeiras tanantes': 6221,\n",
        "    'masseiro (massas alimenticias)': 8484,\n",
        "    'capitao da policia militar': 5162,\n",
        "    'gerente de hotel': 1416,\n",
        "    'operador de estacao de captacao de agua': 8621,\n",
        "    'tecelao de malhas, a maquina': 7622,\n",
        "    'gerente de captacao (fundos e investimentos institucionais)': 1222,\n",
        "    'engenheiro eletricista': 2141,\n",
        "    'classificador e empilhador de tijolos refratarios': 5141,\n",
        "    'inspetor de alunos de escola privada': 2342,\n",
        "    'engenheiro eletronico de manutencao': 2141,\n",
        "    'praca da marinha': 6312,\n",
        "    'poeta': 2623,\n",
        "    'trabalhador do beneficiamento de fumo': 5143,\n",
        "    'medico ortopedista e traumatologista': 2252,\n",
        "    'medico psiquiatra': 2252,\n",
        "    'conferente-expedidor de roupas (lavanderias)': 5199,\n",
        "    'auxiliar de cartorio': 4110,\n",
        "    'medico generalista': 2251,\n",
        "    'marinheiro de conves (maritimo e fluviario)': 6410,\n",
        "    'apresentador de eventos': 2624,\n",
        "    'tecnico de comunicacao de dados': 3171,\n",
        "    'mestre (industria textil e de confeccoes)': 7121,\n",
        "    'operador de bate-estacas': 7153,\n",
        "    'chefe de cozinha': 5131,\n",
        "    'operador de forno (servicos funerarios)': 7831,\n",
        "    'tecnico de alimentos': 3211,\n",
        "    'reparador de aparelhos eletrodomesticos ': 9541,\n",
        "    'atendente de agencia': 4211,\n",
        "    'praca da aeronautica': 6312,\n",
        "    'diretor de producao e operacoes da industria de transformacao': 1425,\n",
        "    'operador de maquina de etiquetar': 8321,\n",
        "    'diretor de operacoes de obras publica e civil': 1421,\n",
        "    'analista de informacoes (pesquisador de informacoes de rede)': 2129,\n",
        "    'engenheiro aeronautico': 2141,\n",
        "    'operador de espelhamento': 7154,\n",
        "    'prensista (operador de prensa)': 8112,\n",
        "    'torneiro na usinagem convencional de madeira': 7233,\n",
        "    'vigia portuario': 5174,\n",
        "    'oficial da aeronautica': 6312,\n",
        "    'encarregado geral de operacoes de conservacao de vias ': 5199,\n",
        "    'administrador de banco de dados': 2122,\n",
        "    'professor leigo no ensino fundamental': 2344,\n",
        "    'ministro de culto religioso': 2631,\n",
        "    'armador de estrutura de concreto armado': 7153,\n",
        "    'ator': 2622,\n",
        "    'gerente de cambio e comercio exterior': 1210,\n",
        "    'professor de economia': 2342,\n",
        "    'professor instrutor de ensino e aprendizagem em servicos': 2331,\n",
        "    'operador de audio de continuidade (radio)': 3721,\n",
        "    'operador de calcinacao (tratamento quimico e afins)': 7122,\n",
        "    'antropologo': 2515,\n",
        "    'ensaiador de danca': 2614,\n",
        "    'pedreiro (chamines industriais)': 7152,\n",
        "    'poceiro (edificacoes)': 7152,\n",
        "    'gerente de almoxarifado': 1416,\n",
        "    'coordenador pedagogico': 2344,\n",
        "    'trabalhador na producao de mudas e sementes': 6221,\n",
        "    'supervisor de caixas e bilheteiros (exceto caixa de banco)': 4212,\n",
        "    'pescador artesanal de lagostas': 6323,\n",
        "    'lubrificador industrial': 5142,\n",
        "    'aplicador serigrafico em vidros': 7522,\n",
        "    'adestrador de animais': 6222,\n",
        "    'perito contabil': 2410,\n",
        "    'gerente de projetos e servicos de manutencao': 1210,\n",
        "    'relojoeiro (reparacao)': 9542,\n",
        "    'afiador de ferramentas': 7223,\n",
        "    'agente de patio': 5199,\n",
        "    'alinhador de pneus': 9511,\n",
        "    'professor de ciencias biologicas do ensino superior': 2332,\n",
        "    'papiloscopista policial': 5173,\n",
        "    'montador de estruturas metalicas': 7242,\n",
        "    'tipografo': 2623,\n",
        "    'bibliotecario': 2624,\n",
        "    'bordador, a mao': 7632,\n",
        "    'trabalhador na olericultura (raizes, bulbos e tuberculos)': 6221,\n",
        "    'moleiro de cereais (exceto arroz)': 7621,\n",
        "    'diretor administrativo': 1221,\n",
        "    'trabalhador da cultura de algodao': 6223,\n",
        "    'tecnico de operacoes e servicos bancarios - cambio': 4212,\n",
        "    'trabalhador de extracao florestal, em geral': 6323,\n",
        "    'supervisor de vendas de servicos': 1422,\n",
        "    'gravador de matriz para flexografia (clicherista)': 2626,\n",
        "    'professor de enfermagem do ensino superior': 2342,\n",
        "    'gerente de recursos humanos': 1210,\n",
        "    'desenhista tecnico (artes graficas)': 2144,\n",
        "    'tecnologo em eletronica': 3132,\n",
        "    'professor de tecnicas agricolas': 6120,\n",
        "    'ascensorista': 5143,\n",
        "    'tabeliao de notas': 5112,\n",
        "    'advogado (direito civil)': 2410,\n",
        "    'cirurgiao dentista - endodontista': 2232,\n",
        "    'fiscal de tributos estadual': 2410,\n",
        "    'auditor (contadores e afins)': 2410,\n",
        "    'hidrogeologo': 2149,\n",
        "    'montador de bicicletas': 9143,\n",
        "    'coronel bombeiro militar': 5162,\n",
        "    'analista de seguros (tecnico)': 3542,\n",
        "    'operador eletromecanico': 3143,\n",
        "    'operador de maquina de fabricar papel e papelao': 8331,\n",
        "    'criador em pecuaria polivalente': 6223,\n",
        "    'cirurgiao dentista de saude coletiva': 2232,\n",
        "    'instalador de isolantes termicos (refrigeracao e climatizacao)': 9541,\n",
        "    'operador de atendimento aeroviario': 7825,\n",
        "    'produtor de arroz': 6223,\n",
        "    'eletricista de manutencao de linhas eletricas': 9511,\n",
        "    'retalhador de carne': 8484,\n",
        "    'instalador-reparador de redes e cabos telefonicos': 5231,\n",
        "    'monitor de teleatendimento': 4223,\n",
        "    'salva-vidas': 5199,\n",
        "    'tecnico quimico': 3241,\n",
        "    'controlador de entrada e saida': 5199,\n",
        "    'operador de acabamento de pecas fundidas': 7244,\n",
        "    'juiz de direito': 2410,\n",
        "    'operador de guindaste movel': 7822,\n",
        "    'bombeiro de aerodromo': 5172,\n",
        "    'medico angiologista': 2252,\n",
        "    'analista de credito (instituicoes financeiras)': 2522,\n",
        "    'tecnico mecanico (motores)': 9144,\n",
        "    'auxiliar de biblioteca': 2614,\n",
        "    'ajustador mecanico (usinagem em bancada)': 9113,\n",
        "    'apresentador de programas de radio': 2613,\n",
        "    'comissario de voo': 5111,\n",
        "    'operador de projetor cinematografico': 3421,\n",
        "    'medico sanitarista': 2252,\n",
        "    'diretor de producao e operacoes em empresa agropecuaria': 1012,\n",
        "    'engenheiro agricola': 2141,\n",
        "    'montador de equipamento de levantamento': 9141,\n",
        "    'desenhista tecnico mecanico': 3182,\n",
        "    'narrador em programas de radio e televisao': 2613,\n",
        "    'oficial da marinha': 6112,\n",
        "    'mecanico de voo': 9144,\n",
        "    'guia de turismo': 3541,\n",
        "    'relacoes publicas': 2521,\n",
        "    'operador de britadeira (tratamentos quimicos e afins)': 7121,\n",
        "    'operador de pa carregadeira': 7151,\n",
        "    'gerente de bar': 1415,\n",
        "    'tecnico de obras civis': 3143,\n",
        "    'primeiro tenente de policia militar': 5172,\n",
        "    'matematico': 2121,\n",
        "    'medico legista': 2252,\n",
        "    'operador de equipamento para resfriamento': 9512,\n",
        "    'carpinteiro naval (construcao de pequenas embarcacoes)': 7542,\n",
        "    'afinador de instrumentos musicais': 2626,\n",
        "    'mestre serralheiro': 7242,\n",
        "    'supervisor de telemarketing e atendimento': 1421,\n",
        "    'major da policia militar': 5172,\n",
        "    'engenheiro de manutencao de telecomunicacoes': 2145,\n",
        "    'tecnico em estruturas metalicas': 3132,\n",
        "    'plataformista (petroleo)': 8622,\n",
        "    'compositor': 2631,\n",
        "    'gerente de producao e operacoes da construcao civil': 1210,\n",
        "    'tecnico mecanico na fabricacao de ferramentas': 3111,\n",
        "    'classificador de madeira': 7824,\n",
        "    'diretor de servicos de saude': 1421,\n",
        "    'instalador eletricista (tracao de veiculos)': 9511,\n",
        "    'domador de animais (circense)': 6324,\n",
        "    'supervisor da industria de minerais nao metalicos ': 1422,\n",
        "    'economista financeiro': 2516,\n",
        "    'auxiliar de maquinista de trem': 6114,\n",
        "    'pintor de estruturas metalicas': 7152,\n",
        "    'gerente de produtos bancarios': 1210,\n",
        "    'diretor de producao e operacoes de turismo': 1210,\n",
        "    'operador de mensagens de telecomunicacoes (correios)': 3171,\n",
        "    'cronoanalista': 2149,\n",
        "    'operador de torno automatico (usinagem de madeira)': 7223,\n",
        "    'supervisor de manutencao (eletromecanica)': 3132,\n",
        "    'gerente de producao de tecnologia da informacao': 1221,\n",
        "    'diretor de cinema': 2624,\n",
        "    'pedreiro (mineracao)': 7102,\n",
        "    'operador de camera de televisao': 3721,\n",
        "    'tecnico de desporto individual e coletivo (exceto futebol)': 2242,\n",
        "    'montador de maquinas, motores e acessorios': 9101,\n",
        "    'trabalhador na operacao de sistema de irrigacao localizada ': 6221,\n",
        "    'recepcionista de banco': 4211,\n",
        "    'gerente de compras': 1423,\n",
        "    'operador de betoneira': 7152,\n",
        "    'governanta de hotelaria': 5133,\n",
        "    'sinaleiro (ponte-rolante)': 7155,\n",
        "    'tecnico de operacoes e servicos bancarios - credito rural': 4212,\n",
        "    'cenotecnico (cinema, video, televisao, teatro e espetaculos)': 3742,\n",
        "    'escrevente': 4122,\n",
        "    'trabalhador da caprinocultura': 6221,\n",
        "    'medico ginecologista e obstetra': 2252,\n",
        "    'professor de estatistica (no ensino superior)': 2343,\n",
        "    'operador de alambique de funcionamento continuo ': 8621,\n",
        "    'amostrador de minerios': 7121,\n",
        "    'guincheiro (construcao civil)': 7151,\n",
        "    'mecanico de manutencao de veiculos ferroviarios': 9144,\n",
        "    'estatistico': 2123,\n",
        "    'operador de veiculos subaquaticos controlados remotamente': 3413,\n",
        "    'medico pediatra': 2252,\n",
        "    'montador de equipamentos eletricos ': 9511,\n",
        "    'carpinteiro de formas para concreto': 7152,\n",
        "    'mecanico de manutencao de maquinas-ferramentas': 9144,\n",
        "    'professor de artes no ensino medio': 2332,\n",
        "    'criador de bovinos (leite)': 6223,\n",
        "    'cortador de laminados de madeira': 7631,\n",
        "    'operador de instalacao de ar-condicionado': 9532,\n",
        "    'medico dermatologista': 2252,\n",
        "    'juiz do trabalho': 2410,\n",
        "    'pesquisador em medicina veterinaria': 2115,\n",
        "    'professor de musica no ensino superior': 2332,\n",
        "    'engenheiro de minas (lavra a ceu aberto)': 2142,\n",
        "    'inspetor de soldagem': 2146,\n",
        "    'operador de desempenadeira na usinagem convencional': 7223,\n",
        "    'professor de nivel medio no ensino profissionalizante': 2332,\n",
        "    'avaliador de bens moveis': 3543,\n",
        "    'condutor de processos robotizados de pintura': 5141,\n",
        "    'piloto de aeronaves': 6123,\n",
        "    'arquivista': 2612,\n",
        "    'atuario': 2123,\n",
        "    'criador de suinos': 6223,\n",
        "    'motorista operacional de guincho': 7822,\n",
        "    'artista de circo (outros)': 2626,\n",
        "    'tecnico de estradas': 3143,\n",
        "    'chefe de servico de transporte rodoviario ': 1342,\n",
        "    'artifice do couro': 7233,\n",
        "    'produtor de radio': 2614,\n",
        "    'agente de estacao (ferrovia e metro)': 5172,\n",
        "    'tecelao (tear mecanico liso)': 7612,\n",
        "    'cumim': 5134,\n",
        "    'modelo artistico': 5161,\n",
        "    'analista de recursos humanos': 2522,\n",
        "    'instalador de tubulacoes': 7151,\n",
        "    'operador de impermeabilizador de tecidos': 8411,\n",
        "    'modelador de metais (fundicao)': 7244,\n",
        "    'piloto comercial (exceto linhas aereas)': 6123,\n",
        "    'preparador de calcados': 7231,\n",
        "    'caldeireiro (chapas de cobre)': 7241,\n",
        "    'tecnico em manutencao de instrumentos de medicao e precisao': 3142,\n",
        "    'colorista de papel': 7515,\n",
        "    'modelo publicitario': 5161,\n",
        "    'produtor de cereais de inverno': 6222,\n",
        "    'supervisor de reparos linhas ferreas': 9131,\n",
        "    'tecnico de manutencao eletrica de maquina': 3132,\n",
        "    'filosofo': 2313,\n",
        "    'pesquisador em ciencias sociais e humanas': 2013,\n",
        "    'medico alergista e imunologista': 2252,\n",
        "    'corretor de valores, ativos financeiros e derivativos': 3541,\n",
        "    'produtor de algodao': 6121,\n",
        "    'tecnico de manutencao de sistemas e instrumentos': 3132,\n",
        "    'cartazeiro': 2621,\n",
        "    'tecnico em operacao de equipamentos para televisao ': 3741,\n",
        "    'tecnico de controle de meio ambiente': 3548,\n",
        "    'instrumentador cirurgico': 3222,\n",
        "    'operador de camaras frias': 7842,\n",
        "    'operador de maquina extrusora de varetas e tubos de vidro': 8623,\n",
        "    'conservador de via permanente (trilhos)': 7831,\n",
        "    'tecnico de utilidade (producao e distribuicao de vapor)': 3132,\n",
        "    'supervisor de transportes': 1422,\n",
        "    'curtidor (couros e peles)': 7521,\n",
        "    'forjador': 7241,\n",
        "    'operador de cabine de laminacao (fio-maquina)': 8623,\n",
        "    'tecnico em higiene dental': 3221,\n",
        "    'mecanico de manutencao de redutores': 9144,\n",
        "    'tecnico em madeira': 3143,\n",
        "    'avaliador fisico': 2145,\n",
        "    'montador de equipamentos eletricos (centrais eletricas)': 9511,\n",
        "    'desenhista tecnico (construcao civil)': 3182,\n",
        "    'vidraceiro (vitrais)': 7243,\n",
        "    'cenografo carnavalesco e festas populares': 2621,\n",
        "    'operador de transmissor de radio': 3171,\n",
        "    'medico de saude da familia': 2252,\n",
        "    'operador de retificadora com comando numerico': 7122,\n",
        "    'encarregado de manutencao eletrica de veiculos': 9131,\n",
        "    'arquiteto urbanista': 2145,\n",
        "    'foguista (locomotivas a vapor)': 9131,\n",
        "    'pesquisador de engenharia civil': 2145,\n",
        "    'medico em medicina intensiva': 2252,\n",
        "    'operador de linha de montagem (aparelhos eletricos)': 7641,\n",
        "    'cartonageiro, a maquina': 8332,\n",
        "    'trabalhador no cultivo de arvores frutiferas': 6222,\n",
        "    'editor de tv e video': 2613,\n",
        "    'medico em radiologia e diagnostico por imagem': 2252,\n",
        "    'aplicador de asfalto impermeabilizante (coberturas)': 7151,\n",
        "    'neuropsicologo': 2516,\n",
        "    'assistente comercial de seguros': 3543,\n",
        "    'mestre de ferramentaria': 7241,\n",
        "    'compensador de banco': 4141,\n",
        "    'diretor financeiro': 1342,\n",
        "    'supervisor de coletadores de apostas e de jogos': 1422,\n",
        "    'passador de roupas, a mao': 5134,\n",
        "    'apicultor': 6223,\n",
        "    'enologo': 6121,\n",
        "    'agente de protecao de aeroporto': 5172,\n",
        "    'professor de lingua portuguesa do ensino fundamental': 2332,\n",
        "    'lixador de couros e peles': 7631,\n",
        "    'supervisor de montagem e instalacao eletroeletronica': 3132,\n",
        "    'professor de literatura portuguesa': 2332,\n",
        "    'montador de instrumentos de precisao': 9521,\n",
        "    'montador de veiculos (linha de montagem)': 9113,\n",
        "    'operador de instalacao de refrigeracao': 9541,\n",
        "    'trabalhador da pecuaria (equinos)': 6223,\n",
        "    'sacristao': 2632,\n",
        "    'auxiliar de estatistica': 4152,\n",
        "    'mecanico de manutencao de maquinas operatrizes': 9144,\n",
        "    'pirotecnico': 7611,\n",
        "    'maquetista na marcenaria': 7222,\n",
        "    'professor pratico no ensino profissionalizante': 2332,\n",
        "    'controlador de servicos de maquinas e veiculos': 5211,\n",
        "    'operador de moenda na fabricacao de acucar': 8621,\n",
        "    'cozinheiro industrial': 5132,\n",
        "    'professor de contabilidade': 2341,\n",
        "    'operador de plaina desengrossadeira': 7122,\n",
        "    'medico oftalmologista': 2252,\n",
        "    'operador de instalacao de extracao de gases': 8622,\n",
        "    'preparador de esmaltes (ceramica)': 8331,\n",
        "    'estenotipista': 2511,\n",
        "    'supervisor de exploracao pecuaria': 6221,\n",
        "    'operador de draga': 8111,\n",
        "    'secador de madeira': 7711,\n",
        "    'professor de nutricao': 2252,\n",
        "    'montador de equipamentos eletronicos (estacao de radio, tv)': 9511,\n",
        "    'dirigente de partido politico': 1311,\n",
        "    'procurador da republica': 2410,\n",
        "    'preparador de maquinas-ferramenta': 7242,\n",
        "    'diretor de operacoes de correios': 1311,\n",
        "    'dirigentes de entidades de trabalhadores': 1311,\n",
        "    'tecnico em agrimensura': 3143,\n",
        "    'dirigente e administrador de organizacao religiosa': 1311,\n",
        "    'programador de internet': 2133,\n",
        "    'decorador de ceramica': 2621,\n",
        "    'operador de sistemas de prova (analogico e digital)': 3171,\n",
        "    'eletromecanico de manutencao de elevadores': 3134,\n",
        "    'professor de filosofia do ensino superior': 2313,\n",
        "    'operador de negocios': 3541,\n",
        "    'trefilador de borracha': 7623,\n",
        "    'classificador de fibras texteis': 7641,\n",
        "    'tecnico textil': 3143,\n",
        "    'sondador (pocos de petroleo e gas)': 7101,\n",
        "    'supervisor de lavanderia': 5162,\n",
        "    'professor de linguas estrangeiras modernas': 2332,\n",
        "    'maitre': 5134,\n",
        "    'medico citopatologista': 2252,\n",
        "    'operador de maquina de secar celulose': 8631,\n",
        "    'engenheiro de controle e automacao': 2143,\n",
        "    'operador de maquina perfuradora (minas e pedreiras)': 7122,\n",
        "    'datilografo': 4110,\n",
        "    'operador de equipamentos de preparacao de areia': 7122,\n",
        "    'operador de computador (inclusive microcomputador)': 3171,\n",
        "    'laboratorista fotografico': 3241,\n",
        "    'tecelao de tapetes, a maquina': 7612,\n",
        "    'consultor contabil (tecnico)': 2522,\n",
        "    'engenheiro de seguranca do trabalho': 2141,\n",
        "    'pesquisador de clinica medica': 2015,\n",
        "    'operador de cristalizacao na refinacao de acucar': 8621,\n",
        "    'pesquisador em ciencias agronomicas': 2015,\n",
        "    'professor de filosofia no ensino medio': 2332,\n",
        "    'ancora de radio e televisao': 2613,\n",
        "    'auxiliar de banco de sangue': 3222,\n",
        "    'arquivista pesquisador (jornalismo)': 2623,\n",
        "    'tecnico em programacao visual': 3742,\n",
        "    'mestre (construcao naval)': 7102,\n",
        "    'tecnico em petroquimica': 3143,\n",
        "    'gelador industrial': 8412,\n",
        "    'teologo': 2513,\n",
        "    'dancarino tradicional': 5198,\n",
        "    'tecelao (tear jacquard)': 7612,\n",
        "    'medico cirurgiao plastico': 2252,\n",
        "    'diretor de producao e operacoes em empresa florestal': 1321,\n",
        "    'supervisor de producao da industria alimenticia': 1422,\n",
        "    'destrocador de pedra': 7122,\n",
        "    'analista de pesquisa de mercado': 2533,\n",
        "    'desenhista detalhista': 3182,\n",
        "    'engenheiro de producao': 2143,\n",
        "    'supervisor de manutencao eletromecanica': 3132,\n",
        "    'arquiteto de patrimonio': 2145,\n",
        "    'professor de historia do ensino fundamental': 2332,\n",
        "    'pratico de portos da marinha mercante': 6341,\n",
        "    'limpador de fachadas': 5141,\n",
        "    'professor de astronomia (ensino superior)': 2311,\n",
        "    'profissional do sexo': 5198,\n",
        "    'operador de rebobinadeira na fabricacao de papel e papelao': 7642,\n",
        "    'operador de processo de moagem': 8111,\n",
        "    'medico do trabalho': 2252,\n",
        "    'trabalhador da cultura de erva-mate': 6222,\n",
        "    'taifeiro': 5134,\n",
        "    'cortador de calcados, a maquina (exceto solas e palmilhas)': 7243,\n",
        "    'trabalhador da exploracao de acai': 6222,\n",
        "    'engenheiro projetista de telecomunicacoes': 2143,\n",
        "    'tecnico em optica': 3132,\n",
        "    'medico cirurgiao pediatrico': 2252,\n",
        "    'diretor de instituicao educacional da area privada': 1342,\n",
        "    'operador de maquinas do acabamento de couros e peles': 7631,\n",
        "    'telhador (telhas de argila e materias similares)': 7151,\n",
        "    'operador de inspecao de qualidade': 8413,\n",
        "    'arbitro desportivo': 3751,\n",
        "    'acrobata': 5198,\n",
        "    'operador de jato abrasivo': 7642,\n",
        "    'cenografo de eventos': 2621,\n",
        "    'instrutor de voo': 3313,\n",
        "    'tecnico em piscicultura': 3143,\n",
        "    'controlador de trafego aereo': 3324,\n",
        "    'acabador de embalagens (flexiveis e cartotecnicas)': 8213,\n",
        "    'operador de abertura (fiacao)': 8212,\n",
        "    'tecnico de enfermagem do trabalho': 3222,\n",
        "    'embalsamador': 3221,\n",
        "    'mestre de siderurgia': 7102,\n",
        "    'tecnico de planejamento de producao': 3143,\n",
        "    'enfermeiro veterinario': 2234,\n",
        "    'montador de artefatos de couro (exceto roupas e calcados)': 7243,\n",
        "    'tecelao (tear mecanico, exceto jacquard)': 7612,\n",
        "    'astrologo': 2513,\n",
        "    'analista de exportacao e importacao': 2533,\n",
        "    'preparador de tintas': 7631,\n",
        "    'engenheiro agrimensor': 2145,\n",
        "    'gerente de pesquisa e desenvolvimento (p&d)': 1210,\n",
        "    'capitao bombeiro militar': 7161,\n",
        "    'costurador de calcados, a maquina (exceto solas e palmilhas)': 7243,\n",
        "    'instalador de cortinas e persianas, portas sanfonadas e boxe': 5142,\n",
        "    'presidiario': 5198,\n",
        "    'editor de midia eletronica': 2623,\n",
        "    'tecnico em sonorizacao': 3741,\n",
        "    'professor de matematica no ensino medio': 2332,\n",
        "    'operador de forno (fabricacao de paes, biscoitos e similares)': 8481,\n",
        "    'trabalhador polivalente do curtimento de couros e peles': 7631,\n",
        "    'economista do setor publico': 2512,\n",
        "    'confeccionador de artefatos de couro (exceto sapatos)': 7243,\n",
        "    'moleiro de minerios': 7102,\n",
        "    'operador de maquina de fabricacao de cosmeticos': 8621,\n",
        "    'oficial do registro civil de pessoas naturais': 3211,\n",
        "    'trabalhador no cultivo de plantas ornamentais': 6222,\n",
        "    'finalizador de video': 2613,\n",
        "    'camareira de teatro': 5143,\n",
        "    'trabalhador na fabricacao de produtos abrasivos': 8411,\n",
        "    'instalador de sistemas eletroeletronicos de seguranca': 5173,\n",
        "    'forneiro (materiais de construcao)': 8622,\n",
        "    'entrevistador de pesquisas de mercado': 3543,\n",
        "    'cozinheiro de embarcacoes': 5132,\n",
        "    'mestre (industria de madeira e mobiliario)': 7102,\n",
        "    'operador de extrusora (quimica, petroquimica e afins)': 8623,\n",
        "    'modelista de calcados': 7242,\n",
        "    'viveirista florestal': 6222,\n",
        "    'operador de motoniveladora (extracao de minerais solidos)': 7112,\n",
        "    'dietista': 2232,\n",
        "    'escritor de ficcao': 2623,\n",
        "    'operador de maquina de cilindrar chapas': 7122\n",
        "}"
      ]
    },
    {
      "cell_type": "code",
      "execution_count": 19,
      "metadata": {
        "colab": {
          "base_uri": "https://localhost:8080/"
        },
        "id": "caOjQS2CE-W_",
        "outputId": "72084594-eac1-4ae5-cd81-e3d07fb4db47"
      },
      "outputs": [
        {
          "data": {
            "text/plain": [
              "52217"
            ]
          },
          "execution_count": 19,
          "metadata": {},
          "output_type": "execute_result"
        }
      ],
      "source": [
        "df[\"OCUP\"].isnull().sum()"
      ]
    },
    {
      "cell_type": "code",
      "execution_count": 20,
      "metadata": {
        "id": "TTP4rQ-S-QmS"
      },
      "outputs": [],
      "source": [
        "# Substituição das linhas nulas por -1\n",
        "df['OCUP'] = df['OCUP'].fillna(\"desconhecido\")"
      ]
    },
    {
      "cell_type": "code",
      "execution_count": 21,
      "metadata": {
        "id": "ppix7_005SPI"
      },
      "outputs": [],
      "source": [
        "df[\"OCUP\"] = df.apply(lambda row: row['OCUP'].lower() if isinstance(row['OCUP'], str) else row['OCUP'], axis=1)"
      ]
    },
    {
      "cell_type": "code",
      "execution_count": 22,
      "metadata": {
        "id": "peVFWdE99SZF"
      },
      "outputs": [],
      "source": [
        " df['OCUP'] = df['OCUP'].map(ocup_map)\n",
        " df['OCUP'] = df['OCUP'].fillna(-1)"
      ]
    },
    {
      "cell_type": "code",
      "execution_count": 23,
      "metadata": {
        "colab": {
          "base_uri": "https://localhost:8080/",
          "height": 206
        },
        "id": "PQmeyxLR5PVA",
        "outputId": "f129805e-359d-44db-a353-a9323dcd8dfa"
      },
      "outputs": [
        {
          "data": {
            "text/html": [
              "<div>\n",
              "<style scoped>\n",
              "    .dataframe tbody tr th:only-of-type {\n",
              "        vertical-align: middle;\n",
              "    }\n",
              "\n",
              "    .dataframe tbody tr th {\n",
              "        vertical-align: top;\n",
              "    }\n",
              "\n",
              "    .dataframe thead th {\n",
              "        text-align: right;\n",
              "    }\n",
              "</style>\n",
              "<table border=\"1\" class=\"dataframe\">\n",
              "  <thead>\n",
              "    <tr style=\"text-align: right;\">\n",
              "      <th></th>\n",
              "      <th>estado</th>\n",
              "      <th>DTOBITO</th>\n",
              "      <th>DTNASC</th>\n",
              "      <th>SEXO</th>\n",
              "      <th>RACACOR</th>\n",
              "      <th>ESTCIV</th>\n",
              "      <th>ESC</th>\n",
              "      <th>OCUP</th>\n",
              "      <th>CAUSABAS</th>\n",
              "    </tr>\n",
              "  </thead>\n",
              "  <tbody>\n",
              "    <tr>\n",
              "      <th>0</th>\n",
              "      <td>AC</td>\n",
              "      <td>2010-01-31</td>\n",
              "      <td>1999-11-09</td>\n",
              "      <td>Masculino</td>\n",
              "      <td>Parda</td>\n",
              "      <td>1.0</td>\n",
              "      <td>2.000000</td>\n",
              "      <td>-1.0</td>\n",
              "      <td>X780</td>\n",
              "    </tr>\n",
              "    <tr>\n",
              "      <th>1</th>\n",
              "      <td>AC</td>\n",
              "      <td>2010-02-07</td>\n",
              "      <td>1985-09-23</td>\n",
              "      <td>Masculino</td>\n",
              "      <td>Parda</td>\n",
              "      <td>1.0</td>\n",
              "      <td>2.000000</td>\n",
              "      <td>-1.0</td>\n",
              "      <td>X780</td>\n",
              "    </tr>\n",
              "    <tr>\n",
              "      <th>2</th>\n",
              "      <td>AC</td>\n",
              "      <td>2010-02-19</td>\n",
              "      <td>1995-08-06</td>\n",
              "      <td>Masculino</td>\n",
              "      <td>Parda</td>\n",
              "      <td>1.0</td>\n",
              "      <td>2.000000</td>\n",
              "      <td>-1.0</td>\n",
              "      <td>X780</td>\n",
              "    </tr>\n",
              "    <tr>\n",
              "      <th>3</th>\n",
              "      <td>AC</td>\n",
              "      <td>2010-04-20</td>\n",
              "      <td>1983-12-25</td>\n",
              "      <td>Feminino</td>\n",
              "      <td>Parda</td>\n",
              "      <td>2.0</td>\n",
              "      <td>2.000000</td>\n",
              "      <td>-1.0</td>\n",
              "      <td>X780</td>\n",
              "    </tr>\n",
              "    <tr>\n",
              "      <th>4</th>\n",
              "      <td>AC</td>\n",
              "      <td>2010-07-24</td>\n",
              "      <td>1982-05-13</td>\n",
              "      <td>Masculino</td>\n",
              "      <td>Parda</td>\n",
              "      <td>2.0</td>\n",
              "      <td>3.229998</td>\n",
              "      <td>-1.0</td>\n",
              "      <td>X720</td>\n",
              "    </tr>\n",
              "  </tbody>\n",
              "</table>\n",
              "</div>"
            ],
            "text/plain": [
              "  estado     DTOBITO      DTNASC       SEXO RACACOR  ESTCIV       ESC  OCUP  \\\n",
              "0     AC  2010-01-31  1999-11-09  Masculino   Parda     1.0  2.000000  -1.0   \n",
              "1     AC  2010-02-07  1985-09-23  Masculino   Parda     1.0  2.000000  -1.0   \n",
              "2     AC  2010-02-19  1995-08-06  Masculino   Parda     1.0  2.000000  -1.0   \n",
              "3     AC  2010-04-20  1983-12-25   Feminino   Parda     2.0  2.000000  -1.0   \n",
              "4     AC  2010-07-24  1982-05-13  Masculino   Parda     2.0  3.229998  -1.0   \n",
              "\n",
              "  CAUSABAS  \n",
              "0     X780  \n",
              "1     X780  \n",
              "2     X780  \n",
              "3     X780  \n",
              "4     X720  "
            ]
          },
          "execution_count": 23,
          "metadata": {},
          "output_type": "execute_result"
        }
      ],
      "source": [
        "df.head()"
      ]
    },
    {
      "cell_type": "markdown",
      "metadata": {
        "id": "DtMCIsFQ-p46"
      },
      "source": [
        "### Raça/Cor"
      ]
    },
    {
      "cell_type": "markdown",
      "metadata": {
        "id": "Ov82U9JI-sc_"
      },
      "source": [
        "* No processo de EDA da base, identificou-se que essa feature é representada pela seguinte legenda:\n",
        "  * 1: Branca\n",
        "  * 2: Preta\n",
        "  * 3: Amarela\n",
        "  * 4: Parda\n",
        "  * 5: Indígena\n",
        "  * 9: Ignorado\n",
        "\n",
        "* Para essa feature, adotou-se a estratégia de considerar todos os casos nulos como ignorados (valor igual a 9)."
      ]
    },
    {
      "cell_type": "code",
      "execution_count": 24,
      "metadata": {
        "colab": {
          "base_uri": "https://localhost:8080/"
        },
        "id": "Rn6BJHLL_GdI",
        "outputId": "3faa2103-fad0-4bc0-c1ea-7f334832d6af"
      },
      "outputs": [
        {
          "data": {
            "text/plain": [
              "(3171,\n",
              " RACACOR\n",
              " Branca      56075\n",
              " Parda       45695\n",
              " Preta        5929\n",
              " Indígena     1187\n",
              " Amarela       434\n",
              " Name: count, dtype: int64)"
            ]
          },
          "execution_count": 24,
          "metadata": {},
          "output_type": "execute_result"
        }
      ],
      "source": [
        "# Distribuição dos valores nulos e não-nulos na coluna\n",
        "df['RACACOR'].isnull().sum(), df['RACACOR'].value_counts()"
      ]
    },
    {
      "cell_type": "code",
      "execution_count": 25,
      "metadata": {
        "id": "wsnQKLVBb-55"
      },
      "outputs": [],
      "source": [
        " df['RACACOR'] = df['RACACOR'].map({'Branca': 1, 'Preta': 2, 'Amarela': 3, 'Parda': 4, 'Indígena': 5})"
      ]
    },
    {
      "cell_type": "code",
      "execution_count": 26,
      "metadata": {
        "id": "dJTwPx7tHpZu"
      },
      "outputs": [],
      "source": [
        "# Substituição das linhas nulas por 9 (casos ignorados)\n",
        "df['RACACOR'] = df['RACACOR'].fillna(9)"
      ]
    },
    {
      "cell_type": "code",
      "execution_count": 27,
      "metadata": {
        "colab": {
          "base_uri": "https://localhost:8080/"
        },
        "id": "J3Gdcy0m_ap3",
        "outputId": "0e8bae5c-ac70-4034-ea4c-60fd6bfc562a"
      },
      "outputs": [
        {
          "data": {
            "text/plain": [
              "(0,\n",
              " RACACOR\n",
              " 1.0    56075\n",
              " 4.0    45695\n",
              " 2.0     5929\n",
              " 9.0     3171\n",
              " 5.0     1187\n",
              " 3.0      434\n",
              " Name: count, dtype: int64)"
            ]
          },
          "execution_count": 27,
          "metadata": {},
          "output_type": "execute_result"
        }
      ],
      "source": [
        "# Distribuição dos valores nulos e não-nulos na coluna\n",
        "df['RACACOR'].isnull().sum(), df['RACACOR'].value_counts()"
      ]
    },
    {
      "cell_type": "markdown",
      "metadata": {
        "id": "2fLSax23DGH6"
      },
      "source": [
        "### Naturalidade"
      ]
    },
    {
      "cell_type": "markdown",
      "metadata": {
        "id": "yLPTRWiJDIr4"
      },
      "source": [
        "* No processo de EDA da base, identificou-se que essa feature representa a naturalidade do falecido, conforme a tabela de países. Se for brasileiro, porém, o primeiro dígito contém 8 e os demais o código da UF de naturalidade.\n",
        "\n",
        "* Dito isso, a estratégia adotada foi a de substituir os valores nulos por um valor que já não estivesse presente na coluna e que pudesse caracterizar uma naturalidade desconhecida, -1 foi o valor escolhido."
      ]
    },
    {
      "cell_type": "code",
      "execution_count": 28,
      "metadata": {
        "colab": {
          "base_uri": "https://localhost:8080/"
        },
        "id": "xN_6zu1rcZ3B",
        "outputId": "3bfb4d3b-72ea-4328-db21-a2bb643abd3c"
      },
      "outputs": [
        {
          "data": {
            "text/plain": [
              "(0,\n",
              " estado\n",
              " SP    21970\n",
              " MG    13541\n",
              " RS    11860\n",
              " PR     7252\n",
              " SC     6349\n",
              " CE     5805\n",
              " RJ     5373\n",
              " BA     5142\n",
              " GO     4453\n",
              " PE     3583\n",
              " PI     2710\n",
              " MA     2676\n",
              " PA     2640\n",
              " MS     2290\n",
              " AM     2145\n",
              " PB     2009\n",
              " ES     1899\n",
              " MT     1835\n",
              " RN     1733\n",
              " DF     1490\n",
              " SE     1213\n",
              " AL     1159\n",
              " TO     1030\n",
              " RO      995\n",
              " AC      508\n",
              " AP      429\n",
              " RR      402\n",
              " Name: count, dtype: int64)"
            ]
          },
          "execution_count": 28,
          "metadata": {},
          "output_type": "execute_result"
        }
      ],
      "source": [
        "df['estado'].isnull().sum(), df['estado'].value_counts()"
      ]
    },
    {
      "cell_type": "code",
      "execution_count": 29,
      "metadata": {
        "id": "k5oKvP4ZcjOK"
      },
      "outputs": [],
      "source": [
        " estados_map = {'AC': 12, 'AL': 27, 'AP': 16, 'AM': 13, 'BA': 29, 'CE': 23, 'DF': 53, 'ES': 32, 'GO': 52, 'MA': 21, 'MT': 51,\n",
        "       'MS': 50, 'MG': 31, 'PA': 15, 'PB': 25, 'PR': 41, 'PE': 26, 'PI': 22, 'RJ': 33, 'RN': 24, 'RS': 43, 'RO': 11,\n",
        "       'RR': 14, 'SC': 42, 'SP': 35, 'SE': 28, 'TO': 17}\n",
        "\n",
        " df['estado'] = df['estado'].map(estados_map)"
      ]
    },
    {
      "cell_type": "code",
      "execution_count": 30,
      "metadata": {
        "id": "HuzJjvYRDhKq"
      },
      "outputs": [],
      "source": [
        "df = df.rename(columns={'estado': 'NATURAL'})"
      ]
    },
    {
      "cell_type": "markdown",
      "metadata": {
        "id": "sRqEL3xWElYB"
      },
      "source": [
        "### Idade"
      ]
    },
    {
      "cell_type": "markdown",
      "metadata": {
        "id": "OfDnyNnlEnE_"
      },
      "source": [
        "* No processo de EDA da base, identificou-se que essa feature representa a idade, composta de dois subcampos. O primeiro, de 1 dígito, indica a unidade da idade. O segundo, de dois dígitos, indica a quantidade de unidades conforme a legenda abaixo:\n",
        "  * Primeiro dígito igual a 0: Idade ignorada\n",
        "  * Primeiro dígito igual a 1: Unidade em horas, o segundo subcampo varia de 01 a 23\n",
        "  * Primeiro dígito igual a 2: Unidade em dias, o segundo subcampo varia de 01 a 29\n",
        "  * Primeiro dígito igual a 3: Unidade em meses, o segundo subcampo varia de 01 a 11\n",
        "  * Primeiro dígito igual a 4: Unidade em anos, o segundo subcampo varia de 00 a 99\n",
        "  * Primeiro dígito igual a 5: Unidade em anos (mais de 100 anos), o segundo subcampo varia de 0 a 99\n",
        "* Exemplo:\n",
        "  * 410: 10 anos\n",
        "  * 457: 57 anos\n",
        "  * 505: 105 anos\n",
        "\n",
        "* Para essa feature, primeiramente se descartou idades que não estão em anos, pois não fazem sentido para o objetivo do projeto. Logo após substituiu-se os valores nulos por 0 (ignorados), por fim trocou-se a notação presente pela padrão de idade em anos e depois substituiu-se os valores ignorados pela média da coluna por meio do uso de um imputer."
      ]
    },
    {
      "cell_type": "code",
      "execution_count": 31,
      "metadata": {
        "id": "wEYfZRaff89V"
      },
      "outputs": [],
      "source": [
        "# Conversão das colunas para objetos de data\n",
        "df['DTOBITO'] = pd.to_datetime(df['DTOBITO'], format='%Y-%m-%d', errors='coerce')\n",
        "df['DTNASC'] = pd.to_datetime(df['DTNASC'], format='%Y-%m-%d', errors='coerce')"
      ]
    },
    {
      "cell_type": "code",
      "execution_count": 32,
      "metadata": {
        "id": "dwKWZkfDh8oJ"
      },
      "outputs": [],
      "source": [
        "# Calculo da diferença da data de óbito e da data de nascimento para encontrar a idade\n",
        "delta_date = (df['DTOBITO'] - df['DTNASC'])\n",
        "df['IDADE'] = [date.days / 365.25 for date in delta_date]"
      ]
    },
    {
      "cell_type": "code",
      "execution_count": 33,
      "metadata": {
        "id": "qBDHFh5Rj_SI"
      },
      "outputs": [],
      "source": [
        "df = df.drop(columns=['DTOBITO', 'DTNASC'])"
      ]
    },
    {
      "cell_type": "code",
      "execution_count": 34,
      "metadata": {
        "colab": {
          "base_uri": "https://localhost:8080/",
          "height": 143
        },
        "id": "46Ju3NYyjKXt",
        "outputId": "3fdbdd9a-5ae3-4d0f-b1ab-e2f5deca2da9"
      },
      "outputs": [
        {
          "data": {
            "text/html": [
              "<div>\n",
              "<style scoped>\n",
              "    .dataframe tbody tr th:only-of-type {\n",
              "        vertical-align: middle;\n",
              "    }\n",
              "\n",
              "    .dataframe tbody tr th {\n",
              "        vertical-align: top;\n",
              "    }\n",
              "\n",
              "    .dataframe thead th {\n",
              "        text-align: right;\n",
              "    }\n",
              "</style>\n",
              "<table border=\"1\" class=\"dataframe\">\n",
              "  <thead>\n",
              "    <tr style=\"text-align: right;\">\n",
              "      <th></th>\n",
              "      <th>NATURAL</th>\n",
              "      <th>SEXO</th>\n",
              "      <th>RACACOR</th>\n",
              "      <th>ESTCIV</th>\n",
              "      <th>ESC</th>\n",
              "      <th>OCUP</th>\n",
              "      <th>CAUSABAS</th>\n",
              "      <th>IDADE</th>\n",
              "    </tr>\n",
              "  </thead>\n",
              "  <tbody>\n",
              "    <tr>\n",
              "      <th>0</th>\n",
              "      <td>12</td>\n",
              "      <td>Masculino</td>\n",
              "      <td>4.0</td>\n",
              "      <td>1.0</td>\n",
              "      <td>2.0</td>\n",
              "      <td>-1.0</td>\n",
              "      <td>X780</td>\n",
              "      <td>10.228611</td>\n",
              "    </tr>\n",
              "    <tr>\n",
              "      <th>1</th>\n",
              "      <td>12</td>\n",
              "      <td>Masculino</td>\n",
              "      <td>4.0</td>\n",
              "      <td>1.0</td>\n",
              "      <td>2.0</td>\n",
              "      <td>-1.0</td>\n",
              "      <td>X780</td>\n",
              "      <td>24.375086</td>\n",
              "    </tr>\n",
              "    <tr>\n",
              "      <th>2</th>\n",
              "      <td>12</td>\n",
              "      <td>Masculino</td>\n",
              "      <td>4.0</td>\n",
              "      <td>1.0</td>\n",
              "      <td>2.0</td>\n",
              "      <td>-1.0</td>\n",
              "      <td>X780</td>\n",
              "      <td>14.540726</td>\n",
              "    </tr>\n",
              "  </tbody>\n",
              "</table>\n",
              "</div>"
            ],
            "text/plain": [
              "   NATURAL       SEXO  RACACOR  ESTCIV  ESC  OCUP CAUSABAS      IDADE\n",
              "0       12  Masculino      4.0     1.0  2.0  -1.0     X780  10.228611\n",
              "1       12  Masculino      4.0     1.0  2.0  -1.0     X780  24.375086\n",
              "2       12  Masculino      4.0     1.0  2.0  -1.0     X780  14.540726"
            ]
          },
          "execution_count": 34,
          "metadata": {},
          "output_type": "execute_result"
        }
      ],
      "source": [
        "df.head(3)"
      ]
    },
    {
      "cell_type": "code",
      "execution_count": 35,
      "metadata": {
        "colab": {
          "base_uri": "https://localhost:8080/"
        },
        "id": "AIAbTv6NF8Lo",
        "outputId": "d39c3936-e735-4b6c-d8bb-3cba0e8e48a1"
      },
      "outputs": [
        {
          "data": {
            "text/plain": [
              "(11742,\n",
              " IDADE\n",
              " 20.199863    17\n",
              " 41.336071    16\n",
              " 37.262149    16\n",
              " 19.154004    16\n",
              " 30.959617    16\n",
              "              ..\n",
              " 59.980835     1\n",
              " 82.392882     1\n",
              " 83.381246     1\n",
              " 78.694045     1\n",
              " 72.640657     1\n",
              " Name: count, Length: 25145, dtype: int64)"
            ]
          },
          "execution_count": 35,
          "metadata": {},
          "output_type": "execute_result"
        }
      ],
      "source": [
        "# Distribuição dos valores nulos e não-nulos na coluna\n",
        "df['IDADE'].isnull().sum(), df['IDADE'].value_counts()"
      ]
    },
    {
      "cell_type": "code",
      "execution_count": 36,
      "metadata": {
        "id": "UjSiIZogyFWJ"
      },
      "outputs": [],
      "source": [
        "# Troca os valores nulos por 0 (ignorados) e converte para int\n",
        "df['IDADE'] = df['IDADE'].fillna(0.0)"
      ]
    },
    {
      "cell_type": "code",
      "execution_count": 37,
      "metadata": {
        "id": "wWI50x0GL7Ya"
      },
      "outputs": [],
      "source": [
        "# Instanciação da classe para substituir os valores nulos\n",
        "imputer = SimpleImputer(missing_values=0, strategy='mean')"
      ]
    },
    {
      "cell_type": "code",
      "execution_count": 38,
      "metadata": {
        "id": "z2pdCdhhyFWJ"
      },
      "outputs": [],
      "source": [
        "# Usa o imputer para substituir os valores nulos pela média\n",
        "imputer = imputer.fit(df[['IDADE']])\n",
        "df['IDADE'] = imputer.transform(df[['IDADE']])"
      ]
    },
    {
      "cell_type": "code",
      "execution_count": 39,
      "metadata": {
        "colab": {
          "base_uri": "https://localhost:8080/"
        },
        "id": "Savt-jLsOIak",
        "outputId": "0b031d56-0b3d-4635-dded-0733933bf889"
      },
      "outputs": [
        {
          "data": {
            "text/plain": [
              "(0,\n",
              " IDADE\n",
              " 41.677684    11742\n",
              " 20.199863       17\n",
              " 41.336071       16\n",
              " 19.154004       16\n",
              " 30.959617       16\n",
              "              ...  \n",
              " 59.980835        1\n",
              " 82.392882        1\n",
              " 83.381246        1\n",
              " 78.694045        1\n",
              " 72.640657        1\n",
              " Name: count, Length: 25146, dtype: int64)"
            ]
          },
          "execution_count": 39,
          "metadata": {},
          "output_type": "execute_result"
        }
      ],
      "source": [
        "# Distribuição dos valores nulos e não-nulos na coluna\n",
        "df['IDADE'].isnull().sum(), df['IDADE'].value_counts()"
      ]
    },
    {
      "cell_type": "markdown",
      "metadata": {
        "id": "rgZVUn4KUs-3"
      },
      "source": [
        "### Sexo"
      ]
    },
    {
      "cell_type": "markdown",
      "metadata": {
        "id": "QbN5rxNkUurf"
      },
      "source": [
        "* No processo de EDA da base, identificou-se que essa feature é representada pela seguinte legenda:\n",
        "  * 0: Ignorado\n",
        "  * 1: Masculino\n",
        "  * 2: Feminino\n",
        "\n",
        "* Essa feature não apresentava valores nulos, então somente foi realizada a remoção de outliers."
      ]
    },
    {
      "cell_type": "code",
      "execution_count": 40,
      "metadata": {
        "colab": {
          "base_uri": "https://localhost:8080/"
        },
        "id": "tqidCfT1VPMe",
        "outputId": "68b1244f-33f3-47b8-a18f-4e6a4ea6fa5c"
      },
      "outputs": [
        {
          "data": {
            "text/plain": [
              "(SEXO\n",
              " Masculino    88394\n",
              " Feminino     24075\n",
              " Name: count, dtype: int64,\n",
              " 22)"
            ]
          },
          "execution_count": 40,
          "metadata": {},
          "output_type": "execute_result"
        }
      ],
      "source": [
        "df['SEXO'].value_counts(), df['SEXO'].isnull().sum()"
      ]
    },
    {
      "cell_type": "code",
      "execution_count": 41,
      "metadata": {
        "id": "f01wcgDakWW5"
      },
      "outputs": [],
      "source": [
        " df['SEXO'] = df['SEXO'].map({'Masculino': 1, 'Feminino': 2})"
      ]
    },
    {
      "cell_type": "code",
      "execution_count": 42,
      "metadata": {
        "colab": {
          "base_uri": "https://localhost:8080/"
        },
        "id": "NC1x3ISeVaPo",
        "outputId": "811155ce-59b8-42b3-9fc8-ba5982cdab07"
      },
      "outputs": [
        {
          "data": {
            "text/plain": [
              "(SEXO\n",
              " 1.0    88394\n",
              " 2.0    24075\n",
              " Name: count, dtype: int64,\n",
              " 22)"
            ]
          },
          "execution_count": 42,
          "metadata": {},
          "output_type": "execute_result"
        }
      ],
      "source": [
        "df['SEXO'].value_counts(), df['SEXO'].isnull().sum()"
      ]
    },
    {
      "cell_type": "markdown",
      "metadata": {
        "id": "Dp5T4U8XnMQE"
      },
      "source": [
        "### Causa Base"
      ]
    },
    {
      "cell_type": "code",
      "execution_count": 43,
      "metadata": {
        "id": "dZDiI2rrnPI5"
      },
      "outputs": [],
      "source": [
        "df[\"CAUSABAS\"] = 1"
      ]
    },
    {
      "cell_type": "code",
      "execution_count": 44,
      "metadata": {
        "id": "SocplbpPnTUO"
      },
      "outputs": [],
      "source": [
        "df = df.rename(columns={\"CAUSABAS\": \"SUICIDIO\"})"
      ]
    },
    {
      "cell_type": "code",
      "execution_count": 45,
      "metadata": {
        "colab": {
          "base_uri": "https://localhost:8080/",
          "height": 424
        },
        "id": "oYFXzAxBnc9z",
        "outputId": "5990959a-f9c0-4044-e793-5e697a16c9d4"
      },
      "outputs": [
        {
          "data": {
            "text/plain": [
              "SUICIDIO\n",
              "1    112491\n",
              "Name: count, dtype: int64"
            ]
          },
          "execution_count": 45,
          "metadata": {},
          "output_type": "execute_result"
        }
      ],
      "source": [
        "df['SUICIDIO'].value_counts()"
      ]
    },
    {
      "cell_type": "markdown",
      "metadata": {
        "id": "zW_0Mh-TD7DC"
      },
      "source": [
        "## Tratamento de features categóricas"
      ]
    },
    {
      "cell_type": "markdown",
      "metadata": {
        "id": "PG_y7n5yOaZS"
      },
      "source": [
        "### One Hot Enconding"
      ]
    },
    {
      "cell_type": "markdown",
      "metadata": {
        "id": "XWBgj0koOm1d"
      },
      "source": [
        "* Da forma que a feature SEXO está, o modelo pode acabar por inferir alguma relação ordinal entre os valores 'masculino' (1) e 'feminino' (2), o que não existe na realidade. Diferentemente de uma feature como escolaridade, por exemplo, em que quanto maior o valor numérico maior a escolaridade daquele indivíduo.\n",
        "* Para contornar isso, foi utilizada uma estratégia de one hot enconding, na qual essa coluna foi subdividida em duas, cada uma representando um dos estados possíveis (masculino ou feminino) podendo assumir os valores \"True\" ou \"False\"."
      ]
    },
    {
      "cell_type": "code",
      "execution_count": 46,
      "metadata": {
        "colab": {
          "base_uri": "https://localhost:8080/"
        },
        "id": "TsYJ1JFuUXys",
        "outputId": "85aabf2d-83bf-4b0f-babb-d6542645ebfa"
      },
      "outputs": [
        {
          "data": {
            "text/plain": [
              "SEXO\n",
              "1.0    88394\n",
              "2.0    24075\n",
              "Name: count, dtype: int64"
            ]
          },
          "execution_count": 46,
          "metadata": {},
          "output_type": "execute_result"
        }
      ],
      "source": [
        "# Os valores ignorados (iguais a 0) são muito poucos\n",
        "df['SEXO'].value_counts()"
      ]
    },
    {
      "cell_type": "code",
      "execution_count": 47,
      "metadata": {
        "id": "J10qzoVKyFWH"
      },
      "outputs": [],
      "source": [
        "# Criação e concatenação das novas colunas, assim como remoção da coluna antiga para a feature SEXO\n",
        "one_hot_sexo = pd.get_dummies(df['SEXO'], prefix='SEXO')\n",
        "df = pd.concat([df, one_hot_sexo], axis=1)\n",
        "df = df.rename(columns={'SEXO_1.0' : 'MASCULINO', 'SEXO_2.0' : 'FEMININO'}).drop(columns=['SEXO'])"
      ]
    },
    {
      "cell_type": "code",
      "execution_count": 48,
      "metadata": {
        "id": "rHZLXY1UJKRH"
      },
      "outputs": [],
      "source": [
        "df.dropna(inplace=True)"
      ]
    },
    {
      "cell_type": "code",
      "execution_count": 49,
      "metadata": {
        "colab": {
          "base_uri": "https://localhost:8080/",
          "height": 424
        },
        "id": "OmlTfQxVP7Q7",
        "outputId": "3f081f59-2660-4cc8-cba8-b5da4ef5026b"
      },
      "outputs": [
        {
          "data": {
            "text/html": [
              "<div>\n",
              "<style scoped>\n",
              "    .dataframe tbody tr th:only-of-type {\n",
              "        vertical-align: middle;\n",
              "    }\n",
              "\n",
              "    .dataframe tbody tr th {\n",
              "        vertical-align: top;\n",
              "    }\n",
              "\n",
              "    .dataframe thead th {\n",
              "        text-align: right;\n",
              "    }\n",
              "</style>\n",
              "<table border=\"1\" class=\"dataframe\">\n",
              "  <thead>\n",
              "    <tr style=\"text-align: right;\">\n",
              "      <th></th>\n",
              "      <th>NATURAL</th>\n",
              "      <th>RACACOR</th>\n",
              "      <th>ESTCIV</th>\n",
              "      <th>ESC</th>\n",
              "      <th>OCUP</th>\n",
              "      <th>SUICIDIO</th>\n",
              "      <th>IDADE</th>\n",
              "      <th>MASCULINO</th>\n",
              "      <th>FEMININO</th>\n",
              "    </tr>\n",
              "  </thead>\n",
              "  <tbody>\n",
              "    <tr>\n",
              "      <th>0</th>\n",
              "      <td>12</td>\n",
              "      <td>4.0</td>\n",
              "      <td>1.0</td>\n",
              "      <td>2.000000</td>\n",
              "      <td>-1.0</td>\n",
              "      <td>1</td>\n",
              "      <td>10.228611</td>\n",
              "      <td>True</td>\n",
              "      <td>False</td>\n",
              "    </tr>\n",
              "    <tr>\n",
              "      <th>1</th>\n",
              "      <td>12</td>\n",
              "      <td>4.0</td>\n",
              "      <td>1.0</td>\n",
              "      <td>2.000000</td>\n",
              "      <td>-1.0</td>\n",
              "      <td>1</td>\n",
              "      <td>24.375086</td>\n",
              "      <td>True</td>\n",
              "      <td>False</td>\n",
              "    </tr>\n",
              "    <tr>\n",
              "      <th>2</th>\n",
              "      <td>12</td>\n",
              "      <td>4.0</td>\n",
              "      <td>1.0</td>\n",
              "      <td>2.000000</td>\n",
              "      <td>-1.0</td>\n",
              "      <td>1</td>\n",
              "      <td>14.540726</td>\n",
              "      <td>True</td>\n",
              "      <td>False</td>\n",
              "    </tr>\n",
              "    <tr>\n",
              "      <th>3</th>\n",
              "      <td>12</td>\n",
              "      <td>4.0</td>\n",
              "      <td>2.0</td>\n",
              "      <td>2.000000</td>\n",
              "      <td>-1.0</td>\n",
              "      <td>1</td>\n",
              "      <td>26.318960</td>\n",
              "      <td>False</td>\n",
              "      <td>True</td>\n",
              "    </tr>\n",
              "    <tr>\n",
              "      <th>4</th>\n",
              "      <td>12</td>\n",
              "      <td>4.0</td>\n",
              "      <td>2.0</td>\n",
              "      <td>3.229998</td>\n",
              "      <td>-1.0</td>\n",
              "      <td>1</td>\n",
              "      <td>28.197125</td>\n",
              "      <td>True</td>\n",
              "      <td>False</td>\n",
              "    </tr>\n",
              "    <tr>\n",
              "      <th>...</th>\n",
              "      <td>...</td>\n",
              "      <td>...</td>\n",
              "      <td>...</td>\n",
              "      <td>...</td>\n",
              "      <td>...</td>\n",
              "      <td>...</td>\n",
              "      <td>...</td>\n",
              "      <td>...</td>\n",
              "      <td>...</td>\n",
              "    </tr>\n",
              "    <tr>\n",
              "      <th>112486</th>\n",
              "      <td>17</td>\n",
              "      <td>4.0</td>\n",
              "      <td>1.0</td>\n",
              "      <td>3.000000</td>\n",
              "      <td>5134.0</td>\n",
              "      <td>1</td>\n",
              "      <td>28.095825</td>\n",
              "      <td>False</td>\n",
              "      <td>True</td>\n",
              "    </tr>\n",
              "    <tr>\n",
              "      <th>112487</th>\n",
              "      <td>17</td>\n",
              "      <td>4.0</td>\n",
              "      <td>1.0</td>\n",
              "      <td>3.000000</td>\n",
              "      <td>-1.0</td>\n",
              "      <td>1</td>\n",
              "      <td>52.605065</td>\n",
              "      <td>False</td>\n",
              "      <td>True</td>\n",
              "    </tr>\n",
              "    <tr>\n",
              "      <th>112488</th>\n",
              "      <td>17</td>\n",
              "      <td>1.0</td>\n",
              "      <td>2.0</td>\n",
              "      <td>4.000000</td>\n",
              "      <td>5134.0</td>\n",
              "      <td>1</td>\n",
              "      <td>42.047912</td>\n",
              "      <td>True</td>\n",
              "      <td>False</td>\n",
              "    </tr>\n",
              "    <tr>\n",
              "      <th>112489</th>\n",
              "      <td>17</td>\n",
              "      <td>4.0</td>\n",
              "      <td>2.0</td>\n",
              "      <td>3.229998</td>\n",
              "      <td>-1.0</td>\n",
              "      <td>1</td>\n",
              "      <td>41.420945</td>\n",
              "      <td>True</td>\n",
              "      <td>False</td>\n",
              "    </tr>\n",
              "    <tr>\n",
              "      <th>112490</th>\n",
              "      <td>17</td>\n",
              "      <td>4.0</td>\n",
              "      <td>1.0</td>\n",
              "      <td>2.000000</td>\n",
              "      <td>-1.0</td>\n",
              "      <td>1</td>\n",
              "      <td>44.292950</td>\n",
              "      <td>True</td>\n",
              "      <td>False</td>\n",
              "    </tr>\n",
              "  </tbody>\n",
              "</table>\n",
              "<p>112491 rows × 9 columns</p>\n",
              "</div>"
            ],
            "text/plain": [
              "        NATURAL  RACACOR  ESTCIV       ESC    OCUP  SUICIDIO      IDADE  \\\n",
              "0            12      4.0     1.0  2.000000    -1.0         1  10.228611   \n",
              "1            12      4.0     1.0  2.000000    -1.0         1  24.375086   \n",
              "2            12      4.0     1.0  2.000000    -1.0         1  14.540726   \n",
              "3            12      4.0     2.0  2.000000    -1.0         1  26.318960   \n",
              "4            12      4.0     2.0  3.229998    -1.0         1  28.197125   \n",
              "...         ...      ...     ...       ...     ...       ...        ...   \n",
              "112486       17      4.0     1.0  3.000000  5134.0         1  28.095825   \n",
              "112487       17      4.0     1.0  3.000000    -1.0         1  52.605065   \n",
              "112488       17      1.0     2.0  4.000000  5134.0         1  42.047912   \n",
              "112489       17      4.0     2.0  3.229998    -1.0         1  41.420945   \n",
              "112490       17      4.0     1.0  2.000000    -1.0         1  44.292950   \n",
              "\n",
              "        MASCULINO  FEMININO  \n",
              "0            True     False  \n",
              "1            True     False  \n",
              "2            True     False  \n",
              "3           False      True  \n",
              "4            True     False  \n",
              "...           ...       ...  \n",
              "112486      False      True  \n",
              "112487      False      True  \n",
              "112488       True     False  \n",
              "112489       True     False  \n",
              "112490       True     False  \n",
              "\n",
              "[112491 rows x 9 columns]"
            ]
          },
          "execution_count": 49,
          "metadata": {},
          "output_type": "execute_result"
        }
      ],
      "source": [
        "# Como o dataframe ficou\n",
        "df"
      ]
    },
    {
      "cell_type": "markdown",
      "metadata": {
        "id": "C54fSfVcJRK7"
      },
      "source": [
        "## Concatenação dos dataframes"
      ]
    },
    {
      "cell_type": "code",
      "execution_count": 58,
      "metadata": {
        "colab": {
          "base_uri": "https://localhost:8080/",
          "height": 424
        },
        "id": "W8DHHYHgJQP4",
        "outputId": "dd3a1812-13e0-431e-8871-2afbca10092e"
      },
      "outputs": [
        {
          "data": {
            "text/html": [
              "<div>\n",
              "<style scoped>\n",
              "    .dataframe tbody tr th:only-of-type {\n",
              "        vertical-align: middle;\n",
              "    }\n",
              "\n",
              "    .dataframe tbody tr th {\n",
              "        vertical-align: top;\n",
              "    }\n",
              "\n",
              "    .dataframe thead th {\n",
              "        text-align: right;\n",
              "    }\n",
              "</style>\n",
              "<table border=\"1\" class=\"dataframe\">\n",
              "  <thead>\n",
              "    <tr style=\"text-align: right;\">\n",
              "      <th></th>\n",
              "      <th>ESC</th>\n",
              "      <th>ESTCIV</th>\n",
              "      <th>IDADE</th>\n",
              "      <th>NATURAL</th>\n",
              "      <th>OCUP</th>\n",
              "      <th>RACACOR</th>\n",
              "      <th>MASCULINO</th>\n",
              "      <th>FEMININO</th>\n",
              "      <th>SUICIDIO</th>\n",
              "    </tr>\n",
              "  </thead>\n",
              "  <tbody>\n",
              "    <tr>\n",
              "      <th>0</th>\n",
              "      <td>0.000000</td>\n",
              "      <td>4.0</td>\n",
              "      <td>63.0</td>\n",
              "      <td>-1</td>\n",
              "      <td>999993.0</td>\n",
              "      <td>1.0</td>\n",
              "      <td>True</td>\n",
              "      <td>False</td>\n",
              "      <td>0</td>\n",
              "    </tr>\n",
              "    <tr>\n",
              "      <th>1</th>\n",
              "      <td>2.000000</td>\n",
              "      <td>2.0</td>\n",
              "      <td>81.0</td>\n",
              "      <td>-1</td>\n",
              "      <td>214305.0</td>\n",
              "      <td>9.0</td>\n",
              "      <td>True</td>\n",
              "      <td>False</td>\n",
              "      <td>0</td>\n",
              "    </tr>\n",
              "    <tr>\n",
              "      <th>2</th>\n",
              "      <td>2.000000</td>\n",
              "      <td>3.0</td>\n",
              "      <td>93.0</td>\n",
              "      <td>-1</td>\n",
              "      <td>514105.0</td>\n",
              "      <td>1.0</td>\n",
              "      <td>False</td>\n",
              "      <td>True</td>\n",
              "      <td>0</td>\n",
              "    </tr>\n",
              "    <tr>\n",
              "      <th>3</th>\n",
              "      <td>2.000000</td>\n",
              "      <td>1.0</td>\n",
              "      <td>89.0</td>\n",
              "      <td>-2</td>\n",
              "      <td>214305.0</td>\n",
              "      <td>1.0</td>\n",
              "      <td>True</td>\n",
              "      <td>False</td>\n",
              "      <td>0</td>\n",
              "    </tr>\n",
              "    <tr>\n",
              "      <th>4</th>\n",
              "      <td>0.000000</td>\n",
              "      <td>3.0</td>\n",
              "      <td>80.0</td>\n",
              "      <td>-1</td>\n",
              "      <td>-1.0</td>\n",
              "      <td>1.0</td>\n",
              "      <td>False</td>\n",
              "      <td>True</td>\n",
              "      <td>0</td>\n",
              "    </tr>\n",
              "    <tr>\n",
              "      <th>...</th>\n",
              "      <td>...</td>\n",
              "      <td>...</td>\n",
              "      <td>...</td>\n",
              "      <td>...</td>\n",
              "      <td>...</td>\n",
              "      <td>...</td>\n",
              "      <td>...</td>\n",
              "      <td>...</td>\n",
              "      <td>...</td>\n",
              "    </tr>\n",
              "    <tr>\n",
              "      <th>3045770</th>\n",
              "      <td>1.000000</td>\n",
              "      <td>1.0</td>\n",
              "      <td>41.0</td>\n",
              "      <td>35</td>\n",
              "      <td>999993.0</td>\n",
              "      <td>9.0</td>\n",
              "      <td>False</td>\n",
              "      <td>True</td>\n",
              "      <td>0</td>\n",
              "    </tr>\n",
              "    <tr>\n",
              "      <th>3045771</th>\n",
              "      <td>2.300886</td>\n",
              "      <td>9.0</td>\n",
              "      <td>65.0</td>\n",
              "      <td>35</td>\n",
              "      <td>-1.0</td>\n",
              "      <td>1.0</td>\n",
              "      <td>True</td>\n",
              "      <td>False</td>\n",
              "      <td>0</td>\n",
              "    </tr>\n",
              "    <tr>\n",
              "      <th>3045772</th>\n",
              "      <td>2.000000</td>\n",
              "      <td>1.0</td>\n",
              "      <td>55.0</td>\n",
              "      <td>29</td>\n",
              "      <td>999993.0</td>\n",
              "      <td>4.0</td>\n",
              "      <td>True</td>\n",
              "      <td>False</td>\n",
              "      <td>0</td>\n",
              "    </tr>\n",
              "    <tr>\n",
              "      <th>3045773</th>\n",
              "      <td>2.000000</td>\n",
              "      <td>3.0</td>\n",
              "      <td>87.0</td>\n",
              "      <td>35</td>\n",
              "      <td>999993.0</td>\n",
              "      <td>1.0</td>\n",
              "      <td>True</td>\n",
              "      <td>False</td>\n",
              "      <td>0</td>\n",
              "    </tr>\n",
              "    <tr>\n",
              "      <th>3045774</th>\n",
              "      <td>2.000000</td>\n",
              "      <td>2.0</td>\n",
              "      <td>86.0</td>\n",
              "      <td>35</td>\n",
              "      <td>999993.0</td>\n",
              "      <td>1.0</td>\n",
              "      <td>True</td>\n",
              "      <td>False</td>\n",
              "      <td>0</td>\n",
              "    </tr>\n",
              "  </tbody>\n",
              "</table>\n",
              "<p>3045621 rows × 9 columns</p>\n",
              "</div>"
            ],
            "text/plain": [
              "              ESC  ESTCIV  IDADE  NATURAL      OCUP  RACACOR  MASCULINO  \\\n",
              "0        0.000000     4.0   63.0       -1  999993.0      1.0       True   \n",
              "1        2.000000     2.0   81.0       -1  214305.0      9.0       True   \n",
              "2        2.000000     3.0   93.0       -1  514105.0      1.0      False   \n",
              "3        2.000000     1.0   89.0       -2  214305.0      1.0       True   \n",
              "4        0.000000     3.0   80.0       -1      -1.0      1.0      False   \n",
              "...           ...     ...    ...      ...       ...      ...        ...   \n",
              "3045770  1.000000     1.0   41.0       35  999993.0      9.0      False   \n",
              "3045771  2.300886     9.0   65.0       35      -1.0      1.0       True   \n",
              "3045772  2.000000     1.0   55.0       29  999993.0      4.0       True   \n",
              "3045773  2.000000     3.0   87.0       35  999993.0      1.0       True   \n",
              "3045774  2.000000     2.0   86.0       35  999993.0      1.0       True   \n",
              "\n",
              "         FEMININO  SUICIDIO  \n",
              "0           False         0  \n",
              "1           False         0  \n",
              "2            True         0  \n",
              "3           False         0  \n",
              "4            True         0  \n",
              "...           ...       ...  \n",
              "3045770      True         0  \n",
              "3045771     False         0  \n",
              "3045772     False         0  \n",
              "3045773     False         0  \n",
              "3045774     False         0  \n",
              "\n",
              "[3045621 rows x 9 columns]"
            ]
          },
          "execution_count": 58,
          "metadata": {},
          "output_type": "execute_result"
        }
      ],
      "source": [
        "old_df = pd.read_parquet(\"../data/processed/prototype1.parquet\")\n",
        "old_df"
      ]
    },
    {
      "cell_type": "code",
      "execution_count": 59,
      "metadata": {
        "colab": {
          "base_uri": "https://localhost:8080/",
          "height": 424
        },
        "id": "a6Snl7tnKPct",
        "outputId": "bce7e7f9-56d4-4e3c-fd23-a37275e6fd14"
      },
      "outputs": [
        {
          "data": {
            "text/html": [
              "<div>\n",
              "<style scoped>\n",
              "    .dataframe tbody tr th:only-of-type {\n",
              "        vertical-align: middle;\n",
              "    }\n",
              "\n",
              "    .dataframe tbody tr th {\n",
              "        vertical-align: top;\n",
              "    }\n",
              "\n",
              "    .dataframe thead th {\n",
              "        text-align: right;\n",
              "    }\n",
              "</style>\n",
              "<table border=\"1\" class=\"dataframe\">\n",
              "  <thead>\n",
              "    <tr style=\"text-align: right;\">\n",
              "      <th></th>\n",
              "      <th>ESC</th>\n",
              "      <th>ESTCIV</th>\n",
              "      <th>IDADE</th>\n",
              "      <th>NATURAL</th>\n",
              "      <th>OCUP</th>\n",
              "      <th>RACACOR</th>\n",
              "      <th>MASCULINO</th>\n",
              "      <th>FEMININO</th>\n",
              "      <th>SUICIDIO</th>\n",
              "    </tr>\n",
              "  </thead>\n",
              "  <tbody>\n",
              "    <tr>\n",
              "      <th>0</th>\n",
              "      <td>0.000000</td>\n",
              "      <td>4.0</td>\n",
              "      <td>63.000000</td>\n",
              "      <td>-1</td>\n",
              "      <td>999993.0</td>\n",
              "      <td>1.0</td>\n",
              "      <td>True</td>\n",
              "      <td>False</td>\n",
              "      <td>0</td>\n",
              "    </tr>\n",
              "    <tr>\n",
              "      <th>1</th>\n",
              "      <td>2.000000</td>\n",
              "      <td>2.0</td>\n",
              "      <td>81.000000</td>\n",
              "      <td>-1</td>\n",
              "      <td>214305.0</td>\n",
              "      <td>9.0</td>\n",
              "      <td>True</td>\n",
              "      <td>False</td>\n",
              "      <td>0</td>\n",
              "    </tr>\n",
              "    <tr>\n",
              "      <th>2</th>\n",
              "      <td>2.000000</td>\n",
              "      <td>3.0</td>\n",
              "      <td>93.000000</td>\n",
              "      <td>-1</td>\n",
              "      <td>514105.0</td>\n",
              "      <td>1.0</td>\n",
              "      <td>False</td>\n",
              "      <td>True</td>\n",
              "      <td>0</td>\n",
              "    </tr>\n",
              "    <tr>\n",
              "      <th>3</th>\n",
              "      <td>2.000000</td>\n",
              "      <td>1.0</td>\n",
              "      <td>89.000000</td>\n",
              "      <td>-2</td>\n",
              "      <td>214305.0</td>\n",
              "      <td>1.0</td>\n",
              "      <td>True</td>\n",
              "      <td>False</td>\n",
              "      <td>0</td>\n",
              "    </tr>\n",
              "    <tr>\n",
              "      <th>4</th>\n",
              "      <td>0.000000</td>\n",
              "      <td>3.0</td>\n",
              "      <td>80.000000</td>\n",
              "      <td>-1</td>\n",
              "      <td>-1.0</td>\n",
              "      <td>1.0</td>\n",
              "      <td>False</td>\n",
              "      <td>True</td>\n",
              "      <td>0</td>\n",
              "    </tr>\n",
              "    <tr>\n",
              "      <th>...</th>\n",
              "      <td>...</td>\n",
              "      <td>...</td>\n",
              "      <td>...</td>\n",
              "      <td>...</td>\n",
              "      <td>...</td>\n",
              "      <td>...</td>\n",
              "      <td>...</td>\n",
              "      <td>...</td>\n",
              "      <td>...</td>\n",
              "    </tr>\n",
              "    <tr>\n",
              "      <th>3158107</th>\n",
              "      <td>3.000000</td>\n",
              "      <td>1.0</td>\n",
              "      <td>28.095825</td>\n",
              "      <td>17</td>\n",
              "      <td>5134.0</td>\n",
              "      <td>4.0</td>\n",
              "      <td>False</td>\n",
              "      <td>True</td>\n",
              "      <td>1</td>\n",
              "    </tr>\n",
              "    <tr>\n",
              "      <th>3158108</th>\n",
              "      <td>3.000000</td>\n",
              "      <td>1.0</td>\n",
              "      <td>52.605065</td>\n",
              "      <td>17</td>\n",
              "      <td>-1.0</td>\n",
              "      <td>4.0</td>\n",
              "      <td>False</td>\n",
              "      <td>True</td>\n",
              "      <td>1</td>\n",
              "    </tr>\n",
              "    <tr>\n",
              "      <th>3158109</th>\n",
              "      <td>4.000000</td>\n",
              "      <td>2.0</td>\n",
              "      <td>42.047912</td>\n",
              "      <td>17</td>\n",
              "      <td>5134.0</td>\n",
              "      <td>1.0</td>\n",
              "      <td>True</td>\n",
              "      <td>False</td>\n",
              "      <td>1</td>\n",
              "    </tr>\n",
              "    <tr>\n",
              "      <th>3158110</th>\n",
              "      <td>3.229998</td>\n",
              "      <td>2.0</td>\n",
              "      <td>41.420945</td>\n",
              "      <td>17</td>\n",
              "      <td>-1.0</td>\n",
              "      <td>4.0</td>\n",
              "      <td>True</td>\n",
              "      <td>False</td>\n",
              "      <td>1</td>\n",
              "    </tr>\n",
              "    <tr>\n",
              "      <th>3158111</th>\n",
              "      <td>2.000000</td>\n",
              "      <td>1.0</td>\n",
              "      <td>44.292950</td>\n",
              "      <td>17</td>\n",
              "      <td>-1.0</td>\n",
              "      <td>4.0</td>\n",
              "      <td>True</td>\n",
              "      <td>False</td>\n",
              "      <td>1</td>\n",
              "    </tr>\n",
              "  </tbody>\n",
              "</table>\n",
              "<p>3158112 rows × 9 columns</p>\n",
              "</div>"
            ],
            "text/plain": [
              "              ESC  ESTCIV      IDADE  NATURAL      OCUP  RACACOR  MASCULINO  \\\n",
              "0        0.000000     4.0  63.000000       -1  999993.0      1.0       True   \n",
              "1        2.000000     2.0  81.000000       -1  214305.0      9.0       True   \n",
              "2        2.000000     3.0  93.000000       -1  514105.0      1.0      False   \n",
              "3        2.000000     1.0  89.000000       -2  214305.0      1.0       True   \n",
              "4        0.000000     3.0  80.000000       -1      -1.0      1.0      False   \n",
              "...           ...     ...        ...      ...       ...      ...        ...   \n",
              "3158107  3.000000     1.0  28.095825       17    5134.0      4.0      False   \n",
              "3158108  3.000000     1.0  52.605065       17      -1.0      4.0      False   \n",
              "3158109  4.000000     2.0  42.047912       17    5134.0      1.0       True   \n",
              "3158110  3.229998     2.0  41.420945       17      -1.0      4.0       True   \n",
              "3158111  2.000000     1.0  44.292950       17      -1.0      4.0       True   \n",
              "\n",
              "         FEMININO  SUICIDIO  \n",
              "0           False         0  \n",
              "1           False         0  \n",
              "2            True         0  \n",
              "3           False         0  \n",
              "4            True         0  \n",
              "...           ...       ...  \n",
              "3158107      True         1  \n",
              "3158108      True         1  \n",
              "3158109     False         1  \n",
              "3158110     False         1  \n",
              "3158111     False         1  \n",
              "\n",
              "[3158112 rows x 9 columns]"
            ]
          },
          "execution_count": 59,
          "metadata": {},
          "output_type": "execute_result"
        }
      ],
      "source": [
        "balanced_df = pd.concat((old_df, df),  ignore_index=True).reset_index(drop=True)\n",
        "balanced_df"
      ]
    },
    {
      "cell_type": "code",
      "execution_count": 60,
      "metadata": {
        "colab": {
          "base_uri": "https://localhost:8080/",
          "height": 424
        },
        "id": "1TI89VttJ3Zi",
        "outputId": "ab36ed1b-1e6b-4cf4-be53-ca8fdc6a57ef"
      },
      "outputs": [
        {
          "data": {
            "text/html": [
              "<div>\n",
              "<style scoped>\n",
              "    .dataframe tbody tr th:only-of-type {\n",
              "        vertical-align: middle;\n",
              "    }\n",
              "\n",
              "    .dataframe tbody tr th {\n",
              "        vertical-align: top;\n",
              "    }\n",
              "\n",
              "    .dataframe thead th {\n",
              "        text-align: right;\n",
              "    }\n",
              "</style>\n",
              "<table border=\"1\" class=\"dataframe\">\n",
              "  <thead>\n",
              "    <tr style=\"text-align: right;\">\n",
              "      <th></th>\n",
              "      <th>ESC</th>\n",
              "      <th>ESTCIV</th>\n",
              "      <th>IDADE</th>\n",
              "      <th>NATURAL</th>\n",
              "      <th>OCUP</th>\n",
              "      <th>RACACOR</th>\n",
              "      <th>MASCULINO</th>\n",
              "      <th>FEMININO</th>\n",
              "      <th>SUICIDIO</th>\n",
              "    </tr>\n",
              "  </thead>\n",
              "  <tbody>\n",
              "    <tr>\n",
              "      <th>0</th>\n",
              "      <td>0.000000</td>\n",
              "      <td>2.0</td>\n",
              "      <td>58.000000</td>\n",
              "      <td>-1</td>\n",
              "      <td>998999.0</td>\n",
              "      <td>1.0</td>\n",
              "      <td>True</td>\n",
              "      <td>False</td>\n",
              "      <td>0</td>\n",
              "    </tr>\n",
              "    <tr>\n",
              "      <th>1</th>\n",
              "      <td>0.000000</td>\n",
              "      <td>3.0</td>\n",
              "      <td>89.000000</td>\n",
              "      <td>31</td>\n",
              "      <td>621005.0</td>\n",
              "      <td>1.0</td>\n",
              "      <td>False</td>\n",
              "      <td>True</td>\n",
              "      <td>0</td>\n",
              "    </tr>\n",
              "    <tr>\n",
              "      <th>2</th>\n",
              "      <td>1.000000</td>\n",
              "      <td>3.0</td>\n",
              "      <td>91.000000</td>\n",
              "      <td>-1</td>\n",
              "      <td>-1.0</td>\n",
              "      <td>1.0</td>\n",
              "      <td>False</td>\n",
              "      <td>True</td>\n",
              "      <td>0</td>\n",
              "    </tr>\n",
              "    <tr>\n",
              "      <th>3</th>\n",
              "      <td>2.000000</td>\n",
              "      <td>3.0</td>\n",
              "      <td>92.000000</td>\n",
              "      <td>-1</td>\n",
              "      <td>999993.0</td>\n",
              "      <td>1.0</td>\n",
              "      <td>True</td>\n",
              "      <td>False</td>\n",
              "      <td>0</td>\n",
              "    </tr>\n",
              "    <tr>\n",
              "      <th>4</th>\n",
              "      <td>3.000000</td>\n",
              "      <td>3.0</td>\n",
              "      <td>80.000000</td>\n",
              "      <td>35</td>\n",
              "      <td>715210.0</td>\n",
              "      <td>2.0</td>\n",
              "      <td>True</td>\n",
              "      <td>False</td>\n",
              "      <td>0</td>\n",
              "    </tr>\n",
              "    <tr>\n",
              "      <th>...</th>\n",
              "      <td>...</td>\n",
              "      <td>...</td>\n",
              "      <td>...</td>\n",
              "      <td>...</td>\n",
              "      <td>...</td>\n",
              "      <td>...</td>\n",
              "      <td>...</td>\n",
              "      <td>...</td>\n",
              "      <td>...</td>\n",
              "    </tr>\n",
              "    <tr>\n",
              "      <th>272141</th>\n",
              "      <td>3.000000</td>\n",
              "      <td>1.0</td>\n",
              "      <td>28.095825</td>\n",
              "      <td>17</td>\n",
              "      <td>5134.0</td>\n",
              "      <td>4.0</td>\n",
              "      <td>False</td>\n",
              "      <td>True</td>\n",
              "      <td>1</td>\n",
              "    </tr>\n",
              "    <tr>\n",
              "      <th>272142</th>\n",
              "      <td>3.000000</td>\n",
              "      <td>1.0</td>\n",
              "      <td>52.605065</td>\n",
              "      <td>17</td>\n",
              "      <td>-1.0</td>\n",
              "      <td>4.0</td>\n",
              "      <td>False</td>\n",
              "      <td>True</td>\n",
              "      <td>1</td>\n",
              "    </tr>\n",
              "    <tr>\n",
              "      <th>272143</th>\n",
              "      <td>4.000000</td>\n",
              "      <td>2.0</td>\n",
              "      <td>42.047912</td>\n",
              "      <td>17</td>\n",
              "      <td>5134.0</td>\n",
              "      <td>1.0</td>\n",
              "      <td>True</td>\n",
              "      <td>False</td>\n",
              "      <td>1</td>\n",
              "    </tr>\n",
              "    <tr>\n",
              "      <th>272144</th>\n",
              "      <td>3.229998</td>\n",
              "      <td>2.0</td>\n",
              "      <td>41.420945</td>\n",
              "      <td>17</td>\n",
              "      <td>-1.0</td>\n",
              "      <td>4.0</td>\n",
              "      <td>True</td>\n",
              "      <td>False</td>\n",
              "      <td>1</td>\n",
              "    </tr>\n",
              "    <tr>\n",
              "      <th>272145</th>\n",
              "      <td>2.000000</td>\n",
              "      <td>1.0</td>\n",
              "      <td>44.292950</td>\n",
              "      <td>17</td>\n",
              "      <td>-1.0</td>\n",
              "      <td>4.0</td>\n",
              "      <td>True</td>\n",
              "      <td>False</td>\n",
              "      <td>1</td>\n",
              "    </tr>\n",
              "  </tbody>\n",
              "</table>\n",
              "<p>272146 rows × 9 columns</p>\n",
              "</div>"
            ],
            "text/plain": [
              "             ESC  ESTCIV      IDADE  NATURAL      OCUP  RACACOR  MASCULINO  \\\n",
              "0       0.000000     2.0  58.000000       -1  998999.0      1.0       True   \n",
              "1       0.000000     3.0  89.000000       31  621005.0      1.0      False   \n",
              "2       1.000000     3.0  91.000000       -1      -1.0      1.0      False   \n",
              "3       2.000000     3.0  92.000000       -1  999993.0      1.0       True   \n",
              "4       3.000000     3.0  80.000000       35  715210.0      2.0       True   \n",
              "...          ...     ...        ...      ...       ...      ...        ...   \n",
              "272141  3.000000     1.0  28.095825       17    5134.0      4.0      False   \n",
              "272142  3.000000     1.0  52.605065       17      -1.0      4.0      False   \n",
              "272143  4.000000     2.0  42.047912       17    5134.0      1.0       True   \n",
              "272144  3.229998     2.0  41.420945       17      -1.0      4.0       True   \n",
              "272145  2.000000     1.0  44.292950       17      -1.0      4.0       True   \n",
              "\n",
              "        FEMININO  SUICIDIO  \n",
              "0          False         0  \n",
              "1           True         0  \n",
              "2           True         0  \n",
              "3          False         0  \n",
              "4          False         0  \n",
              "...          ...       ...  \n",
              "272141      True         1  \n",
              "272142      True         1  \n",
              "272143     False         1  \n",
              "272144     False         1  \n",
              "272145     False         1  \n",
              "\n",
              "[272146 rows x 9 columns]"
            ]
          },
          "execution_count": 60,
          "metadata": {},
          "output_type": "execute_result"
        }
      ],
      "source": [
        "suicidio_0 = balanced_df[balanced_df['SUICIDIO'] == 0]\n",
        "suicidio_1 = balanced_df[balanced_df['SUICIDIO'] == 1]\n",
        "\n",
        "suicidio_0 = suicidio_0.sample(n=len(suicidio_1), replace=False)\n",
        "\n",
        "balanced_df = pd.concat((suicidio_0, suicidio_1), ignore_index=True).reset_index(drop=True)\n",
        "balanced_df"
      ]
    },
    {
      "cell_type": "markdown",
      "metadata": {
        "id": "ga-h0Zi3XhcY"
      },
      "source": [
        "## Normalização"
      ]
    },
    {
      "cell_type": "markdown",
      "metadata": {
        "id": "Bc-OZ5BP9oMm"
      },
      "source": [
        "* As diferentes features numéricas da base apresentam escalas diferentes. Por exemplo, para a coluna ESC o valor 5 é o maior alto existente, enquanto para IDADE esse valor é 129. Para resolver esse problema, é importante fazer uma normalização dos dados."
      ]
    },
    {
      "cell_type": "code",
      "execution_count": 66,
      "metadata": {
        "id": "nkd0AWdoyFWJ"
      },
      "outputs": [],
      "source": [
        "std = StandardScaler()\n",
        "columns = ['ESC', 'ESTCIV', 'OCUP', 'IDADE', 'RACACOR', 'NATURAL']\n",
        "balanced_df[columns] = std.fit_transform(balanced_df[columns])"
      ]
    },
    {
      "cell_type": "markdown",
      "metadata": {},
      "source": [
        "#### Serialização do modelo de normalização para uso posterior"
      ]
    },
    {
      "cell_type": "code",
      "execution_count": 67,
      "metadata": {},
      "outputs": [],
      "source": [
        "with open(\"../models/prototype.pkl\", \"wb\") as f:\n",
        "    pickle.dump(std, f)"
      ]
    },
    {
      "cell_type": "code",
      "execution_count": 63,
      "metadata": {
        "colab": {
          "base_uri": "https://localhost:8080/",
          "height": 424
        },
        "id": "e7ja8ILSyFWK",
        "outputId": "275aa1a9-4f1d-4f9a-d589-b23336e0215e"
      },
      "outputs": [
        {
          "data": {
            "text/html": [
              "<div>\n",
              "<style scoped>\n",
              "    .dataframe tbody tr th:only-of-type {\n",
              "        vertical-align: middle;\n",
              "    }\n",
              "\n",
              "    .dataframe tbody tr th {\n",
              "        vertical-align: top;\n",
              "    }\n",
              "\n",
              "    .dataframe thead th {\n",
              "        text-align: right;\n",
              "    }\n",
              "</style>\n",
              "<table border=\"1\" class=\"dataframe\">\n",
              "  <thead>\n",
              "    <tr style=\"text-align: right;\">\n",
              "      <th></th>\n",
              "      <th>ESC</th>\n",
              "      <th>ESTCIV</th>\n",
              "      <th>IDADE</th>\n",
              "      <th>NATURAL</th>\n",
              "      <th>OCUP</th>\n",
              "      <th>RACACOR</th>\n",
              "      <th>MASCULINO</th>\n",
              "      <th>FEMININO</th>\n",
              "      <th>SUICIDIO</th>\n",
              "    </tr>\n",
              "  </thead>\n",
              "  <tbody>\n",
              "    <tr>\n",
              "      <th>0</th>\n",
              "      <td>-2.137472</td>\n",
              "      <td>-0.244555</td>\n",
              "      <td>0.170213</td>\n",
              "      <td>-1.799085</td>\n",
              "      <td>1.411365</td>\n",
              "      <td>-0.632678</td>\n",
              "      <td>True</td>\n",
              "      <td>False</td>\n",
              "      <td>0</td>\n",
              "    </tr>\n",
              "    <tr>\n",
              "      <th>1</th>\n",
              "      <td>-2.137472</td>\n",
              "      <td>0.220752</td>\n",
              "      <td>1.542380</td>\n",
              "      <td>0.286966</td>\n",
              "      <td>0.558571</td>\n",
              "      <td>-0.632678</td>\n",
              "      <td>False</td>\n",
              "      <td>True</td>\n",
              "      <td>0</td>\n",
              "    </tr>\n",
              "    <tr>\n",
              "      <th>2</th>\n",
              "      <td>-1.354708</td>\n",
              "      <td>0.220752</td>\n",
              "      <td>1.630907</td>\n",
              "      <td>-1.799085</td>\n",
              "      <td>-0.842485</td>\n",
              "      <td>-0.632678</td>\n",
              "      <td>False</td>\n",
              "      <td>True</td>\n",
              "      <td>0</td>\n",
              "    </tr>\n",
              "    <tr>\n",
              "      <th>3</th>\n",
              "      <td>-0.571944</td>\n",
              "      <td>0.220752</td>\n",
              "      <td>1.675171</td>\n",
              "      <td>-1.799085</td>\n",
              "      <td>1.413608</td>\n",
              "      <td>-0.632678</td>\n",
              "      <td>True</td>\n",
              "      <td>False</td>\n",
              "      <td>0</td>\n",
              "    </tr>\n",
              "    <tr>\n",
              "      <th>4</th>\n",
              "      <td>0.210821</td>\n",
              "      <td>0.220752</td>\n",
              "      <td>1.144009</td>\n",
              "      <td>0.547722</td>\n",
              "      <td>0.771107</td>\n",
              "      <td>-0.081241</td>\n",
              "      <td>True</td>\n",
              "      <td>False</td>\n",
              "      <td>0</td>\n",
              "    </tr>\n",
              "    <tr>\n",
              "      <th>...</th>\n",
              "      <td>...</td>\n",
              "      <td>...</td>\n",
              "      <td>...</td>\n",
              "      <td>...</td>\n",
              "      <td>...</td>\n",
              "      <td>...</td>\n",
              "      <td>...</td>\n",
              "      <td>...</td>\n",
              "      <td>...</td>\n",
              "    </tr>\n",
              "    <tr>\n",
              "      <th>272141</th>\n",
              "      <td>0.210821</td>\n",
              "      <td>-0.709863</td>\n",
              "      <td>-1.153449</td>\n",
              "      <td>-0.625681</td>\n",
              "      <td>-0.830900</td>\n",
              "      <td>1.021635</td>\n",
              "      <td>False</td>\n",
              "      <td>True</td>\n",
              "      <td>1</td>\n",
              "    </tr>\n",
              "    <tr>\n",
              "      <th>272142</th>\n",
              "      <td>0.210821</td>\n",
              "      <td>-0.709863</td>\n",
              "      <td>-0.068585</td>\n",
              "      <td>-0.625681</td>\n",
              "      <td>-0.842485</td>\n",
              "      <td>1.021635</td>\n",
              "      <td>False</td>\n",
              "      <td>True</td>\n",
              "      <td>1</td>\n",
              "    </tr>\n",
              "    <tr>\n",
              "      <th>272143</th>\n",
              "      <td>0.993585</td>\n",
              "      <td>-0.244555</td>\n",
              "      <td>-0.535881</td>\n",
              "      <td>-0.625681</td>\n",
              "      <td>-0.830900</td>\n",
              "      <td>-0.632678</td>\n",
              "      <td>True</td>\n",
              "      <td>False</td>\n",
              "      <td>1</td>\n",
              "    </tr>\n",
              "    <tr>\n",
              "      <th>272144</th>\n",
              "      <td>0.390854</td>\n",
              "      <td>-0.244555</td>\n",
              "      <td>-0.563633</td>\n",
              "      <td>-0.625681</td>\n",
              "      <td>-0.842485</td>\n",
              "      <td>1.021635</td>\n",
              "      <td>True</td>\n",
              "      <td>False</td>\n",
              "      <td>1</td>\n",
              "    </tr>\n",
              "    <tr>\n",
              "      <th>272145</th>\n",
              "      <td>-0.571944</td>\n",
              "      <td>-0.709863</td>\n",
              "      <td>-0.436508</td>\n",
              "      <td>-0.625681</td>\n",
              "      <td>-0.842485</td>\n",
              "      <td>1.021635</td>\n",
              "      <td>True</td>\n",
              "      <td>False</td>\n",
              "      <td>1</td>\n",
              "    </tr>\n",
              "  </tbody>\n",
              "</table>\n",
              "<p>272146 rows × 9 columns</p>\n",
              "</div>"
            ],
            "text/plain": [
              "             ESC    ESTCIV     IDADE   NATURAL      OCUP   RACACOR  MASCULINO  \\\n",
              "0      -2.137472 -0.244555  0.170213 -1.799085  1.411365 -0.632678       True   \n",
              "1      -2.137472  0.220752  1.542380  0.286966  0.558571 -0.632678      False   \n",
              "2      -1.354708  0.220752  1.630907 -1.799085 -0.842485 -0.632678      False   \n",
              "3      -0.571944  0.220752  1.675171 -1.799085  1.413608 -0.632678       True   \n",
              "4       0.210821  0.220752  1.144009  0.547722  0.771107 -0.081241       True   \n",
              "...          ...       ...       ...       ...       ...       ...        ...   \n",
              "272141  0.210821 -0.709863 -1.153449 -0.625681 -0.830900  1.021635      False   \n",
              "272142  0.210821 -0.709863 -0.068585 -0.625681 -0.842485  1.021635      False   \n",
              "272143  0.993585 -0.244555 -0.535881 -0.625681 -0.830900 -0.632678       True   \n",
              "272144  0.390854 -0.244555 -0.563633 -0.625681 -0.842485  1.021635       True   \n",
              "272145 -0.571944 -0.709863 -0.436508 -0.625681 -0.842485  1.021635       True   \n",
              "\n",
              "        FEMININO  SUICIDIO  \n",
              "0          False         0  \n",
              "1           True         0  \n",
              "2           True         0  \n",
              "3          False         0  \n",
              "4          False         0  \n",
              "...          ...       ...  \n",
              "272141      True         1  \n",
              "272142      True         1  \n",
              "272143     False         1  \n",
              "272144     False         1  \n",
              "272145     False         1  \n",
              "\n",
              "[272146 rows x 9 columns]"
            ]
          },
          "execution_count": 63,
          "metadata": {},
          "output_type": "execute_result"
        }
      ],
      "source": [
        "balanced_df = balanced_df[['ESC', 'ESTCIV', 'IDADE', 'NATURAL', 'OCUP', 'RACACOR', 'MASCULINO', 'FEMININO', 'SUICIDIO']]\n",
        "balanced_df"
      ]
    },
    {
      "cell_type": "markdown",
      "metadata": {
        "id": "vTjIvEejDqap"
      },
      "source": [
        "## Salvamento dos dados pré-processados"
      ]
    },
    {
      "cell_type": "code",
      "execution_count": 64,
      "metadata": {
        "id": "NbCOkk_-yFWK"
      },
      "outputs": [],
      "source": [
        "balanced_df.to_parquet(\"../data/processed/prototype3.parquet\")"
      ]
    }
  ],
  "metadata": {
    "colab": {
      "provenance": []
    },
    "kernelspec": {
      "display_name": "apoio-venv",
      "language": "python",
      "name": "apoio-venv"
    },
    "language_info": {
      "codemirror_mode": {
        "name": "ipython",
        "version": 3
      },
      "file_extension": ".py",
      "mimetype": "text/x-python",
      "name": "python",
      "nbconvert_exporter": "python",
      "pygments_lexer": "ipython3",
      "version": "3.10.12"
    }
  },
  "nbformat": 4,
  "nbformat_minor": 0
}
