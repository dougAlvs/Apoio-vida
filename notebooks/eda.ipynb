{
  "cells": [
    {
      "cell_type": "markdown",
      "metadata": {
        "id": "7fZB3dzs3W6d"
      },
      "source": [
        "# Notebook para visualização dos dados brutos escolhidos inicialmente"
      ]
    },
    {
      "cell_type": "markdown",
      "metadata": {
        "id": "0ozQenn93W6k"
      },
      "source": [
        "## Importação das Bibliotecas"
      ]
    },
    {
      "cell_type": "code",
      "execution_count": 1,
      "metadata": {
        "id": "umu48bZg3W6l"
      },
      "outputs": [],
      "source": [
        "import pandas as pd\n",
        "import matplotlib.pylab as plt\n",
        "import seaborn as sns\n",
        "import zipfile\n",
        "import os"
      ]
    },
    {
      "cell_type": "markdown",
      "metadata": {
        "id": "_10bYogJ3W6n"
      },
      "source": [
        "## Visualização dos dados"
      ]
    },
    {
      "cell_type": "code",
      "execution_count": 2,
      "metadata": {
        "id": "4hGbgLzu3W6n"
      },
      "outputs": [],
      "source": [
        "PATH_ARQUIVO_ZIP = '../data/raw/dados_obitos_sim_2006_2017.zip'"
      ]
    },
    {
      "cell_type": "code",
      "execution_count": 3,
      "metadata": {
        "id": "VOQRZ2D43W6o"
      },
      "outputs": [],
      "source": [
        "# Extração do zip do arquivo bruto\n",
        "if os.path.exists(PATH_ARQUIVO_ZIP):\n",
        "    with zipfile.ZipFile(PATH_ARQUIVO_ZIP, 'r') as zip_ref:\n",
        "        zip_ref.extractall('../data/raw/')\n",
        "else:\n",
        "    print(f'Arquivo {PATH_ARQUIVO_ZIP} não existe. Talvez você esqueceu de executar um dvc pull ...')"
      ]
    },
    {
      "cell_type": "code",
      "execution_count": 4,
      "metadata": {
        "id": "O2N8TXWd3W6o"
      },
      "outputs": [
        {
          "name": "stderr",
          "output_type": "stream",
          "text": [
            "/tmp/ipykernel_1382/267430639.py:2: DtypeWarning: Columns (5,25,36,37) have mixed types. Specify dtype option on import or set low_memory=False.\n",
            "  df = pd.read_csv('../data/raw/sim_2006_2017.csv')\n"
          ]
        }
      ],
      "source": [
        "# Após extrair o zip, pode-se abrir o .csv com o pandas\n",
        "df = pd.read_csv('../data/raw/sim_2006_2017.csv')"
      ]
    },
    {
      "cell_type": "markdown",
      "metadata": {
        "id": "4rQd1JYX4-I1"
      },
      "source": [
        "## EDA"
      ]
    },
    {
      "cell_type": "markdown",
      "metadata": {
        "id": "1asKKy94JeO3"
      },
      "source": [
        "### Entendendo as features"
      ]
    },
    {
      "cell_type": "code",
      "execution_count": 5,
      "metadata": {
        "colab": {
          "base_uri": "https://localhost:8080/"
        },
        "id": "pm3ZOSbm5FZC",
        "outputId": "8dcd1e90-716d-49fa-f2f3-cfb2294aaf8e"
      },
      "outputs": [
        {
          "data": {
            "text/plain": [
              "(3237593, 51)"
            ]
          },
          "execution_count": 5,
          "metadata": {},
          "output_type": "execute_result"
        }
      ],
      "source": [
        "# Número de linhas e colunas\n",
        "df.shape"
      ]
    },
    {
      "cell_type": "code",
      "execution_count": 6,
      "metadata": {
        "colab": {
          "base_uri": "https://localhost:8080/"
        },
        "id": "V5-fbbkZ5N5s",
        "outputId": "186b26cd-0beb-4dbe-aced-a38c7c0f24b1"
      },
      "outputs": [
        {
          "data": {
            "text/plain": [
              "Index(['ACIDTRAB', 'ASSISTMED', 'ATESTANTE', 'CAUSABAS', 'CAUSABAS_O',\n",
              "       'CIRCOBITO', 'CIRURGIA', 'CODESTAB', 'CODINST', 'CODMUNOCOR',\n",
              "       'CODMUNRES', 'DTATESTADO', 'DTCADASTRO', 'DTINVESTIG', 'DTNASC',\n",
              "       'DTOBITO', 'DTRECEBIM', 'ESC', 'ESCMAE', 'ESTCIV', 'EXAME', 'FONTE',\n",
              "       'FONTEINV', 'GESTACAO', 'GRAVIDEZ', 'HORAOBITO', 'IDADE', 'IDADEMAE',\n",
              "       'LINHAA', 'LINHAB', 'LINHAC', 'LINHAD', 'LINHAII', 'LOCOCOR', 'NATURAL',\n",
              "       'NECROPSIA', 'NUMERODN', 'NUMERODO', 'OBITOGRAV', 'OBITOPARTO',\n",
              "       'OBITOPUERP', 'OCUP', 'OCUPMAE', 'PARTO', 'PESO', 'QTDFILMORT',\n",
              "       'QTDFILVIVO', 'RACACOR', 'SEXO', 'TIPOBITO', 'TPPOS'],\n",
              "      dtype='object')"
            ]
          },
          "execution_count": 6,
          "metadata": {},
          "output_type": "execute_result"
        }
      ],
      "source": [
        "# Nome das colunas\n",
        "df.columns"
      ]
    },
    {
      "cell_type": "code",
      "execution_count": 7,
      "metadata": {
        "id": "8HscQ6f7A2MG"
      },
      "outputs": [],
      "source": [
        "# Exclusão de quaisquer colunas com 50% ou mais de valores vazios\n",
        "NA_val = df.isna().sum()\n",
        "def na_filter(na, threshold = .5):\n",
        "    col_pass = []\n",
        "    for i in na.keys():\n",
        "        if na[i]/df.shape[0]<threshold:\n",
        "            col_pass.append(i)\n",
        "    return col_pass\n",
        "\n",
        "df = df[na_filter(NA_val)]"
      ]
    },
    {
      "cell_type": "code",
      "execution_count": 8,
      "metadata": {
        "colab": {
          "base_uri": "https://localhost:8080/"
        },
        "id": "sZNXywk8A2zU",
        "outputId": "26c20d34-23c2-43ab-f7a3-d415f716be02"
      },
      "outputs": [
        {
          "data": {
            "text/plain": [
              "array([2])"
            ]
          },
          "execution_count": 8,
          "metadata": {},
          "output_type": "execute_result"
        }
      ],
      "source": [
        "# Nesse dataset, só existem óbitos não fetais\n",
        "# Porém, existem algumas colunas que são exclusivas para óbitos fetais.\n",
        "# Logo elas podem ser descartadas\n",
        "df[\"TIPOBITO\"].unique()"
      ]
    },
    {
      "cell_type": "code",
      "execution_count": 9,
      "metadata": {
        "id": "LRD8-FTUKnWE"
      },
      "outputs": [],
      "source": [
        "# Remoção de colunas que não convém\n",
        "df = df.drop(columns=[\"ATESTANTE\", \"CAUSABAS_O\", \"CODESTAB\", \"CODINST\", \"CODMUNOCOR\",\n",
        "                      \"CODMUNRES\", \"DTATESTADO\", \"DTCADASTRO\", \"DTNASC\", \"DTRECEBIM\", \"LINHAA\", \"LINHAB\",\n",
        "                      \"LINHAC\", \"NECROPSIA\", \"NUMERODO\", \"TIPOBITO\", \"TPPOS\"])"
      ]
    },
    {
      "cell_type": "code",
      "execution_count": 10,
      "metadata": {
        "colab": {
          "base_uri": "https://localhost:8080/"
        },
        "id": "mulfqvARB_8g",
        "outputId": "e428156d-39e8-45ce-fa4d-c6d7175b9038"
      },
      "outputs": [
        {
          "data": {
            "text/plain": [
              "Index(['ASSISTMED', 'CAUSABAS', 'DTOBITO', 'ESC', 'ESTCIV', 'HORAOBITO',\n",
              "       'IDADE', 'LOCOCOR', 'NATURAL', 'OCUP', 'RACACOR', 'SEXO'],\n",
              "      dtype='object')"
            ]
          },
          "execution_count": 10,
          "metadata": {},
          "output_type": "execute_result"
        }
      ],
      "source": [
        "# Nome das colunas restantes\n",
        "df.columns"
      ]
    },
    {
      "cell_type": "code",
      "execution_count": 11,
      "metadata": {
        "colab": {
          "base_uri": "https://localhost:8080/",
          "height": 206
        },
        "id": "DsHJtYqD4_vU",
        "outputId": "fd0a029f-fce9-475d-9fef-62877d7bd935"
      },
      "outputs": [
        {
          "data": {
            "text/html": [
              "<div>\n",
              "<style scoped>\n",
              "    .dataframe tbody tr th:only-of-type {\n",
              "        vertical-align: middle;\n",
              "    }\n",
              "\n",
              "    .dataframe tbody tr th {\n",
              "        vertical-align: top;\n",
              "    }\n",
              "\n",
              "    .dataframe thead th {\n",
              "        text-align: right;\n",
              "    }\n",
              "</style>\n",
              "<table border=\"1\" class=\"dataframe\">\n",
              "  <thead>\n",
              "    <tr style=\"text-align: right;\">\n",
              "      <th></th>\n",
              "      <th>ASSISTMED</th>\n",
              "      <th>CAUSABAS</th>\n",
              "      <th>DTOBITO</th>\n",
              "      <th>ESC</th>\n",
              "      <th>ESTCIV</th>\n",
              "      <th>HORAOBITO</th>\n",
              "      <th>IDADE</th>\n",
              "      <th>LOCOCOR</th>\n",
              "      <th>NATURAL</th>\n",
              "      <th>OCUP</th>\n",
              "      <th>RACACOR</th>\n",
              "      <th>SEXO</th>\n",
              "    </tr>\n",
              "  </thead>\n",
              "  <tbody>\n",
              "    <tr>\n",
              "      <th>0</th>\n",
              "      <td>NaN</td>\n",
              "      <td>R092</td>\n",
              "      <td>9022006</td>\n",
              "      <td>9.0</td>\n",
              "      <td>4.0</td>\n",
              "      <td>130.0</td>\n",
              "      <td>463.0</td>\n",
              "      <td>3.0</td>\n",
              "      <td>NaN</td>\n",
              "      <td>999993.0</td>\n",
              "      <td>1.0</td>\n",
              "      <td>1</td>\n",
              "    </tr>\n",
              "    <tr>\n",
              "      <th>1</th>\n",
              "      <td>NaN</td>\n",
              "      <td>R98</td>\n",
              "      <td>26012006</td>\n",
              "      <td>2.0</td>\n",
              "      <td>2.0</td>\n",
              "      <td>1130.0</td>\n",
              "      <td>481.0</td>\n",
              "      <td>3.0</td>\n",
              "      <td>NaN</td>\n",
              "      <td>214305.0</td>\n",
              "      <td>NaN</td>\n",
              "      <td>1</td>\n",
              "    </tr>\n",
              "    <tr>\n",
              "      <th>2</th>\n",
              "      <td>1.0</td>\n",
              "      <td>R092</td>\n",
              "      <td>19032006</td>\n",
              "      <td>2.0</td>\n",
              "      <td>3.0</td>\n",
              "      <td>1520.0</td>\n",
              "      <td>493.0</td>\n",
              "      <td>3.0</td>\n",
              "      <td>NaN</td>\n",
              "      <td>514105.0</td>\n",
              "      <td>1.0</td>\n",
              "      <td>2</td>\n",
              "    </tr>\n",
              "    <tr>\n",
              "      <th>3</th>\n",
              "      <td>1.0</td>\n",
              "      <td>R99</td>\n",
              "      <td>21112006</td>\n",
              "      <td>2.0</td>\n",
              "      <td>1.0</td>\n",
              "      <td>1000.0</td>\n",
              "      <td>489.0</td>\n",
              "      <td>3.0</td>\n",
              "      <td>77.0</td>\n",
              "      <td>214305.0</td>\n",
              "      <td>1.0</td>\n",
              "      <td>1</td>\n",
              "    </tr>\n",
              "    <tr>\n",
              "      <th>4</th>\n",
              "      <td>NaN</td>\n",
              "      <td>R98</td>\n",
              "      <td>16042006</td>\n",
              "      <td>9.0</td>\n",
              "      <td>3.0</td>\n",
              "      <td>2130.0</td>\n",
              "      <td>480.0</td>\n",
              "      <td>3.0</td>\n",
              "      <td>NaN</td>\n",
              "      <td>NaN</td>\n",
              "      <td>1.0</td>\n",
              "      <td>2</td>\n",
              "    </tr>\n",
              "  </tbody>\n",
              "</table>\n",
              "</div>"
            ],
            "text/plain": [
              "   ASSISTMED CAUSABAS   DTOBITO  ESC  ESTCIV HORAOBITO  IDADE  LOCOCOR  \\\n",
              "0        NaN     R092   9022006  9.0     4.0     130.0  463.0      3.0   \n",
              "1        NaN      R98  26012006  2.0     2.0    1130.0  481.0      3.0   \n",
              "2        1.0     R092  19032006  2.0     3.0    1520.0  493.0      3.0   \n",
              "3        1.0      R99  21112006  2.0     1.0    1000.0  489.0      3.0   \n",
              "4        NaN      R98  16042006  9.0     3.0    2130.0  480.0      3.0   \n",
              "\n",
              "   NATURAL      OCUP  RACACOR  SEXO  \n",
              "0      NaN  999993.0      1.0     1  \n",
              "1      NaN  214305.0      NaN     1  \n",
              "2      NaN  514105.0      1.0     2  \n",
              "3     77.0  214305.0      1.0     1  \n",
              "4      NaN       NaN      1.0     2  "
            ]
          },
          "execution_count": 11,
          "metadata": {},
          "output_type": "execute_result"
        }
      ],
      "source": [
        "# Olhada nos dados\n",
        "# É possível observar as colunas com somente valores NaN\n",
        "df.head()"
      ]
    },
    {
      "cell_type": "code",
      "execution_count": 12,
      "metadata": {
        "colab": {
          "base_uri": "https://localhost:8080/"
        },
        "id": "d-_imeJ15-p1",
        "outputId": "d61d43e1-912d-4fc0-9957-95a50d01f6e7"
      },
      "outputs": [
        {
          "data": {
            "text/plain": [
              "ASSISTMED       3\n",
              "CAUSABAS     6245\n",
              "DTOBITO      4383\n",
              "ESC             7\n",
              "ESTCIV          6\n",
              "HORAOBITO    4401\n",
              "IDADE         250\n",
              "LOCOCOR         6\n",
              "NATURAL       237\n",
              "OCUP         2220\n",
              "RACACOR         6\n",
              "SEXO            4\n",
              "dtype: int64"
            ]
          },
          "execution_count": 12,
          "metadata": {},
          "output_type": "execute_result"
        }
      ],
      "source": [
        "# Valores únicos de cada variável\n",
        "# É possivel verificar colunas \"redundantes\", com pouquíssimos valores distintos\n",
        "df.nunique(axis=0)"
      ]
    },
    {
      "cell_type": "code",
      "execution_count": 13,
      "metadata": {
        "colab": {
          "base_uri": "https://localhost:8080/",
          "height": 300
        },
        "id": "lLbR9uy68Kcd",
        "outputId": "5adb4b76-9426-4e86-ee55-fcb9f248f996"
      },
      "outputs": [
        {
          "data": {
            "text/html": [
              "<div>\n",
              "<style scoped>\n",
              "    .dataframe tbody tr th:only-of-type {\n",
              "        vertical-align: middle;\n",
              "    }\n",
              "\n",
              "    .dataframe tbody tr th {\n",
              "        vertical-align: top;\n",
              "    }\n",
              "\n",
              "    .dataframe thead th {\n",
              "        text-align: right;\n",
              "    }\n",
              "</style>\n",
              "<table border=\"1\" class=\"dataframe\">\n",
              "  <thead>\n",
              "    <tr style=\"text-align: right;\">\n",
              "      <th></th>\n",
              "      <th>ASSISTMED</th>\n",
              "      <th>DTOBITO</th>\n",
              "      <th>ESC</th>\n",
              "      <th>ESTCIV</th>\n",
              "      <th>IDADE</th>\n",
              "      <th>LOCOCOR</th>\n",
              "      <th>NATURAL</th>\n",
              "      <th>OCUP</th>\n",
              "      <th>RACACOR</th>\n",
              "      <th>SEXO</th>\n",
              "    </tr>\n",
              "  </thead>\n",
              "  <tbody>\n",
              "    <tr>\n",
              "      <th>count</th>\n",
              "      <td>1762473.000000</td>\n",
              "      <td>3237593.000000</td>\n",
              "      <td>2697753.000000</td>\n",
              "      <td>3048594.000000</td>\n",
              "      <td>3236944.000000</td>\n",
              "      <td>3237591.000000</td>\n",
              "      <td>2280507.000000</td>\n",
              "      <td>2477521.000000</td>\n",
              "      <td>3107476.000000</td>\n",
              "      <td>3237593.000000</td>\n",
              "    </tr>\n",
              "    <tr>\n",
              "      <th>mean</th>\n",
              "      <td>1.933994</td>\n",
              "      <td>15758463.709103</td>\n",
              "      <td>3.611096</td>\n",
              "      <td>2.428918</td>\n",
              "      <td>461.141414</td>\n",
              "      <td>1.548505</td>\n",
              "      <td>803.195749</td>\n",
              "      <td>826337.314797</td>\n",
              "      <td>1.595774</td>\n",
              "      <td>1.444785</td>\n",
              "    </tr>\n",
              "    <tr>\n",
              "      <th>std</th>\n",
              "      <td>2.414693</td>\n",
              "      <td>8789155.369934</td>\n",
              "      <td>2.537835</td>\n",
              "      <td>1.429391</td>\n",
              "      <td>54.780199</td>\n",
              "      <td>1.042870</td>\n",
              "      <td>141.681176</td>\n",
              "      <td>265871.134419</td>\n",
              "      <td>1.135078</td>\n",
              "      <td>0.499555</td>\n",
              "    </tr>\n",
              "    <tr>\n",
              "      <th>min</th>\n",
              "      <td>1.000000</td>\n",
              "      <td>1012006.000000</td>\n",
              "      <td>0.000000</td>\n",
              "      <td>1.000000</td>\n",
              "      <td>0.000000</td>\n",
              "      <td>1.000000</td>\n",
              "      <td>0.000000</td>\n",
              "      <td>0.000000</td>\n",
              "      <td>1.000000</td>\n",
              "      <td>0.000000</td>\n",
              "    </tr>\n",
              "    <tr>\n",
              "      <th>25%</th>\n",
              "      <td>1.000000</td>\n",
              "      <td>8082007.000000</td>\n",
              "      <td>2.000000</td>\n",
              "      <td>2.000000</td>\n",
              "      <td>454.000000</td>\n",
              "      <td>1.000000</td>\n",
              "      <td>829.000000</td>\n",
              "      <td>715210.000000</td>\n",
              "      <td>1.000000</td>\n",
              "      <td>1.000000</td>\n",
              "    </tr>\n",
              "    <tr>\n",
              "      <th>50%</th>\n",
              "      <td>1.000000</td>\n",
              "      <td>16022016.000000</td>\n",
              "      <td>3.000000</td>\n",
              "      <td>2.000000</td>\n",
              "      <td>469.000000</td>\n",
              "      <td>1.000000</td>\n",
              "      <td>835.000000</td>\n",
              "      <td>999992.000000</td>\n",
              "      <td>1.000000</td>\n",
              "      <td>1.000000</td>\n",
              "    </tr>\n",
              "    <tr>\n",
              "      <th>75%</th>\n",
              "      <td>1.000000</td>\n",
              "      <td>23102007.000000</td>\n",
              "      <td>4.000000</td>\n",
              "      <td>3.000000</td>\n",
              "      <td>481.000000</td>\n",
              "      <td>2.000000</td>\n",
              "      <td>835.000000</td>\n",
              "      <td>999993.000000</td>\n",
              "      <td>1.000000</td>\n",
              "      <td>2.000000</td>\n",
              "    </tr>\n",
              "    <tr>\n",
              "      <th>max</th>\n",
              "      <td>9.000000</td>\n",
              "      <td>31122017.000000</td>\n",
              "      <td>9.000000</td>\n",
              "      <td>9.000000</td>\n",
              "      <td>999.000000</td>\n",
              "      <td>9.000000</td>\n",
              "      <td>999.000000</td>\n",
              "      <td>999994.000000</td>\n",
              "      <td>9.000000</td>\n",
              "      <td>9.000000</td>\n",
              "    </tr>\n",
              "  </tbody>\n",
              "</table>\n",
              "</div>"
            ],
            "text/plain": [
              "            ASSISTMED          DTOBITO             ESC          ESTCIV  \\\n",
              "count  1762473.000000   3237593.000000  2697753.000000  3048594.000000   \n",
              "mean         1.933994  15758463.709103        3.611096        2.428918   \n",
              "std          2.414693   8789155.369934        2.537835        1.429391   \n",
              "min          1.000000   1012006.000000        0.000000        1.000000   \n",
              "25%          1.000000   8082007.000000        2.000000        2.000000   \n",
              "50%          1.000000  16022016.000000        3.000000        2.000000   \n",
              "75%          1.000000  23102007.000000        4.000000        3.000000   \n",
              "max          9.000000  31122017.000000        9.000000        9.000000   \n",
              "\n",
              "                IDADE         LOCOCOR         NATURAL            OCUP  \\\n",
              "count  3236944.000000  3237591.000000  2280507.000000  2477521.000000   \n",
              "mean       461.141414        1.548505      803.195749   826337.314797   \n",
              "std         54.780199        1.042870      141.681176   265871.134419   \n",
              "min          0.000000        1.000000        0.000000        0.000000   \n",
              "25%        454.000000        1.000000      829.000000   715210.000000   \n",
              "50%        469.000000        1.000000      835.000000   999992.000000   \n",
              "75%        481.000000        2.000000      835.000000   999993.000000   \n",
              "max        999.000000        9.000000      999.000000   999994.000000   \n",
              "\n",
              "              RACACOR            SEXO  \n",
              "count  3107476.000000  3237593.000000  \n",
              "mean         1.595774        1.444785  \n",
              "std          1.135078        0.499555  \n",
              "min          1.000000        0.000000  \n",
              "25%          1.000000        1.000000  \n",
              "50%          1.000000        1.000000  \n",
              "75%          1.000000        2.000000  \n",
              "max          9.000000        9.000000  "
            ]
          },
          "execution_count": 13,
          "metadata": {},
          "output_type": "execute_result"
        }
      ],
      "source": [
        "# Descrição do dataframe\n",
        "df.describe().apply(lambda s: s.apply(lambda x: format(x, 'f')))"
      ]
    },
    {
      "cell_type": "markdown",
      "metadata": {
        "id": "8hnE6GcNKLPY"
      },
      "source": [
        "### Tratamento dos Dados"
      ]
    },
    {
      "cell_type": "markdown",
      "metadata": {
        "id": "HaKk_QqxMZXE"
      },
      "source": [
        "* A coluna CAUSABAS apresenta a causa básica do óbito de acordo com a CID. Para melhor análise a ideia é classifica-los em suicidio ou não suicídio\n",
        "\n",
        "* CAUSABAS de X600 a X849 são considerados óbitos por lesão auto provocada\n"
      ]
    },
    {
      "cell_type": "code",
      "execution_count": 14,
      "metadata": {
        "id": "g0yLH1ROKOwl"
      },
      "outputs": [],
      "source": [
        "range_suicidio = [f\"X{i}\" for i in range(600, 850)]\n",
        "df[\"SUICIDIO\"] = df.apply(lambda row: 1 if row[\"CAUSABAS\"] in range_suicidio else 0, axis=1)\n",
        "del df[\"CAUSABAS\"]"
      ]
    },
    {
      "cell_type": "code",
      "execution_count": 15,
      "metadata": {
        "colab": {
          "base_uri": "https://localhost:8080/"
        },
        "id": "VQuHryUtR4fy",
        "outputId": "e2b51688-c14f-4051-9a71-ca8121d5295f"
      },
      "outputs": [
        {
          "data": {
            "text/plain": [
              "SUICIDIO\n",
              "0    3212973\n",
              "1      24620\n",
              "Name: count, dtype: int64"
            ]
          },
          "execution_count": 15,
          "metadata": {},
          "output_type": "execute_result"
        }
      ],
      "source": [
        "# Contagens de óbitos por súicidio e por outras causas\n",
        "df[\"SUICIDIO\"].value_counts()"
      ]
    },
    {
      "cell_type": "code",
      "execution_count": 16,
      "metadata": {
        "colab": {
          "base_uri": "https://localhost:8080/"
        },
        "id": "c27Jq_K1Q7We",
        "outputId": "a2597445-f36d-4dc1-e625-143b518c6a00"
      },
      "outputs": [
        {
          "data": {
            "text/plain": [
              "0.7604414761213037"
            ]
          },
          "execution_count": 16,
          "metadata": {},
          "output_type": "execute_result"
        }
      ],
      "source": [
        "# Porcentagem de óbitos por suícidio\n",
        "(24620 / 3237593) * 100"
      ]
    },
    {
      "cell_type": "markdown",
      "metadata": {
        "id": "iUTgqaBtJjrO"
      },
      "source": [
        "### Analisando as correlações"
      ]
    },
    {
      "cell_type": "code",
      "execution_count": 17,
      "metadata": {},
      "outputs": [
        {
          "data": {
            "application/vnd.jupyter.widget-view+json": {
              "model_id": "f30b1f45f64944eeac4c44f4e5acfe0a",
              "version_major": 2,
              "version_minor": 0
            },
            "text/plain": [
              "Summarize dataset:   0%|          | 0/5 [00:00<?, ?it/s]"
            ]
          },
          "metadata": {},
          "output_type": "display_data"
        },
        {
          "name": "stderr",
          "output_type": "stream",
          "text": [
            "/mnt/c/Users/arthu/Desktop/Grupo/Aprendizado de Maquina/Apoio-vida/apoio-venv/lib/python3.10/site-packages/seaborn/matrix.py:260: FutureWarning: Format strings passed to MaskedConstant are ignored, but in future may error or produce different behavior\n",
            "  annotation = (\"{:\" + self.fmt + \"}\").format(val)\n",
            "/mnt/c/Users/arthu/Desktop/Grupo/Aprendizado de Maquina/Apoio-vida/apoio-venv/lib/python3.10/site-packages/ydata_profiling/model/missing.py:78: UserWarning: There was an attempt to generate the Heatmap missing values diagrams, but this failed.\n",
            "To hide this warning, disable the calculation\n",
            "(using `df.profile_report(missing_diagrams={\"Heatmap\": False}`)\n",
            "If this is problematic for your use case, please report this as an issue:\n",
            "https://github.com/ydataai/ydata-profiling/issues\n",
            "(include the error message: 'could not convert string to float: '--'')\n",
            "  warnings.warn(\n"
          ]
        },
        {
          "data": {
            "application/vnd.jupyter.widget-view+json": {
              "model_id": "e42a29eae788418aa69160bd0a5bcaa1",
              "version_major": 2,
              "version_minor": 0
            },
            "text/plain": [
              "Generate report structure:   0%|          | 0/1 [00:00<?, ?it/s]"
            ]
          },
          "metadata": {},
          "output_type": "display_data"
        },
        {
          "data": {
            "application/vnd.jupyter.widget-view+json": {
              "model_id": "27c81d2b4f4f446d8c4affb44f6198ad",
              "version_major": 2,
              "version_minor": 0
            },
            "text/plain": [
              "Render HTML:   0%|          | 0/1 [00:00<?, ?it/s]"
            ]
          },
          "metadata": {},
          "output_type": "display_data"
        },
        {
          "data": {
            "application/vnd.jupyter.widget-view+json": {
              "model_id": "a87bd6a2f4314c50ac6819b68f81a299",
              "version_major": 2,
              "version_minor": 0
            },
            "text/plain": [
              "Export report to file:   0%|          | 0/1 [00:00<?, ?it/s]"
            ]
          },
          "metadata": {},
          "output_type": "display_data"
        }
      ],
      "source": [
        "from ydata_profiling import ProfileReport\n",
        "profile = ProfileReport(df, title=\"Profiling Report\")\n",
        "profile.to_file(\"eda.html\")"
      ]
    },
    {
      "cell_type": "code",
      "execution_count": null,
      "metadata": {},
      "outputs": [],
      "source": [
        "df.to_parquet(\"../data/interim/sim_2006_2017.parquet\")"
      ]
    }
  ],
  "metadata": {
    "colab": {
      "provenance": []
    },
    "kernelspec": {
      "display_name": "apoio-venv",
      "language": "python",
      "name": "apoio-venv"
    },
    "language_info": {
      "codemirror_mode": {
        "name": "ipython",
        "version": 3
      },
      "file_extension": ".py",
      "mimetype": "text/x-python",
      "name": "python",
      "nbconvert_exporter": "python",
      "pygments_lexer": "ipython3",
      "version": "3.10.12"
    }
  },
  "nbformat": 4,
  "nbformat_minor": 0
}
