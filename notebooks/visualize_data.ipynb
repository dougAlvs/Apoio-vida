{
 "cells": [
  {
   "cell_type": "markdown",
   "metadata": {},
   "source": [
    "# Notebook para visualização dos dados brutos escolhidos inicialmente"
   ]
  },
  {
   "cell_type": "markdown",
   "metadata": {},
   "source": [
    "## Importação das Bibliotecas"
   ]
  },
  {
   "cell_type": "code",
   "execution_count": null,
   "metadata": {},
   "outputs": [],
   "source": [
    "import pandas as pd\n",
    "import zipfile\n",
    "import os"
   ]
  },
  {
   "cell_type": "markdown",
   "metadata": {},
   "source": [
    "## Visualização dos dados"
   ]
  },
  {
   "cell_type": "code",
   "execution_count": null,
   "metadata": {},
   "outputs": [],
   "source": [
    "PATH_ARQUIVO_ZIP = '../data/raw/dados_obitos_sim_2006_2017.zip'"
   ]
  },
  {
   "cell_type": "code",
   "execution_count": null,
   "metadata": {},
   "outputs": [],
   "source": [
    "# Extração do zip do arquivo bruto\n",
    "if os.path.exists(PATH_ARQUIVO_ZIP):\n",
    "    with zipfile.ZipFile(PATH_ARQUIVO_ZIP, 'r') as zip_ref:\n",
    "        zip_ref.extractall('../data/raw/')\n",
    "else:\n",
    "    print(f'Arquivo {PATH_ARQUIVO_ZIP} não existe. Talvez você esqueceu de executar um dvc pull ...')"
   ]
  },
  {
   "cell_type": "code",
   "execution_count": null,
   "metadata": {},
   "outputs": [],
   "source": [
    "# Após extrair o zip, pode-se abrir o .csv com o pandas\n",
    "df = pd.read_csv('../data/raw/sim_2006_2017.csv')\n",
    "df"
   ]
  }
 ],
 "metadata": {
  "kernelspec": {
   "display_name": "apoio-vida-venv",
   "language": "python",
   "name": "apoio-vida-venv"
  },
  "language_info": {
   "name": "python",
   "version": "3.11.6"
  }
 },
 "nbformat": 4,
 "nbformat_minor": 2
}
