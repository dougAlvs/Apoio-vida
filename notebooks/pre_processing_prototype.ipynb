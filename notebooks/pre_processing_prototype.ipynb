{
  "cells": [
    {
      "cell_type": "markdown",
      "metadata": {
        "id": "2dmrRcJKyFWC"
      },
      "source": [
        "# Notebook para Pré-Processamento de Dados"
      ]
    },
    {
      "cell_type": "markdown",
      "metadata": {
        "id": "owFB4zLoyFWD"
      },
      "source": [
        "## Importação das Bibliotecas"
      ]
    },
    {
      "cell_type": "code",
      "execution_count": 1,
      "metadata": {
        "id": "YvA7I71lyFWE"
      },
      "outputs": [],
      "source": [
        "import pandas as pd\n",
        "import matplotlib.pylab as plt\n",
        "import numpy as np\n",
        "from sklearn.impute import SimpleImputer\n",
        "from sklearn.preprocessing import StandardScaler"
      ]
    },
    {
      "cell_type": "markdown",
      "metadata": {
        "id": "72cfwSnyyFWE"
      },
      "source": [
        "## Load dos dados intermediários"
      ]
    },
    {
      "cell_type": "code",
      "execution_count": 2,
      "metadata": {
        "colab": {
          "base_uri": "https://localhost:8080/",
          "height": 424
        },
        "id": "2IhiuuzWyFWE",
        "outputId": "5225120b-4f38-4794-807c-d1060755e303"
      },
      "outputs": [
        {
          "data": {
            "text/html": [
              "<div>\n",
              "<style scoped>\n",
              "    .dataframe tbody tr th:only-of-type {\n",
              "        vertical-align: middle;\n",
              "    }\n",
              "\n",
              "    .dataframe tbody tr th {\n",
              "        vertical-align: top;\n",
              "    }\n",
              "\n",
              "    .dataframe thead th {\n",
              "        text-align: right;\n",
              "    }\n",
              "</style>\n",
              "<table border=\"1\" class=\"dataframe\">\n",
              "  <thead>\n",
              "    <tr style=\"text-align: right;\">\n",
              "      <th></th>\n",
              "      <th>ASSISTMED</th>\n",
              "      <th>DTOBITO</th>\n",
              "      <th>ESC</th>\n",
              "      <th>ESTCIV</th>\n",
              "      <th>HORAOBITO</th>\n",
              "      <th>IDADE</th>\n",
              "      <th>LOCOCOR</th>\n",
              "      <th>NATURAL</th>\n",
              "      <th>OCUP</th>\n",
              "      <th>RACACOR</th>\n",
              "      <th>SEXO</th>\n",
              "      <th>SUICIDIO</th>\n",
              "    </tr>\n",
              "  </thead>\n",
              "  <tbody>\n",
              "    <tr>\n",
              "      <th>0</th>\n",
              "      <td>NaN</td>\n",
              "      <td>9022006</td>\n",
              "      <td>9.0</td>\n",
              "      <td>4.0</td>\n",
              "      <td>130.0</td>\n",
              "      <td>463.0</td>\n",
              "      <td>3.0</td>\n",
              "      <td>NaN</td>\n",
              "      <td>999993.0</td>\n",
              "      <td>1.0</td>\n",
              "      <td>1</td>\n",
              "      <td>0</td>\n",
              "    </tr>\n",
              "    <tr>\n",
              "      <th>1</th>\n",
              "      <td>NaN</td>\n",
              "      <td>26012006</td>\n",
              "      <td>2.0</td>\n",
              "      <td>2.0</td>\n",
              "      <td>1130.0</td>\n",
              "      <td>481.0</td>\n",
              "      <td>3.0</td>\n",
              "      <td>NaN</td>\n",
              "      <td>214305.0</td>\n",
              "      <td>NaN</td>\n",
              "      <td>1</td>\n",
              "      <td>0</td>\n",
              "    </tr>\n",
              "    <tr>\n",
              "      <th>2</th>\n",
              "      <td>1.0</td>\n",
              "      <td>19032006</td>\n",
              "      <td>2.0</td>\n",
              "      <td>3.0</td>\n",
              "      <td>1520.0</td>\n",
              "      <td>493.0</td>\n",
              "      <td>3.0</td>\n",
              "      <td>NaN</td>\n",
              "      <td>514105.0</td>\n",
              "      <td>1.0</td>\n",
              "      <td>2</td>\n",
              "      <td>0</td>\n",
              "    </tr>\n",
              "    <tr>\n",
              "      <th>3</th>\n",
              "      <td>1.0</td>\n",
              "      <td>21112006</td>\n",
              "      <td>2.0</td>\n",
              "      <td>1.0</td>\n",
              "      <td>1000.0</td>\n",
              "      <td>489.0</td>\n",
              "      <td>3.0</td>\n",
              "      <td>77.0</td>\n",
              "      <td>214305.0</td>\n",
              "      <td>1.0</td>\n",
              "      <td>1</td>\n",
              "      <td>0</td>\n",
              "    </tr>\n",
              "    <tr>\n",
              "      <th>4</th>\n",
              "      <td>NaN</td>\n",
              "      <td>16042006</td>\n",
              "      <td>9.0</td>\n",
              "      <td>3.0</td>\n",
              "      <td>2130.0</td>\n",
              "      <td>480.0</td>\n",
              "      <td>3.0</td>\n",
              "      <td>NaN</td>\n",
              "      <td>NaN</td>\n",
              "      <td>1.0</td>\n",
              "      <td>2</td>\n",
              "      <td>0</td>\n",
              "    </tr>\n",
              "    <tr>\n",
              "      <th>...</th>\n",
              "      <td>...</td>\n",
              "      <td>...</td>\n",
              "      <td>...</td>\n",
              "      <td>...</td>\n",
              "      <td>...</td>\n",
              "      <td>...</td>\n",
              "      <td>...</td>\n",
              "      <td>...</td>\n",
              "      <td>...</td>\n",
              "      <td>...</td>\n",
              "      <td>...</td>\n",
              "      <td>...</td>\n",
              "    </tr>\n",
              "    <tr>\n",
              "      <th>3237588</th>\n",
              "      <td>NaN</td>\n",
              "      <td>13042017</td>\n",
              "      <td>NaN</td>\n",
              "      <td>NaN</td>\n",
              "      <td>1840.0</td>\n",
              "      <td>465.0</td>\n",
              "      <td>3.0</td>\n",
              "      <td>835.0</td>\n",
              "      <td>NaN</td>\n",
              "      <td>1.0</td>\n",
              "      <td>1</td>\n",
              "      <td>0</td>\n",
              "    </tr>\n",
              "    <tr>\n",
              "      <th>3237589</th>\n",
              "      <td>NaN</td>\n",
              "      <td>19042017</td>\n",
              "      <td>2.0</td>\n",
              "      <td>1.0</td>\n",
              "      <td>937.0</td>\n",
              "      <td>455.0</td>\n",
              "      <td>3.0</td>\n",
              "      <td>829.0</td>\n",
              "      <td>999993.0</td>\n",
              "      <td>4.0</td>\n",
              "      <td>1</td>\n",
              "      <td>0</td>\n",
              "    </tr>\n",
              "    <tr>\n",
              "      <th>3237590</th>\n",
              "      <td>1.0</td>\n",
              "      <td>10012017</td>\n",
              "      <td>2.0</td>\n",
              "      <td>3.0</td>\n",
              "      <td>615.0</td>\n",
              "      <td>487.0</td>\n",
              "      <td>2.0</td>\n",
              "      <td>835.0</td>\n",
              "      <td>999993.0</td>\n",
              "      <td>1.0</td>\n",
              "      <td>1</td>\n",
              "      <td>0</td>\n",
              "    </tr>\n",
              "    <tr>\n",
              "      <th>3237591</th>\n",
              "      <td>1.0</td>\n",
              "      <td>10082017</td>\n",
              "      <td>2.0</td>\n",
              "      <td>2.0</td>\n",
              "      <td>500.0</td>\n",
              "      <td>486.0</td>\n",
              "      <td>3.0</td>\n",
              "      <td>835.0</td>\n",
              "      <td>999993.0</td>\n",
              "      <td>1.0</td>\n",
              "      <td>1</td>\n",
              "      <td>0</td>\n",
              "    </tr>\n",
              "    <tr>\n",
              "      <th>3237592</th>\n",
              "      <td>2.0</td>\n",
              "      <td>6052017</td>\n",
              "      <td>NaN</td>\n",
              "      <td>NaN</td>\n",
              "      <td>1030.0</td>\n",
              "      <td>215.0</td>\n",
              "      <td>5.0</td>\n",
              "      <td>835.0</td>\n",
              "      <td>NaN</td>\n",
              "      <td>1.0</td>\n",
              "      <td>2</td>\n",
              "      <td>0</td>\n",
              "    </tr>\n",
              "  </tbody>\n",
              "</table>\n",
              "<p>3237593 rows × 12 columns</p>\n",
              "</div>"
            ],
            "text/plain": [
              "         ASSISTMED   DTOBITO  ESC  ESTCIV HORAOBITO  IDADE  LOCOCOR  NATURAL  \\\n",
              "0              NaN   9022006  9.0     4.0     130.0  463.0      3.0      NaN   \n",
              "1              NaN  26012006  2.0     2.0    1130.0  481.0      3.0      NaN   \n",
              "2              1.0  19032006  2.0     3.0    1520.0  493.0      3.0      NaN   \n",
              "3              1.0  21112006  2.0     1.0    1000.0  489.0      3.0     77.0   \n",
              "4              NaN  16042006  9.0     3.0    2130.0  480.0      3.0      NaN   \n",
              "...            ...       ...  ...     ...       ...    ...      ...      ...   \n",
              "3237588        NaN  13042017  NaN     NaN    1840.0  465.0      3.0    835.0   \n",
              "3237589        NaN  19042017  2.0     1.0     937.0  455.0      3.0    829.0   \n",
              "3237590        1.0  10012017  2.0     3.0     615.0  487.0      2.0    835.0   \n",
              "3237591        1.0  10082017  2.0     2.0     500.0  486.0      3.0    835.0   \n",
              "3237592        2.0   6052017  NaN     NaN    1030.0  215.0      5.0    835.0   \n",
              "\n",
              "             OCUP  RACACOR  SEXO  SUICIDIO  \n",
              "0        999993.0      1.0     1         0  \n",
              "1        214305.0      NaN     1         0  \n",
              "2        514105.0      1.0     2         0  \n",
              "3        214305.0      1.0     1         0  \n",
              "4             NaN      1.0     2         0  \n",
              "...           ...      ...   ...       ...  \n",
              "3237588       NaN      1.0     1         0  \n",
              "3237589  999993.0      4.0     1         0  \n",
              "3237590  999993.0      1.0     1         0  \n",
              "3237591  999993.0      1.0     1         0  \n",
              "3237592       NaN      1.0     2         0  \n",
              "\n",
              "[3237593 rows x 12 columns]"
            ]
          },
          "execution_count": 2,
          "metadata": {},
          "output_type": "execute_result"
        }
      ],
      "source": [
        "df = pd.read_parquet(\"../data/interim/sim_2006_2017_eda.parquet\")\n",
        "df"
      ]
    },
    {
      "cell_type": "markdown",
      "metadata": {
        "id": "eekyVSGq_t_7"
      },
      "source": [
        "## Feature Selection"
      ]
    },
    {
      "cell_type": "markdown",
      "metadata": {
        "id": "UPN3IdIO_0_t"
      },
      "source": [
        "* Durante o pré-processamente, identificou-se que algumas colunas que ainda estavam nos dados intermediários não eram tão pertinentes a solução da problemática. São elas as colunas: DTOBITO, HORAOBITO, LOCOCOR, ASSISTMED.\n",
        "\n",
        "* As features DTOBITO e HORAOBITO representam informações temporais dos óbitos, enquanto LOCOCOR E ASSISTMED são características de localidade e circustância. Contudo, já que o objetivo do projeto e identificar pessoas vulneráveis ao suícidio para conscientizar e evitar fatalidades, essas informações acabam não contribuindo. Por isso optou-se por removê-las da base."
      ]
    },
    {
      "cell_type": "code",
      "execution_count": 3,
      "metadata": {
        "id": "I5vUBEjfCkeP"
      },
      "outputs": [],
      "source": [
        "df = df.drop(columns=['DTOBITO', 'HORAOBITO', 'LOCOCOR', 'ASSISTMED'])"
      ]
    },
    {
      "cell_type": "markdown",
      "metadata": {
        "id": "7ql8Qf6MyFWF"
      },
      "source": [
        "## Tratamento de valores nulos e remoção de outliers"
      ]
    },
    {
      "cell_type": "markdown",
      "metadata": {
        "id": "TbudWJfuys99"
      },
      "source": [
        "* Diversas colunas apresentam valores nulos,simplesmente remover as linhas com essas valores causaria uma grande perda de sinal.\n",
        "Algumas estratégias devem ser adotadas para preservar a maior qtd. de sinal possível mantendo a maior fidelidade possível com os dados originais."
      ]
    },
    {
      "cell_type": "code",
      "execution_count": 4,
      "metadata": {
        "colab": {
          "base_uri": "https://localhost:8080/"
        },
        "id": "x7WVIuJ9yFWF",
        "outputId": "6727b225-704a-4ce5-f7cf-c24df9f913b3"
      },
      "outputs": [
        {
          "data": {
            "text/plain": [
              "ESC         539840\n",
              "ESTCIV      188999\n",
              "IDADE          649\n",
              "NATURAL     957086\n",
              "OCUP        760072\n",
              "RACACOR     130117\n",
              "SEXO             0\n",
              "SUICIDIO         0\n",
              "dtype: int64"
            ]
          },
          "execution_count": 4,
          "metadata": {},
          "output_type": "execute_result"
        }
      ],
      "source": [
        "df.isnull().sum()"
      ]
    },
    {
      "cell_type": "code",
      "execution_count": 5,
      "metadata": {
        "colab": {
          "base_uri": "https://localhost:8080/"
        },
        "id": "I2jLyfb425Y3",
        "outputId": "be3f3167-417e-4e2f-d149-5f5dea5712d7"
      },
      "outputs": [
        {
          "name": "stdout",
          "output_type": "stream",
          "text": [
            "<class 'pandas.core.frame.DataFrame'>\n",
            "RangeIndex: 3237593 entries, 0 to 3237592\n",
            "Data columns (total 8 columns):\n",
            " #   Column    Dtype  \n",
            "---  ------    -----  \n",
            " 0   ESC       float64\n",
            " 1   ESTCIV    float64\n",
            " 2   IDADE     float64\n",
            " 3   NATURAL   float64\n",
            " 4   OCUP      float64\n",
            " 5   RACACOR   float64\n",
            " 6   SEXO      int64  \n",
            " 7   SUICIDIO  int64  \n",
            "dtypes: float64(6), int64(2)\n",
            "memory usage: 197.6 MB\n"
          ]
        }
      ],
      "source": [
        "df.info()"
      ]
    },
    {
      "cell_type": "markdown",
      "metadata": {
        "id": "2DXKZ32y0dNf"
      },
      "source": [
        "### Escolaridade"
      ]
    },
    {
      "cell_type": "markdown",
      "metadata": {
        "id": "DqzJuyGF0gjM"
      },
      "source": [
        "* No processo de EDA da base, identificou-se que essa feature é representada pela seguinte legenda:\n",
        "  * 1: Nenhuma\n",
        "  * 2: 1 a 3 anos\n",
        "  * 3: 4 a 7 anos\n",
        "  * 4: 8 a 11 anos\n",
        "  * 5: 12 e mais\n",
        "  * 9: Ignorado\n",
        "\n",
        "* Para essa feature, pareceu razoável substituir as linhas com valores nulos pela médias dos outros valores da coluna. Contudo, pelo fato dos casos ignorados serem representados por um valor maior que todos os outros (valor igual a 9), o grupo optou por substituí-lo por um valor mais baixo (0) e depois aplicar a média para os nulos."
      ]
    },
    {
      "cell_type": "code",
      "execution_count": 6,
      "metadata": {
        "colab": {
          "base_uri": "https://localhost:8080/"
        },
        "id": "rRrdTEfN6UO9",
        "outputId": "13e75575-13d0-4923-9e22-7cb7bcef91e8"
      },
      "outputs": [
        {
          "data": {
            "text/plain": [
              "(539840,\n",
              " ESC\n",
              " 2.0    722256\n",
              " 3.0    623304\n",
              " 9.0    409313\n",
              " 4.0    390218\n",
              " 1.0    314091\n",
              " 5.0    173728\n",
              " 0.0     64843\n",
              " Name: count, dtype: int64)"
            ]
          },
          "execution_count": 6,
          "metadata": {},
          "output_type": "execute_result"
        }
      ],
      "source": [
        "# Distribuição dos valores nulos e não-nulos na coluna\n",
        "# Cabe-se observar a presença de valores iguais a 0, o que não faz parte dos limites encontrados na EDA\n",
        "# Logo esses valores iguais a 0 são 'outliers' e devem ser descartados\n",
        "df['ESC'].isnull().sum(), df['ESC'].value_counts()"
      ]
    },
    {
      "cell_type": "code",
      "execution_count": 7,
      "metadata": {
        "id": "_pf0xX-u64YS"
      },
      "outputs": [],
      "source": [
        "# Remoção dos valores iguais a 0\n",
        "df = df[df['ESC'] != 0].reset_index(drop=True)"
      ]
    },
    {
      "cell_type": "code",
      "execution_count": 8,
      "metadata": {
        "id": "0AKfijFgyFWI"
      },
      "outputs": [],
      "source": [
        "# Substituição do 9 por 0 para não puxar muito a média para cima\n",
        "df['ESC'] = df['ESC'].replace(9,0)"
      ]
    },
    {
      "cell_type": "code",
      "execution_count": 9,
      "metadata": {
        "id": "zGnzZkfPyFWI"
      },
      "outputs": [],
      "source": [
        "# Instanciação da classe para substituir os valores nulos\n",
        "imputer = SimpleImputer(missing_values=np.nan, strategy='mean')"
      ]
    },
    {
      "cell_type": "code",
      "execution_count": 10,
      "metadata": {
        "id": "rGl4KSeNyFWI"
      },
      "outputs": [],
      "source": [
        "# Usa o imputer para substituir os valores nulos pela média\n",
        "imputer = imputer.fit(df[['ESC']])\n",
        "df['ESC'] = imputer.transform(df[['ESC']])"
      ]
    },
    {
      "cell_type": "code",
      "execution_count": 11,
      "metadata": {
        "colab": {
          "base_uri": "https://localhost:8080/"
        },
        "id": "WupNMsCq4nqb",
        "outputId": "d6f6d053-a51d-4e54-962d-54e9d6e2787f"
      },
      "outputs": [
        {
          "data": {
            "text/plain": [
              "(0,\n",
              " ESC\n",
              " 2.000000    722256\n",
              " 3.000000    623304\n",
              " 2.300886    539840\n",
              " 0.000000    409313\n",
              " 4.000000    390218\n",
              " 1.000000    314091\n",
              " 5.000000    173728\n",
              " Name: count, dtype: int64)"
            ]
          },
          "execution_count": 11,
          "metadata": {},
          "output_type": "execute_result"
        }
      ],
      "source": [
        "# Distribuição dos valores nulos e não-nulos na coluna\n",
        "df['ESC'].isnull().sum(), df['ESC'].value_counts()"
      ]
    },
    {
      "cell_type": "markdown",
      "metadata": {
        "id": "3CTL0A4z4z14"
      },
      "source": [
        "### Estado Civil"
      ]
    },
    {
      "cell_type": "markdown",
      "metadata": {
        "id": "3uaXxUpO43Ao"
      },
      "source": [
        "* No processo de EDA da base, identificou-se que essa feature é representada pela seguinte legenda:\n",
        "  * 1: Solteiro\n",
        "  * 2: Casado\n",
        "  * 3: Viúvo\n",
        "  * 4: Separado judicialmente\n",
        "  * 9: Ignorado\n",
        "\n",
        "* Para essa feature, adotou-se a estratégia de considerar todos os casos nulos como ignorados (valor igual a 9)."
      ]
    },
    {
      "cell_type": "code",
      "execution_count": 12,
      "metadata": {
        "colab": {
          "base_uri": "https://localhost:8080/"
        },
        "id": "z3azC66S5r2a",
        "outputId": "cf89b9f8-375c-4419-eaaf-cc177f930644"
      },
      "outputs": [
        {
          "data": {
            "text/plain": [
              "(175916,\n",
              " ESTCIV\n",
              " 2.0    1150230\n",
              " 3.0     838428\n",
              " 1.0     669040\n",
              " 4.0     225445\n",
              " 9.0      81869\n",
              " 5.0      31822\n",
              " Name: count, dtype: int64)"
            ]
          },
          "execution_count": 12,
          "metadata": {},
          "output_type": "execute_result"
        }
      ],
      "source": [
        "# Distribuição dos valores nulos e não-nulos na coluna\n",
        "# Cabe-se observar a presença de valores iguais a 5, o que não faz parte dos limites encontrados na EDA\n",
        "# Logo esses valores iguais a 5 são 'outliers' e devem ser descartados\n",
        "df['ESTCIV'].isnull().sum(), df['ESTCIV'].value_counts()"
      ]
    },
    {
      "cell_type": "code",
      "execution_count": 13,
      "metadata": {
        "id": "XM3-UGrp7tMR"
      },
      "outputs": [],
      "source": [
        "# Remoção dos valores iguais a 5\n",
        "df = df[df['ESTCIV'] != 5].reset_index(drop=True)"
      ]
    },
    {
      "cell_type": "code",
      "execution_count": 14,
      "metadata": {
        "id": "uQJcq0sG5hfM"
      },
      "outputs": [],
      "source": [
        "# Considera todos os casos nulos como ignorados\n",
        "df['ESTCIV'] = df['ESTCIV'].fillna(9)"
      ]
    },
    {
      "cell_type": "markdown",
      "metadata": {
        "id": "JyovBFoc8DWp"
      },
      "source": [
        "### Ocupação"
      ]
    },
    {
      "cell_type": "markdown",
      "metadata": {
        "id": "jyzEU9zl8E0M"
      },
      "source": [
        "* No processo de EDA da base, identificou-se que essa feature representa a ocupação do falecido conforme a Classificação Brasileira de Ocupações (CBO-2002).\n",
        "\n",
        "* Dito isso, a estratégia adotada foi a de substituir os valores nulos por um valor que já não estivesse presente na coluna e que pudesse caracterizar uma ocupação desconhecida, -1 foi o valor escolhido."
      ]
    },
    {
      "cell_type": "code",
      "execution_count": 15,
      "metadata": {
        "colab": {
          "base_uri": "https://localhost:8080/",
          "height": 53
        },
        "id": "bJv7imXX-GGK",
        "outputId": "542ddadb-10b6-46a7-eac0-9aaa1926b5e5"
      },
      "outputs": [
        {
          "data": {
            "text/html": [
              "<div>\n",
              "<style scoped>\n",
              "    .dataframe tbody tr th:only-of-type {\n",
              "        vertical-align: middle;\n",
              "    }\n",
              "\n",
              "    .dataframe tbody tr th {\n",
              "        vertical-align: top;\n",
              "    }\n",
              "\n",
              "    .dataframe thead th {\n",
              "        text-align: right;\n",
              "    }\n",
              "</style>\n",
              "<table border=\"1\" class=\"dataframe\">\n",
              "  <thead>\n",
              "    <tr style=\"text-align: right;\">\n",
              "      <th></th>\n",
              "      <th>ESC</th>\n",
              "      <th>ESTCIV</th>\n",
              "      <th>IDADE</th>\n",
              "      <th>NATURAL</th>\n",
              "      <th>OCUP</th>\n",
              "      <th>RACACOR</th>\n",
              "      <th>SEXO</th>\n",
              "      <th>SUICIDIO</th>\n",
              "    </tr>\n",
              "  </thead>\n",
              "  <tbody>\n",
              "  </tbody>\n",
              "</table>\n",
              "</div>"
            ],
            "text/plain": [
              "Empty DataFrame\n",
              "Columns: [ESC, ESTCIV, IDADE, NATURAL, OCUP, RACACOR, SEXO, SUICIDIO]\n",
              "Index: []"
            ]
          },
          "execution_count": 15,
          "metadata": {},
          "output_type": "execute_result"
        }
      ],
      "source": [
        "# A coluna não apresenta nenhum registro com ocupação igual a -1, o que torna o valor viável\n",
        "df[df['OCUP'] == -1]"
      ]
    },
    {
      "cell_type": "code",
      "execution_count": 16,
      "metadata": {
        "id": "TTP4rQ-S-QmS"
      },
      "outputs": [],
      "source": [
        "# Substituição das linhas nulas por -1\n",
        "df['OCUP'] = df['OCUP'].fillna(-1)"
      ]
    },
    {
      "cell_type": "code",
      "execution_count": 17,
      "metadata": {
        "colab": {
          "base_uri": "https://localhost:8080/"
        },
        "id": "hTrYGBCz8SjR",
        "outputId": "ee196b59-ca0b-4fdd-d927-f05a668ef558"
      },
      "outputs": [
        {
          "data": {
            "text/plain": [
              "0"
            ]
          },
          "execution_count": 17,
          "metadata": {},
          "output_type": "execute_result"
        }
      ],
      "source": [
        "df['OCUP'].isnull().sum()"
      ]
    },
    {
      "cell_type": "markdown",
      "metadata": {
        "id": "DtMCIsFQ-p46"
      },
      "source": [
        "### Raça/Cor"
      ]
    },
    {
      "cell_type": "markdown",
      "metadata": {
        "id": "Ov82U9JI-sc_"
      },
      "source": [
        "* No processo de EDA da base, identificou-se que essa feature é representada pela seguinte legenda:\n",
        "  * 1: Branca\n",
        "  * 2: Preta\n",
        "  * 3: Amarela\n",
        "  * 4: Parda\n",
        "  * 5: Indígena\n",
        "  * 9: Ignorado\n",
        "\n",
        "* Para essa feature, adotou-se a estratégia de considerar todos os casos nulos como ignorados (valor igual a 9)."
      ]
    },
    {
      "cell_type": "code",
      "execution_count": 18,
      "metadata": {
        "colab": {
          "base_uri": "https://localhost:8080/"
        },
        "id": "Rn6BJHLL_GdI",
        "outputId": "dea14596-0818-4fc7-dcf7-b15a4e177ffd"
      },
      "outputs": [
        {
          "data": {
            "text/plain": [
              "(120795,\n",
              " RACACOR\n",
              " 1.0    2290038\n",
              " 4.0     509722\n",
              " 2.0     176768\n",
              " 3.0      42354\n",
              " 5.0       1246\n",
              " 9.0          5\n",
              " Name: count, dtype: int64)"
            ]
          },
          "execution_count": 18,
          "metadata": {},
          "output_type": "execute_result"
        }
      ],
      "source": [
        "# Distribuição dos valores nulos e não-nulos na coluna\n",
        "df['RACACOR'].isnull().sum(), df['RACACOR'].value_counts()"
      ]
    },
    {
      "cell_type": "code",
      "execution_count": 19,
      "metadata": {
        "id": "FDuFjRBu-xy4"
      },
      "outputs": [],
      "source": [
        "# Substituição das linhas nulas por 9 (casos ignorados)\n",
        "df['RACACOR'] = df['RACACOR'].fillna(9)"
      ]
    },
    {
      "cell_type": "code",
      "execution_count": 20,
      "metadata": {
        "colab": {
          "base_uri": "https://localhost:8080/"
        },
        "id": "J3Gdcy0m_ap3",
        "outputId": "85eaa3d5-4713-4964-f439-fb511b60bb29"
      },
      "outputs": [
        {
          "data": {
            "text/plain": [
              "(0,\n",
              " RACACOR\n",
              " 1.0    2290038\n",
              " 4.0     509722\n",
              " 2.0     176768\n",
              " 9.0     120800\n",
              " 3.0      42354\n",
              " 5.0       1246\n",
              " Name: count, dtype: int64)"
            ]
          },
          "execution_count": 20,
          "metadata": {},
          "output_type": "execute_result"
        }
      ],
      "source": [
        "# Distribuição dos valores nulos e não-nulos na coluna\n",
        "df['RACACOR'].isnull().sum(), df['RACACOR'].value_counts()"
      ]
    },
    {
      "cell_type": "markdown",
      "metadata": {
        "id": "2fLSax23DGH6"
      },
      "source": [
        "### Naturalidade"
      ]
    },
    {
      "cell_type": "markdown",
      "metadata": {
        "id": "yLPTRWiJDIr4"
      },
      "source": [
        "* No processo de EDA da base, identificou-se que essa feature representa a naturalidade do falecido, conforme a tabela de países. Se for brasileiro, porém, o primeiro dígito contém 8 e os demais o código da UF de naturalidade.\n",
        "\n",
        "* Dito isso, a estratégia adotada foi a de substituir os valores nulos por um valor que já não estivesse presente na coluna e que pudesse caracterizar uma naturalidade desconhecida, -1 foi o valor escolhido."
      ]
    },
    {
      "cell_type": "code",
      "execution_count": 21,
      "metadata": {
        "colab": {
          "base_uri": "https://localhost:8080/",
          "height": 53
        },
        "id": "HuzJjvYRDhKq",
        "outputId": "d951b3ed-e7bc-4ccb-9acd-1b734953ddcd"
      },
      "outputs": [
        {
          "data": {
            "text/html": [
              "<div>\n",
              "<style scoped>\n",
              "    .dataframe tbody tr th:only-of-type {\n",
              "        vertical-align: middle;\n",
              "    }\n",
              "\n",
              "    .dataframe tbody tr th {\n",
              "        vertical-align: top;\n",
              "    }\n",
              "\n",
              "    .dataframe thead th {\n",
              "        text-align: right;\n",
              "    }\n",
              "</style>\n",
              "<table border=\"1\" class=\"dataframe\">\n",
              "  <thead>\n",
              "    <tr style=\"text-align: right;\">\n",
              "      <th></th>\n",
              "      <th>ESC</th>\n",
              "      <th>ESTCIV</th>\n",
              "      <th>IDADE</th>\n",
              "      <th>NATURAL</th>\n",
              "      <th>OCUP</th>\n",
              "      <th>RACACOR</th>\n",
              "      <th>SEXO</th>\n",
              "      <th>SUICIDIO</th>\n",
              "    </tr>\n",
              "  </thead>\n",
              "  <tbody>\n",
              "  </tbody>\n",
              "</table>\n",
              "</div>"
            ],
            "text/plain": [
              "Empty DataFrame\n",
              "Columns: [ESC, ESTCIV, IDADE, NATURAL, OCUP, RACACOR, SEXO, SUICIDIO]\n",
              "Index: []"
            ]
          },
          "execution_count": 21,
          "metadata": {},
          "output_type": "execute_result"
        }
      ],
      "source": [
        "# A coluna não apresenta nenhum registro com ocupação igual a -1, o que torna o valor viável\n",
        "df[df['NATURAL'] == -1]"
      ]
    },
    {
      "cell_type": "code",
      "execution_count": 22,
      "metadata": {
        "id": "OvwkeXe3DnBz"
      },
      "outputs": [],
      "source": [
        "# Substituição das linhas nulas por -1\n",
        "df['NATURAL'] = df['NATURAL'].fillna(-1.0)\n",
        "df['NATURAL'] = df['NATURAL'].astype(np.int64)"
      ]
    },
    {
      "cell_type": "code",
      "execution_count": 23,
      "metadata": {
        "id": "FFIw7yUm5-gP"
      },
      "outputs": [],
      "source": [
        "# Função para converter as naturalidades para uma notação comum\n",
        "def padroniza_naturalidade(row):\n",
        "    nat = row['NATURAL']\n",
        "\n",
        "    # Se a naturalidade for ignorada (igual a -1) retorna ela sem tratamento\n",
        "    if nat == -1:\n",
        "      return -1\n",
        "\n",
        "    # Caso não seja ignorada, converte pra string\n",
        "    nat = str(int(nat))\n",
        "\n",
        "    # Caso seja brasileiro (8 no primeiro dígito) só mantém o código da UF\n",
        "    if nat[0] == '8' and len(nat) > 1:\n",
        "        nat = nat[1:]\n",
        "\n",
        "    # Caso contrário usa a flag -2 para estrangeiro\n",
        "    else:\n",
        "        nat = '-2'\n",
        "\n",
        "    return int(nat)\n",
        "\n",
        "# Aplica a função na coluna naturalidade\n",
        "df['NATURAL'] = df.apply(padroniza_naturalidade, axis=1)"
      ]
    },
    {
      "cell_type": "code",
      "execution_count": 24,
      "metadata": {
        "colab": {
          "base_uri": "https://localhost:8080/"
        },
        "id": "GVyo4_PADpgT",
        "outputId": "6fdc61c1-8794-4afa-8afe-719dcff9175d"
      },
      "outputs": [
        {
          "data": {
            "text/plain": [
              "0"
            ]
          },
          "execution_count": 24,
          "metadata": {},
          "output_type": "execute_result"
        }
      ],
      "source": [
        "# Distribuição dos valores nulos e não-nulos na coluna\n",
        "df['NATURAL'].isnull().sum()"
      ]
    },
    {
      "cell_type": "markdown",
      "metadata": {
        "id": "sRqEL3xWElYB"
      },
      "source": [
        "### Idade"
      ]
    },
    {
      "cell_type": "markdown",
      "metadata": {
        "id": "OfDnyNnlEnE_"
      },
      "source": [
        "* No processo de EDA da base, identificou-se que essa feature representa a idade, composta de dois subcampos. O primeiro, de 1 dígito, indica a unidade da idade. O segundo, de dois dígitos, indica a quantidade de unidades conforme a legenda abaixo:\n",
        "  * Primeiro dígito igual a 0: Idade ignorada\n",
        "  * Primeiro dígito igual a 1: Unidade em horas, o segundo subcampo varia de 01 a 23\n",
        "  * Primeiro dígito igual a 2: Unidade em dias, o segundo subcampo varia de 01 a 29\n",
        "  * Primeiro dígito igual a 3: Unidade em meses, o segundo subcampo varia de 01 a 11\n",
        "  * Primeiro dígito igual a 4: Unidade em anos, o segundo subcampo varia de 00 a 99\n",
        "  * Primeiro dígito igual a 5: Unidade em anos (mais de 100 anos), o segundo subcampo varia de 0 a 99\n",
        "* Exemplo:\n",
        "  * 410: 10 anos\n",
        "  * 457: 57 anos\n",
        "  * 505: 105 anos\n",
        "\n",
        "* Para essa feature, primeiramente se descartou idades que não estão em anos, pois não fazem sentido para o objetivo do projeto. Logo após substituiu-se os valores nulos por 0 (ignorados), por fim trocou-se a notação presente pela padrão de idade em anos e depois substituiu-se os valores ignorados pela média da coluna por meio do uso de um imputer."
      ]
    },
    {
      "cell_type": "code",
      "execution_count": 25,
      "metadata": {
        "colab": {
          "base_uri": "https://localhost:8080/"
        },
        "id": "AIAbTv6NF8Lo",
        "outputId": "56380963-4b19-4ff6-9e48-ffe4902086c8"
      },
      "outputs": [
        {
          "data": {
            "text/plain": [
              "(649,\n",
              " IDADE\n",
              " 481.0    73112\n",
              " 480.0    73011\n",
              " 479.0    72705\n",
              " 478.0    72391\n",
              " 482.0    71590\n",
              "          ...  \n",
              " 516.0        2\n",
              " 519.0        1\n",
              " 520.0        1\n",
              " 527.0        1\n",
              " 529.0        1\n",
              " Name: count, Length: 249, dtype: int64)"
            ]
          },
          "execution_count": 25,
          "metadata": {},
          "output_type": "execute_result"
        }
      ],
      "source": [
        "# Distribuição dos valores nulos e não-nulos na coluna\n",
        "df['IDADE'].isnull().sum(), df['IDADE'].value_counts()"
      ]
    },
    {
      "cell_type": "code",
      "execution_count": 26,
      "metadata": {
        "id": "UjSiIZogyFWJ"
      },
      "outputs": [],
      "source": [
        "# Troca os valores nulos por 0 (ignorados) e converte para int\n",
        "df['IDADE'] = df['IDADE'].fillna(0.0)\n",
        "df['IDADE'] = df['IDADE'].astype(np.int64)"
      ]
    },
    {
      "cell_type": "code",
      "execution_count": 27,
      "metadata": {
        "id": "9riRGZmzJ_h1"
      },
      "outputs": [],
      "source": [
        "# Só mantem os valores com idade ignorada (igual a 0) e os que estão no range de idade em anos (400 a 599)\n",
        "df = df[(df['IDADE'] == 0) | ((df['IDADE'] > 400) & (df['IDADE'] <= 599))].reset_index(drop=True)"
      ]
    },
    {
      "cell_type": "code",
      "execution_count": 28,
      "metadata": {
        "id": "lKBzfO_0yFWJ"
      },
      "outputs": [],
      "source": [
        "# Função para converter as idades para notação comum em anos\n",
        "def padroniza_idade(row):\n",
        "    idade = row['IDADE']\n",
        "\n",
        "    # Se a idade for ignorada (igual a 0) retorna ela sem tratamento\n",
        "    if idade == 0:\n",
        "      return 0\n",
        "\n",
        "    # Caso não seja ignorada, converte pra string e calcula o valor correto da idade em anos\n",
        "    idade = str(int(idade))\n",
        "    if idade[0] == '4':\n",
        "        idade = idade[1:]\n",
        "    elif idade[0] == '5':\n",
        "        idade = '1' + idade[1:]\n",
        "\n",
        "    return int(idade)\n",
        "\n",
        "# Aplica a função na coluna idade\n",
        "df['IDADE'] = df.apply(padroniza_idade, axis=1)"
      ]
    },
    {
      "cell_type": "code",
      "execution_count": 29,
      "metadata": {
        "id": "wWI50x0GL7Ya"
      },
      "outputs": [],
      "source": [
        "# Instanciação da classe para substituir os valores nulos\n",
        "imputer = SimpleImputer(missing_values=0, strategy='mean')"
      ]
    },
    {
      "cell_type": "code",
      "execution_count": 30,
      "metadata": {
        "id": "z2pdCdhhyFWJ"
      },
      "outputs": [],
      "source": [
        "# Usa o imputer para substituir os valores nulos pela média\n",
        "imputer = imputer.fit(df[['IDADE']])\n",
        "df['IDADE'] = imputer.transform(df[['IDADE']])"
      ]
    },
    {
      "cell_type": "code",
      "execution_count": 31,
      "metadata": {
        "colab": {
          "base_uri": "https://localhost:8080/"
        },
        "id": "Savt-jLsOIak",
        "outputId": "29c7bd13-750b-4efb-bbcb-2165e918eb03"
      },
      "outputs": [
        {
          "data": {
            "text/plain": [
              "(0,\n",
              " IDADE\n",
              " 81.0     73112\n",
              " 80.0     73011\n",
              " 79.0     72705\n",
              " 78.0     72391\n",
              " 82.0     71590\n",
              "          ...  \n",
              " 116.0        2\n",
              " 119.0        1\n",
              " 120.0        1\n",
              " 127.0        1\n",
              " 129.0        1\n",
              " Name: count, Length: 123, dtype: int64)"
            ]
          },
          "execution_count": 31,
          "metadata": {},
          "output_type": "execute_result"
        }
      ],
      "source": [
        "# Distribuição dos valores nulos e não-nulos na coluna\n",
        "df['IDADE'].isnull().sum(), df['IDADE'].value_counts()"
      ]
    },
    {
      "cell_type": "markdown",
      "metadata": {
        "id": "rgZVUn4KUs-3"
      },
      "source": [
        "### Sexo"
      ]
    },
    {
      "cell_type": "markdown",
      "metadata": {
        "id": "QbN5rxNkUurf"
      },
      "source": [
        "* No processo de EDA da base, identificou-se que essa feature é representada pela seguinte legenda:\n",
        "  * 0: Ignorado\n",
        "  * 1: Masculino\n",
        "  * 2: Feminino\n",
        "\n",
        "* Essa feature não apresentava valores nulos, então somente foi realizada a remoção de outliers."
      ]
    },
    {
      "cell_type": "code",
      "execution_count": 32,
      "metadata": {
        "colab": {
          "base_uri": "https://localhost:8080/"
        },
        "id": "tqidCfT1VPMe",
        "outputId": "e8e7282a-b555-4c4a-b2a2-39faf0a7d2ca"
      },
      "outputs": [
        {
          "data": {
            "text/plain": [
              "SEXO\n",
              "1    1682993\n",
              "2    1362628\n",
              "0        154\n",
              "9         24\n",
              "Name: count, dtype: int64"
            ]
          },
          "execution_count": 32,
          "metadata": {},
          "output_type": "execute_result"
        }
      ],
      "source": [
        "df['SEXO'].value_counts()"
      ]
    },
    {
      "cell_type": "code",
      "execution_count": 33,
      "metadata": {
        "id": "0Gss6kpoVH4m"
      },
      "outputs": [],
      "source": [
        "df = df[df['SEXO'] != 9].reset_index(drop=True)"
      ]
    },
    {
      "cell_type": "code",
      "execution_count": 34,
      "metadata": {
        "colab": {
          "base_uri": "https://localhost:8080/"
        },
        "id": "NC1x3ISeVaPo",
        "outputId": "df975bf8-3913-497c-f17a-ee55b51a2a16"
      },
      "outputs": [
        {
          "data": {
            "text/plain": [
              "SEXO\n",
              "1    1682993\n",
              "2    1362628\n",
              "0        154\n",
              "Name: count, dtype: int64"
            ]
          },
          "execution_count": 34,
          "metadata": {},
          "output_type": "execute_result"
        }
      ],
      "source": [
        "df['SEXO'].value_counts()"
      ]
    },
    {
      "cell_type": "markdown",
      "metadata": {
        "id": "zW_0Mh-TD7DC"
      },
      "source": [
        "## Tratamento de features categóricas"
      ]
    },
    {
      "cell_type": "markdown",
      "metadata": {
        "id": "PG_y7n5yOaZS"
      },
      "source": [
        "### One Hot Enconding"
      ]
    },
    {
      "cell_type": "markdown",
      "metadata": {
        "id": "XWBgj0koOm1d"
      },
      "source": [
        "* Da forma que a feature SEXO está, o modelo pode acabar por inferir alguma relação ordinal entre os valores 'masculino' (1) e 'feminino' (2), o que não existe na realidade. Diferentemente de uma feature como escolaridade, por exemplo, em que quanto maior o valor numérico maior a escolaridade daquele indivíduo.\n",
        "* Para contornar isso, foi utilizada uma estratégia de one hot enconding, na qual essa coluna foi subdividida em duas, cada uma representando um dos estados possíveis (masculino ou feminino) podendo assumir os valores \"True\" ou \"False\"."
      ]
    },
    {
      "cell_type": "code",
      "execution_count": 35,
      "metadata": {
        "colab": {
          "base_uri": "https://localhost:8080/"
        },
        "id": "TsYJ1JFuUXys",
        "outputId": "2dbd08eb-5991-43c0-d685-ed7733a59e14"
      },
      "outputs": [
        {
          "data": {
            "text/plain": [
              "SEXO\n",
              "1    1682993\n",
              "2    1362628\n",
              "0        154\n",
              "Name: count, dtype: int64"
            ]
          },
          "execution_count": 35,
          "metadata": {},
          "output_type": "execute_result"
        }
      ],
      "source": [
        "# Os valores ignorados (iguais a 0) são muito poucos\n",
        "df['SEXO'].value_counts()"
      ]
    },
    {
      "cell_type": "code",
      "execution_count": 36,
      "metadata": {
        "id": "MblcmheeW5jZ"
      },
      "outputs": [],
      "source": [
        "df = df[df['SEXO'] != 0]"
      ]
    },
    {
      "cell_type": "code",
      "execution_count": 37,
      "metadata": {
        "id": "J10qzoVKyFWH"
      },
      "outputs": [],
      "source": [
        "# Criação e concatenação das novas colunas, assim como remoção da coluna antiga para a feature SEXO\n",
        "one_hot_sexo = pd.get_dummies(df['SEXO'], prefix='SEXO')\n",
        "df = pd.concat([df, one_hot_sexo], axis=1)\n",
        "df = df.rename(columns={'SEXO_1' : 'MASCULINO', 'SEXO_2' : 'FEMININO'}).drop(columns=['SEXO'])"
      ]
    },
    {
      "cell_type": "code",
      "execution_count": 38,
      "metadata": {
        "colab": {
          "base_uri": "https://localhost:8080/",
          "height": 143
        },
        "id": "OmlTfQxVP7Q7",
        "outputId": "436f63a7-a0f9-49da-f86d-136ec24c8f18"
      },
      "outputs": [
        {
          "data": {
            "text/html": [
              "<div>\n",
              "<style scoped>\n",
              "    .dataframe tbody tr th:only-of-type {\n",
              "        vertical-align: middle;\n",
              "    }\n",
              "\n",
              "    .dataframe tbody tr th {\n",
              "        vertical-align: top;\n",
              "    }\n",
              "\n",
              "    .dataframe thead th {\n",
              "        text-align: right;\n",
              "    }\n",
              "</style>\n",
              "<table border=\"1\" class=\"dataframe\">\n",
              "  <thead>\n",
              "    <tr style=\"text-align: right;\">\n",
              "      <th></th>\n",
              "      <th>ESC</th>\n",
              "      <th>ESTCIV</th>\n",
              "      <th>IDADE</th>\n",
              "      <th>NATURAL</th>\n",
              "      <th>OCUP</th>\n",
              "      <th>RACACOR</th>\n",
              "      <th>SUICIDIO</th>\n",
              "      <th>MASCULINO</th>\n",
              "      <th>FEMININO</th>\n",
              "    </tr>\n",
              "  </thead>\n",
              "  <tbody>\n",
              "    <tr>\n",
              "      <th>0</th>\n",
              "      <td>0.0</td>\n",
              "      <td>4.0</td>\n",
              "      <td>63.0</td>\n",
              "      <td>-1</td>\n",
              "      <td>999993.0</td>\n",
              "      <td>1.0</td>\n",
              "      <td>0</td>\n",
              "      <td>True</td>\n",
              "      <td>False</td>\n",
              "    </tr>\n",
              "    <tr>\n",
              "      <th>1</th>\n",
              "      <td>2.0</td>\n",
              "      <td>2.0</td>\n",
              "      <td>81.0</td>\n",
              "      <td>-1</td>\n",
              "      <td>214305.0</td>\n",
              "      <td>9.0</td>\n",
              "      <td>0</td>\n",
              "      <td>True</td>\n",
              "      <td>False</td>\n",
              "    </tr>\n",
              "    <tr>\n",
              "      <th>2</th>\n",
              "      <td>2.0</td>\n",
              "      <td>3.0</td>\n",
              "      <td>93.0</td>\n",
              "      <td>-1</td>\n",
              "      <td>514105.0</td>\n",
              "      <td>1.0</td>\n",
              "      <td>0</td>\n",
              "      <td>False</td>\n",
              "      <td>True</td>\n",
              "    </tr>\n",
              "  </tbody>\n",
              "</table>\n",
              "</div>"
            ],
            "text/plain": [
              "   ESC  ESTCIV  IDADE  NATURAL      OCUP  RACACOR  SUICIDIO  MASCULINO  \\\n",
              "0  0.0     4.0   63.0       -1  999993.0      1.0         0       True   \n",
              "1  2.0     2.0   81.0       -1  214305.0      9.0         0       True   \n",
              "2  2.0     3.0   93.0       -1  514105.0      1.0         0      False   \n",
              "\n",
              "   FEMININO  \n",
              "0     False  \n",
              "1     False  \n",
              "2      True  "
            ]
          },
          "execution_count": 38,
          "metadata": {},
          "output_type": "execute_result"
        }
      ],
      "source": [
        "# Como o dataframe ficou\n",
        "df.head(3)"
      ]
    },
    {
      "cell_type": "markdown",
      "metadata": {
        "id": "ga-h0Zi3XhcY"
      },
      "source": [
        "## Normalização"
      ]
    },
    {
      "cell_type": "markdown",
      "metadata": {
        "id": "Bc-OZ5BP9oMm"
      },
      "source": [
        "* As diferentes features numéricas da base apresentam escalas diferentes. Por exemplo, para a coluna ESC o valor 5 é o maior alto existente, enquanto para IDADE esse valor é 129. Para resolver esse problema, é importante fazer uma normalização dos dados."
      ]
    },
    {
      "cell_type": "code",
      "execution_count": 39,
      "metadata": {
        "id": "nkd0AWdoyFWJ"
      },
      "outputs": [],
      "source": [
        "#std = StandardScaler()\n",
        "#columns = ['ESC', 'ESTCIV', 'IDADE', 'OCUP', 'RACACOR']\n",
        "#df[columns] = std.fit_transform(df[columns])"
      ]
    },
    {
      "cell_type": "code",
      "execution_count": 40,
      "metadata": {
        "colab": {
          "base_uri": "https://localhost:8080/",
          "height": 424
        },
        "id": "e7ja8ILSyFWK",
        "outputId": "3de2b2da-6bfe-480d-949b-9de55516ed53"
      },
      "outputs": [
        {
          "data": {
            "text/html": [
              "<div>\n",
              "<style scoped>\n",
              "    .dataframe tbody tr th:only-of-type {\n",
              "        vertical-align: middle;\n",
              "    }\n",
              "\n",
              "    .dataframe tbody tr th {\n",
              "        vertical-align: top;\n",
              "    }\n",
              "\n",
              "    .dataframe thead th {\n",
              "        text-align: right;\n",
              "    }\n",
              "</style>\n",
              "<table border=\"1\" class=\"dataframe\">\n",
              "  <thead>\n",
              "    <tr style=\"text-align: right;\">\n",
              "      <th></th>\n",
              "      <th>ESC</th>\n",
              "      <th>ESTCIV</th>\n",
              "      <th>IDADE</th>\n",
              "      <th>NATURAL</th>\n",
              "      <th>OCUP</th>\n",
              "      <th>RACACOR</th>\n",
              "      <th>MASCULINO</th>\n",
              "      <th>FEMININO</th>\n",
              "      <th>SUICIDIO</th>\n",
              "    </tr>\n",
              "  </thead>\n",
              "  <tbody>\n",
              "    <tr>\n",
              "      <th>0</th>\n",
              "      <td>0.000000</td>\n",
              "      <td>4.0</td>\n",
              "      <td>63.0</td>\n",
              "      <td>-1</td>\n",
              "      <td>999993.0</td>\n",
              "      <td>1.0</td>\n",
              "      <td>True</td>\n",
              "      <td>False</td>\n",
              "      <td>0</td>\n",
              "    </tr>\n",
              "    <tr>\n",
              "      <th>1</th>\n",
              "      <td>2.000000</td>\n",
              "      <td>2.0</td>\n",
              "      <td>81.0</td>\n",
              "      <td>-1</td>\n",
              "      <td>214305.0</td>\n",
              "      <td>9.0</td>\n",
              "      <td>True</td>\n",
              "      <td>False</td>\n",
              "      <td>0</td>\n",
              "    </tr>\n",
              "    <tr>\n",
              "      <th>2</th>\n",
              "      <td>2.000000</td>\n",
              "      <td>3.0</td>\n",
              "      <td>93.0</td>\n",
              "      <td>-1</td>\n",
              "      <td>514105.0</td>\n",
              "      <td>1.0</td>\n",
              "      <td>False</td>\n",
              "      <td>True</td>\n",
              "      <td>0</td>\n",
              "    </tr>\n",
              "    <tr>\n",
              "      <th>3</th>\n",
              "      <td>2.000000</td>\n",
              "      <td>1.0</td>\n",
              "      <td>89.0</td>\n",
              "      <td>-2</td>\n",
              "      <td>214305.0</td>\n",
              "      <td>1.0</td>\n",
              "      <td>True</td>\n",
              "      <td>False</td>\n",
              "      <td>0</td>\n",
              "    </tr>\n",
              "    <tr>\n",
              "      <th>4</th>\n",
              "      <td>0.000000</td>\n",
              "      <td>3.0</td>\n",
              "      <td>80.0</td>\n",
              "      <td>-1</td>\n",
              "      <td>-1.0</td>\n",
              "      <td>1.0</td>\n",
              "      <td>False</td>\n",
              "      <td>True</td>\n",
              "      <td>0</td>\n",
              "    </tr>\n",
              "    <tr>\n",
              "      <th>...</th>\n",
              "      <td>...</td>\n",
              "      <td>...</td>\n",
              "      <td>...</td>\n",
              "      <td>...</td>\n",
              "      <td>...</td>\n",
              "      <td>...</td>\n",
              "      <td>...</td>\n",
              "      <td>...</td>\n",
              "      <td>...</td>\n",
              "    </tr>\n",
              "    <tr>\n",
              "      <th>3045770</th>\n",
              "      <td>1.000000</td>\n",
              "      <td>1.0</td>\n",
              "      <td>41.0</td>\n",
              "      <td>35</td>\n",
              "      <td>999993.0</td>\n",
              "      <td>9.0</td>\n",
              "      <td>False</td>\n",
              "      <td>True</td>\n",
              "      <td>0</td>\n",
              "    </tr>\n",
              "    <tr>\n",
              "      <th>3045771</th>\n",
              "      <td>2.300886</td>\n",
              "      <td>9.0</td>\n",
              "      <td>65.0</td>\n",
              "      <td>35</td>\n",
              "      <td>-1.0</td>\n",
              "      <td>1.0</td>\n",
              "      <td>True</td>\n",
              "      <td>False</td>\n",
              "      <td>0</td>\n",
              "    </tr>\n",
              "    <tr>\n",
              "      <th>3045772</th>\n",
              "      <td>2.000000</td>\n",
              "      <td>1.0</td>\n",
              "      <td>55.0</td>\n",
              "      <td>29</td>\n",
              "      <td>999993.0</td>\n",
              "      <td>4.0</td>\n",
              "      <td>True</td>\n",
              "      <td>False</td>\n",
              "      <td>0</td>\n",
              "    </tr>\n",
              "    <tr>\n",
              "      <th>3045773</th>\n",
              "      <td>2.000000</td>\n",
              "      <td>3.0</td>\n",
              "      <td>87.0</td>\n",
              "      <td>35</td>\n",
              "      <td>999993.0</td>\n",
              "      <td>1.0</td>\n",
              "      <td>True</td>\n",
              "      <td>False</td>\n",
              "      <td>0</td>\n",
              "    </tr>\n",
              "    <tr>\n",
              "      <th>3045774</th>\n",
              "      <td>2.000000</td>\n",
              "      <td>2.0</td>\n",
              "      <td>86.0</td>\n",
              "      <td>35</td>\n",
              "      <td>999993.0</td>\n",
              "      <td>1.0</td>\n",
              "      <td>True</td>\n",
              "      <td>False</td>\n",
              "      <td>0</td>\n",
              "    </tr>\n",
              "  </tbody>\n",
              "</table>\n",
              "<p>3045621 rows × 9 columns</p>\n",
              "</div>"
            ],
            "text/plain": [
              "              ESC  ESTCIV  IDADE  NATURAL      OCUP  RACACOR  MASCULINO  \\\n",
              "0        0.000000     4.0   63.0       -1  999993.0      1.0       True   \n",
              "1        2.000000     2.0   81.0       -1  214305.0      9.0       True   \n",
              "2        2.000000     3.0   93.0       -1  514105.0      1.0      False   \n",
              "3        2.000000     1.0   89.0       -2  214305.0      1.0       True   \n",
              "4        0.000000     3.0   80.0       -1      -1.0      1.0      False   \n",
              "...           ...     ...    ...      ...       ...      ...        ...   \n",
              "3045770  1.000000     1.0   41.0       35  999993.0      9.0      False   \n",
              "3045771  2.300886     9.0   65.0       35      -1.0      1.0       True   \n",
              "3045772  2.000000     1.0   55.0       29  999993.0      4.0       True   \n",
              "3045773  2.000000     3.0   87.0       35  999993.0      1.0       True   \n",
              "3045774  2.000000     2.0   86.0       35  999993.0      1.0       True   \n",
              "\n",
              "         FEMININO  SUICIDIO  \n",
              "0           False         0  \n",
              "1           False         0  \n",
              "2            True         0  \n",
              "3           False         0  \n",
              "4            True         0  \n",
              "...           ...       ...  \n",
              "3045770      True         0  \n",
              "3045771     False         0  \n",
              "3045772     False         0  \n",
              "3045773     False         0  \n",
              "3045774     False         0  \n",
              "\n",
              "[3045621 rows x 9 columns]"
            ]
          },
          "execution_count": 40,
          "metadata": {},
          "output_type": "execute_result"
        }
      ],
      "source": [
        "df = df[['ESC', 'ESTCIV', 'IDADE', 'NATURAL', 'OCUP', 'RACACOR', 'MASCULINO', 'FEMININO', 'SUICIDIO']]\n",
        "df"
      ]
    },
    {
      "cell_type": "markdown",
      "metadata": {
        "id": "vTjIvEejDqap"
      },
      "source": [
        "## Salvamento dos dados pré-processados"
      ]
    },
    {
      "cell_type": "code",
      "execution_count": 41,
      "metadata": {
        "id": "NbCOkk_-yFWK"
      },
      "outputs": [],
      "source": [
        "df.to_parquet(\"../data/processed/prototype1.parquet\")"
      ]
    }
  ],
  "metadata": {
    "colab": {
      "provenance": []
    },
    "kernelspec": {
      "display_name": "apoio-venv",
      "language": "python",
      "name": "apoio-venv"
    },
    "language_info": {
      "codemirror_mode": {
        "name": "ipython",
        "version": 3
      },
      "file_extension": ".py",
      "mimetype": "text/x-python",
      "name": "python",
      "nbconvert_exporter": "python",
      "pygments_lexer": "ipython3",
      "version": "3.10.12"
    }
  },
  "nbformat": 4,
  "nbformat_minor": 0
}
